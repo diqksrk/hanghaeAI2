{
 "cells": [
  {
   "cell_type": "markdown",
   "metadata": {},
   "source": [
    "# 심화과제: Pre-trained모델로 효율적인 NLP 모델 학습하기\n",
    "\n",
    "이번 실습에서는 pre-trained된 DistilBERT를 불러와 이전 주차 실습에서 사용하던 감정 분석 문제에 적용합니다. 먼저 필요한 library들을 불러옵니다."
   ]
  },
  {
   "cell_type": "code",
   "execution_count": 4,
   "metadata": {},
   "outputs": [
    {
     "name": "stdout",
     "output_type": "stream",
     "text": [
      "Requirement already satisfied: tqdm in /opt/homebrew/lib/python3.12/site-packages (4.67.1)\n",
      "Requirement already satisfied: boto3 in /opt/homebrew/lib/python3.12/site-packages (1.35.90)\n",
      "Requirement already satisfied: requests in /opt/homebrew/lib/python3.12/site-packages (2.32.3)\n",
      "Requirement already satisfied: regex in /opt/homebrew/lib/python3.12/site-packages (2024.11.6)\n",
      "Requirement already satisfied: sentencepiece in /opt/homebrew/lib/python3.12/site-packages (0.2.0)\n",
      "Requirement already satisfied: sacremoses in /opt/homebrew/lib/python3.12/site-packages (0.1.1)\n",
      "Requirement already satisfied: datasets in /opt/homebrew/lib/python3.12/site-packages (3.2.0)\n",
      "Requirement already satisfied: botocore<1.36.0,>=1.35.90 in /opt/homebrew/lib/python3.12/site-packages (from boto3) (1.35.90)\n",
      "Requirement already satisfied: jmespath<2.0.0,>=0.7.1 in /opt/homebrew/lib/python3.12/site-packages (from boto3) (1.0.1)\n",
      "Requirement already satisfied: s3transfer<0.11.0,>=0.10.0 in /opt/homebrew/lib/python3.12/site-packages (from boto3) (0.10.4)\n",
      "Requirement already satisfied: charset-normalizer<4,>=2 in /opt/homebrew/lib/python3.12/site-packages (from requests) (3.4.1)\n",
      "Requirement already satisfied: idna<4,>=2.5 in /opt/homebrew/lib/python3.12/site-packages (from requests) (3.10)\n",
      "Requirement already satisfied: urllib3<3,>=1.21.1 in /opt/homebrew/lib/python3.12/site-packages (from requests) (2.3.0)\n",
      "Requirement already satisfied: certifi>=2017.4.17 in /opt/homebrew/lib/python3.12/site-packages (from requests) (2024.12.14)\n",
      "Requirement already satisfied: click in /opt/homebrew/lib/python3.12/site-packages (from sacremoses) (8.1.8)\n",
      "Requirement already satisfied: joblib in /opt/homebrew/lib/python3.12/site-packages (from sacremoses) (1.4.2)\n",
      "Requirement already satisfied: filelock in /opt/homebrew/lib/python3.12/site-packages (from datasets) (3.16.1)\n",
      "Requirement already satisfied: numpy>=1.17 in /opt/homebrew/lib/python3.12/site-packages (from datasets) (2.2.1)\n",
      "Requirement already satisfied: pyarrow>=15.0.0 in /opt/homebrew/lib/python3.12/site-packages (from datasets) (18.1.0)\n",
      "Requirement already satisfied: dill<0.3.9,>=0.3.0 in /opt/homebrew/lib/python3.12/site-packages (from datasets) (0.3.8)\n",
      "Requirement already satisfied: pandas in /opt/homebrew/lib/python3.12/site-packages (from datasets) (2.2.3)\n",
      "Requirement already satisfied: xxhash in /opt/homebrew/lib/python3.12/site-packages (from datasets) (3.5.0)\n",
      "Requirement already satisfied: multiprocess<0.70.17 in /opt/homebrew/lib/python3.12/site-packages (from datasets) (0.70.16)\n",
      "Requirement already satisfied: fsspec<=2024.9.0,>=2023.1.0 in /opt/homebrew/lib/python3.12/site-packages (from fsspec[http]<=2024.9.0,>=2023.1.0->datasets) (2024.9.0)\n",
      "Requirement already satisfied: aiohttp in /opt/homebrew/lib/python3.12/site-packages (from datasets) (3.11.11)\n",
      "Requirement already satisfied: huggingface-hub>=0.23.0 in /opt/homebrew/lib/python3.12/site-packages (from datasets) (0.27.0)\n",
      "Requirement already satisfied: packaging in /Users/user/Library/Python/3.12/lib/python/site-packages (from datasets) (24.2)\n",
      "Requirement already satisfied: pyyaml>=5.1 in /opt/homebrew/lib/python3.12/site-packages (from datasets) (6.0.2)\n",
      "Requirement already satisfied: python-dateutil<3.0.0,>=2.1 in /Users/user/Library/Python/3.12/lib/python/site-packages (from botocore<1.36.0,>=1.35.90->boto3) (2.9.0.post0)\n",
      "Requirement already satisfied: aiohappyeyeballs>=2.3.0 in /opt/homebrew/lib/python3.12/site-packages (from aiohttp->datasets) (2.4.4)\n",
      "Requirement already satisfied: aiosignal>=1.1.2 in /opt/homebrew/lib/python3.12/site-packages (from aiohttp->datasets) (1.3.2)\n",
      "Requirement already satisfied: attrs>=17.3.0 in /opt/homebrew/lib/python3.12/site-packages (from aiohttp->datasets) (24.3.0)\n",
      "Requirement already satisfied: frozenlist>=1.1.1 in /opt/homebrew/lib/python3.12/site-packages (from aiohttp->datasets) (1.5.0)\n",
      "Requirement already satisfied: multidict<7.0,>=4.5 in /opt/homebrew/lib/python3.12/site-packages (from aiohttp->datasets) (6.1.0)\n",
      "Requirement already satisfied: propcache>=0.2.0 in /opt/homebrew/lib/python3.12/site-packages (from aiohttp->datasets) (0.2.1)\n",
      "Requirement already satisfied: yarl<2.0,>=1.17.0 in /opt/homebrew/lib/python3.12/site-packages (from aiohttp->datasets) (1.18.3)\n",
      "Requirement already satisfied: typing-extensions>=3.7.4.3 in /opt/homebrew/lib/python3.12/site-packages (from huggingface-hub>=0.23.0->datasets) (4.12.2)\n",
      "Requirement already satisfied: pytz>=2020.1 in /opt/homebrew/lib/python3.12/site-packages (from pandas->datasets) (2024.2)\n",
      "Requirement already satisfied: tzdata>=2022.7 in /opt/homebrew/lib/python3.12/site-packages (from pandas->datasets) (2024.2)\n",
      "Requirement already satisfied: six>=1.5 in /Users/user/Library/Python/3.12/lib/python/site-packages (from python-dateutil<3.0.0,>=2.1->botocore<1.36.0,>=1.35.90->boto3) (1.17.0)\n"
     ]
    }
   ],
   "source": [
    "!pip install tqdm boto3 requests regex sentencepiece sacremoses datasets"
   ]
  },
  {
   "cell_type": "markdown",
   "metadata": {},
   "source": [
    "그 후, 우리가 사용하는 DistilBERT pre-training 때 사용한 tokenizer를 불러옵니다."
   ]
  },
  {
   "cell_type": "code",
   "execution_count": 5,
   "metadata": {},
   "outputs": [],
   "source": [
    "from transformers import DistilBertTokenizer\n",
    "\n",
    "# Load tokenizer and dataset\n",
    "tokenizer = DistilBertTokenizer.from_pretrained('distilbert-base-uncased')"
   ]
  },
  {
   "cell_type": "markdown",
   "metadata": {},
   "source": [
    "## [MY CODE]\n",
    "DistilBERT의 tokenizer를 불러왔으면 이제 `collate_fn`과 data loader를 정의합니다. 두 문장이 연속되 있는지 판단하는 문제이므로, 해당 두 문장을 서로 이어진 한문장으로 만들게 collate_fn 함수를 수정합니다. attention_mask를 추가하였는데, 기존의 padding처리 가중치를 0으로 두기 위해 다음과 같이 진행했습니다."
   ]
  },
  {
   "cell_type": "code",
   "execution_count": 6,
   "metadata": {},
   "outputs": [],
   "source": [
    "# collate_fn function\n",
    "def collate_fn(batch):\n",
    "    max_len = 512\n",
    "    texts, labels = [], []\n",
    "\n",
    "    for row in batch:\n",
    "        sentence1 = row['premise']\n",
    "        sentence2 = row['hypothesis']\n",
    "        # 두개의 서로 다른 premise, hypothesis 문장을 합쳐서 하나의 문장으로 만들어줍니다.\n",
    "        combined_text = f\"{sentence1} [SEP] {sentence2}\"\n",
    "        texts.append(combined_text)\n",
    "        labels.append(row['label'])  # 0: entailment, 1: neutral, 2: contradiction\n",
    "\n",
    "    tokenized = tokenizer(texts, padding=True, truncation=True, max_length=max_len, return_tensors=\"pt\")\n",
    "    input_ids = tokenized['input_ids']\n",
    "    attention_mask = tokenized['attention_mask']\n",
    "    labels = torch.LongTensor(labels)\n",
    "\n",
    "    return input_ids, attention_mask, labels"
   ]
  },
  {
   "cell_type": "markdown",
   "metadata": {},
   "source": [
    "## [MY CODE]\n",
    "mnli 데이터셋을 가져오고 Custom dataset을 만듭니다."
   ]
  },
  {
   "cell_type": "code",
   "execution_count": 11,
   "metadata": {},
   "outputs": [
    {
     "name": "stdout",
     "output_type": "stream",
     "text": [
      "Unique label values: [1, 0, 2]\n"
     ]
    }
   ],
   "source": [
    "from datasets import load_dataset\n",
    "from torch.utils.data import DataLoader, Subset\n",
    "import random\n",
    "\n",
    "ds = load_dataset(\"glue\", \"mnli\")\n",
    "BATCH_SIZE = 16\n",
    "\n",
    "# 하면 안되지만... 학습 시간이 너무 오래걸려서 데이터셋을 줄여서 학습합니다.\n",
    "train_size = len(ds['train'])\n",
    "indices = list(range(train_size))\n",
    "random.shuffle(indices)\n",
    "reduced_indices = indices[:train_size // 2]\n",
    "reduced_train_dataset = Subset(ds['train'], reduced_indices)\n",
    "\n",
    "train_loader = DataLoader(reduced_train_dataset, batch_size=BATCH_SIZE, shuffle=True, collate_fn=collate_fn)\n",
    "test_loader = DataLoader(ds['validation_matched'], batch_size=BATCH_SIZE, shuffle=False, collate_fn=collate_fn)\n",
    "\n",
    "# label 열의 고유 값 확인\n",
    "unique_labels = ds['train'].unique('label')\n",
    "print(f\"Unique label values: {unique_labels}\")"
   ]
  },
  {
   "cell_type": "markdown",
   "metadata": {},
   "source": [
    "## [MY CODE]\n",
    "\n",
    "텍스트 분류 작업에 바로 사용하려는 경우 적합한 DistilBertForSequenceClassification를 모델로 사용했습니다.\n",
    "DistilBERT의 기본 구조 위에 분류를 위한 헤드(head)가 추가된 모델이고 분류 헤드는 DistilBERT의 마지막 CLS 토큰을 입력으로 받아, 로짓(logits)을 출력합니다.\n",
    "모델의 출력으로는 위에서 보시다싶이, 1, 0 ,2 로 구성되어 있기에 3을 입력합니다.\n",
    "\n",
    "옵티마이저도 기존 Adam보다는 weight decay 기능이 추가된 AdamW를 사용했습니다."
   ]
  },
  {
   "cell_type": "code",
   "execution_count": 17,
   "metadata": {},
   "outputs": [
    {
     "name": "stderr",
     "output_type": "stream",
     "text": [
      "Some weights of DistilBertForSequenceClassification were not initialized from the model checkpoint at distilbert-base-uncased and are newly initialized: ['classifier.bias', 'classifier.weight', 'pre_classifier.bias', 'pre_classifier.weight']\n",
      "You should probably TRAIN this model on a down-stream task to be able to use it for predictions and inference.\n"
     ]
    },
    {
     "name": "stdout",
     "output_type": "stream",
     "text": [
      "DistilBertForSequenceClassification(\n",
      "  (distilbert): DistilBertModel(\n",
      "    (embeddings): Embeddings(\n",
      "      (word_embeddings): Embedding(30522, 768, padding_idx=0)\n",
      "      (position_embeddings): Embedding(512, 768)\n",
      "      (LayerNorm): LayerNorm((768,), eps=1e-12, elementwise_affine=True)\n",
      "      (dropout): Dropout(p=0.1, inplace=False)\n",
      "    )\n",
      "    (transformer): Transformer(\n",
      "      (layer): ModuleList(\n",
      "        (0-5): 6 x TransformerBlock(\n",
      "          (attention): DistilBertSdpaAttention(\n",
      "            (dropout): Dropout(p=0.1, inplace=False)\n",
      "            (q_lin): Linear(in_features=768, out_features=768, bias=True)\n",
      "            (k_lin): Linear(in_features=768, out_features=768, bias=True)\n",
      "            (v_lin): Linear(in_features=768, out_features=768, bias=True)\n",
      "            (out_lin): Linear(in_features=768, out_features=768, bias=True)\n",
      "          )\n",
      "          (sa_layer_norm): LayerNorm((768,), eps=1e-12, elementwise_affine=True)\n",
      "          (ffn): FFN(\n",
      "            (dropout): Dropout(p=0.1, inplace=False)\n",
      "            (lin1): Linear(in_features=768, out_features=3072, bias=True)\n",
      "            (lin2): Linear(in_features=3072, out_features=768, bias=True)\n",
      "            (activation): GELUActivation()\n",
      "          )\n",
      "          (output_layer_norm): LayerNorm((768,), eps=1e-12, elementwise_affine=True)\n",
      "        )\n",
      "      )\n",
      "    )\n",
      "  )\n",
      "  (pre_classifier): Linear(in_features=768, out_features=768, bias=True)\n",
      "  (classifier): Linear(in_features=768, out_features=3, bias=True)\n",
      "  (dropout): Dropout(p=0.2, inplace=False)\n",
      ")\n"
     ]
    }
   ],
   "source": [
    "from transformers import DistilBertTokenizer, DistilBertForSequenceClassification, AdamW\n",
    "\n",
    "model = DistilBertForSequenceClassification.from_pretrained('distilbert-base-uncased', num_labels=3)\n",
    "\n",
    "# Optimizer\n",
    "optimizer = AdamW(model.parameters(), lr=2e-5)\n",
    "\n",
    "print(model)"
   ]
  },
  {
   "cell_type": "markdown",
   "metadata": {},
   "source": [
    "## [MY CODE]\n",
    "분류작업이므로 정확도 함수 역시 preds = torch.argmax(outputs.logits, dim=-1)  다음과 같이 argmax 함수를 사용합니다."
   ]
  },
  {
   "cell_type": "code",
   "execution_count": 18,
   "metadata": {},
   "outputs": [],
   "source": [
    "def accuracy(model, dataloader):\n",
    "    cnt = 0\n",
    "    acc = 0\n",
    "\n",
    "    model.eval()  # Evaluation 모드 활성화\n",
    "    with torch.no_grad():  # 그래디언트 계산 비활성화\n",
    "        for input_ids, attention_mask, labels in dataloader:\n",
    "            # 데이터 로드\n",
    "            input_ids = input_ids.to(device)\n",
    "            attention_mask = attention_mask.to(device)\n",
    "            labels = labels.to(device)\n",
    "\n",
    "            # 모델 예측\n",
    "            outputs = model(input_ids=input_ids, attention_mask=attention_mask)\n",
    "            preds = torch.argmax(outputs.logits, dim=-1)  # logits에서 예측값 추출\n",
    "\n",
    "            # 정확도 계산\n",
    "            cnt += labels.size(0)\n",
    "            acc += (preds == labels).sum().item()\n",
    "\n",
    "    return acc / cnt"
   ]
  },
  {
   "cell_type": "markdown",
   "metadata": {},
   "source": [
    "각 Epoch별 결과를 확인하기 위해 학습과 정확도 평가를 진행합니다. 기존과 틀린 부분은 찾아보니 model.zero_grad() 보다는 optimizer.zero_grad()를 사용해서 optimizer의 가중치만 초기화하여 학습을 더욱 원활하게 한다고 하여 해당 코드 역시 수정하였습니다. 아래는 pre trained 된 모델을 사용한 결과입니다."
   ]
  },
  {
   "cell_type": "code",
   "execution_count": 1,
   "metadata": {},
   "outputs": [
    {
     "name": "stderr",
     "output_type": "stream",
     "text": [
      "/opt/homebrew/lib/python3.12/site-packages/tqdm/auto.py:21: TqdmWarning: IProgress not found. Please update jupyter and ipywidgets. See https://ipywidgets.readthedocs.io/en/stable/user_install.html\n",
      "  from .autonotebook import tqdm as notebook_tqdm\n",
      "Some weights of DistilBertForSequenceClassification were not initialized from the model checkpoint at distilbert-base-uncased and are newly initialized: ['classifier.bias', 'classifier.weight', 'pre_classifier.bias', 'pre_classifier.weight']\n",
      "You should probably TRAIN this model on a down-stream task to be able to use it for predictions and inference.\n",
      "/opt/homebrew/lib/python3.12/site-packages/transformers/optimization.py:591: FutureWarning: This implementation of AdamW is deprecated and will be removed in a future version. Use the PyTorch implementation torch.optim.AdamW instead, or set `no_deprecation_warning=True` to disable this warning\n",
      "  warnings.warn(\n"
     ]
    },
    {
     "name": "stdout",
     "output_type": "stream",
     "text": [
      "Epoch   0 | Train Loss: 7764.4812\n",
      "=========> Train acc: 0.843 | Test acc: 0.787| Duration: 2917.89 seconds\n",
      "Epoch   1 | Train Loss: 5429.9649\n",
      "=========> Train acc: 0.912 | Test acc: 0.799| Duration: 3044.92 seconds\n",
      "Epoch   2 | Train Loss: 3841.5922\n",
      "=========> Train acc: 0.955 | Test acc: 0.797| Duration: 3032.90 seconds\n",
      "Epoch   3 | Train Loss: 2669.9236\n",
      "=========> Train acc: 0.975 | Test acc: 0.799| Duration: 3025.37 seconds\n",
      "Epoch   4 | Train Loss: 1898.5986\n",
      "=========> Train acc: 0.986 | Test acc: 0.794| Duration: 3039.00 seconds\n",
      "Epoch   5 | Train Loss: 1444.5731\n",
      "=========> Train acc: 0.991 | Test acc: 0.800| Duration: 3118.63 seconds\n",
      "Epoch   6 | Train Loss: 1138.3612\n",
      "=========> Train acc: 0.994 | Test acc: 0.790| Duration: 3095.92 seconds\n",
      "Epoch   7 | Train Loss: 949.3996\n",
      "=========> Train acc: 0.995 | Test acc: 0.790| Duration: 3085.80 seconds\n",
      "Epoch   8 | Train Loss: 822.7333\n",
      "=========> Train acc: 0.996 | Test acc: 0.790| Duration: 3095.89 seconds\n",
      "Epoch   9 | Train Loss: 716.9960\n",
      "=========> Train acc: 0.997 | Test acc: 0.791| Duration: 3093.70 seconds\n"
     ]
    }
   ],
   "source": [
    "import time\n",
    "\n",
    "device = torch.device(\"mps\")\n",
    "model = model.to(device)\n",
    "\n",
    "# Training loop\n",
    "n_epochs = 10\n",
    "train_loss_list = []\n",
    "total_loss_list = []\n",
    "train_acc_list = []\n",
    "test_acc_list = []\n",
    "\n",
    "for epoch in range(n_epochs):\n",
    "    start_time = time.time()  # epoch 시작 시간 기록\n",
    "    model.train()\n",
    "    total_loss = 0\n",
    "\n",
    "    for input_ids, attention_mask, labels in train_loader:\n",
    "        input_ids = input_ids.to(device)\n",
    "        attention_mask = attention_mask.to(device)\n",
    "        labels = labels.to(device)\n",
    "\n",
    "        # Model.zero_grad()를 대신하여 사용\n",
    "        optimizer.zero_grad()\n",
    "        outputs = model(\n",
    "            input_ids=input_ids,\n",
    "            attention_mask=attention_mask,\n",
    "            labels=labels\n",
    "        )\n",
    "\n",
    "        loss = outputs.loss\n",
    "        total_loss += loss.item()\n",
    "\n",
    "        loss.backward()\n",
    "        optimizer.step()\n",
    "    print(f\"Epoch {epoch:3d} | Train Loss: {total_loss:.4f}\")\n",
    "\n",
    "    with torch.no_grad():\n",
    "        model.eval()\n",
    "        train_acc = accuracy(model, train_loader)\n",
    "        test_acc = accuracy(model, test_loader)\n",
    "        train_acc_list.append(train_acc)\n",
    "        test_acc_list.append(test_acc)\n",
    "        total_loss_list.append(total_loss)\n",
    "        train_loss_list.append(total_loss / len(train_loader))\n",
    "        end_time = time.time()  # epoch 끝 시간 기록\n",
    "        epoch_duration = end_time - start_time  # 걸린 시간 계산\n",
    "        print(f\"=========> Train acc: {train_acc:.3f} | Test acc: {test_acc:.3f}| Duration: {epoch_duration:.2f} seconds\")"
   ]
  },
  {
   "cell_type": "markdown",
   "metadata": {},
   "source": [
    "## [MY CODE]\n",
    "위의 코드에서 pre trained 되 모델만 non pre trainded 된 모델로 바꾸고 역시 학습을 진행합니다. "
   ]
  },
  {
   "cell_type": "code",
   "execution_count": 20,
   "metadata": {},
   "outputs": [
    {
     "data": {
      "text/plain": [
       "DistilBertForSequenceClassification(\n",
       "  (distilbert): DistilBertModel(\n",
       "    (embeddings): Embeddings(\n",
       "      (word_embeddings): Embedding(30522, 768, padding_idx=0)\n",
       "      (position_embeddings): Embedding(512, 768)\n",
       "      (LayerNorm): LayerNorm((768,), eps=1e-12, elementwise_affine=True)\n",
       "      (dropout): Dropout(p=0.1, inplace=False)\n",
       "    )\n",
       "    (transformer): Transformer(\n",
       "      (layer): ModuleList(\n",
       "        (0-5): 6 x TransformerBlock(\n",
       "          (attention): DistilBertSdpaAttention(\n",
       "            (dropout): Dropout(p=0.1, inplace=False)\n",
       "            (q_lin): Linear(in_features=768, out_features=768, bias=True)\n",
       "            (k_lin): Linear(in_features=768, out_features=768, bias=True)\n",
       "            (v_lin): Linear(in_features=768, out_features=768, bias=True)\n",
       "            (out_lin): Linear(in_features=768, out_features=768, bias=True)\n",
       "          )\n",
       "          (sa_layer_norm): LayerNorm((768,), eps=1e-12, elementwise_affine=True)\n",
       "          (ffn): FFN(\n",
       "            (dropout): Dropout(p=0.1, inplace=False)\n",
       "            (lin1): Linear(in_features=768, out_features=3072, bias=True)\n",
       "            (lin2): Linear(in_features=3072, out_features=768, bias=True)\n",
       "            (activation): GELUActivation()\n",
       "          )\n",
       "          (output_layer_norm): LayerNorm((768,), eps=1e-12, elementwise_affine=True)\n",
       "        )\n",
       "      )\n",
       "    )\n",
       "  )\n",
       "  (pre_classifier): Linear(in_features=768, out_features=768, bias=True)\n",
       "  (classifier): Linear(in_features=768, out_features=3, bias=True)\n",
       "  (dropout): Dropout(p=0.2, inplace=False)\n",
       ")"
      ]
     },
     "execution_count": 20,
     "metadata": {},
     "output_type": "execute_result"
    }
   ],
   "source": [
    "from transformers import DistilBertConfig, DistilBertForSequenceClassification\n",
    "\n",
    "config = DistilBertConfig.from_pretrained('distilbert-base-uncased', num_labels=3)\n",
    "model = DistilBertForSequenceClassification(config)\n",
    "\n",
    "model"
   ]
  },
  {
   "cell_type": "markdown",
   "metadata": {},
   "source": [
    "역시 non pre trained 모델 역시 epoch를 돌려 결과를 확인합니다."
   ]
  },
  {
   "cell_type": "code",
   "execution_count": null,
   "metadata": {},
   "outputs": [],
   "source": [
    "# Training loop\n",
    "n_epochs = 10\n",
    "train_loss_list = []\n",
    "total_loss_list = []\n",
    "train_acc_list = []\n",
    "test_acc_list = []\n",
    "\n",
    "for epoch in range(n_epochs):\n",
    "    start_time = time.time()  # epoch 시작 시간 기록\n",
    "    model.train()\n",
    "    total_loss = 0\n",
    "\n",
    "    for input_ids, attention_mask, labels in train_loader:\n",
    "        input_ids = input_ids.to(device)\n",
    "        attention_mask = attention_mask.to(device)\n",
    "        labels = labels.to(device)\n",
    "\n",
    "        optimizer.zero_grad()\n",
    "        outputs = model(\n",
    "            input_ids=input_ids,\n",
    "            attention_mask=attention_mask,\n",
    "            labels=labels\n",
    "        )\n",
    "\n",
    "        loss = outputs.loss\n",
    "        total_loss += loss.item()\n",
    "\n",
    "        loss.backward()\n",
    "        optimizer.step()\n",
    "    print(f\"Epoch {epoch:3d} | Train Loss: {total_loss:.4f}\")\n",
    "\n",
    "    with torch.no_grad():\n",
    "        model.eval()\n",
    "        train_acc = accuracy(model, train_loader)\n",
    "        test_acc = accuracy(model, test_loader)\n",
    "        train_acc_list.append(train_acc)\n",
    "        test_acc_list.append(test_acc)\n",
    "        total_loss_list.append(total_loss)\n",
    "        train_loss_list.append(total_loss / len(train_loader))\n",
    "        end_time = time.time()  # epoch 끝 시간 기록\n",
    "        epoch_duration = end_time - start_time  # 걸린 시간 계산\n",
    "        print(f\"=========> Train acc: {train_acc:.3f} | Test acc: {test_acc:.3f}| Duration: {epoch_duration:.2f} seconds\")"
   ]
  },
  {
   "cell_type": "markdown",
   "metadata": {},
   "source": [
    "## [LOG]\n",
    "Epoch   0 | Train Loss: 12494.1123<br/>\n",
    "=========> Train acc: 0.527 | Test acc: 0.518| Duration: 2019.40 seconds<br/>\n",
    "Epoch   1 | Train Loss: 11488.2467<br/>\n",
    "=========> Train acc: 0.582 | Test acc: 0.540| Duration: 2023.26 seconds<br/>\n",
    "Epoch   2 | Train Loss: 10753.2477<br/>\n",
    "=========> Train acc: 0.637 | Test acc: 0.567| Duration: 2023.44 seconds<br/>\n",
    "Epoch   3 | Train Loss: 10095.8543<br/>\n",
    "=========> Train acc: 0.680 | Test acc: 0.594| Duration: 2024.59 seconds<br/>\n",
    "Epoch   4 | Train Loss: 9365.8667<br/>\n",
    "=========> Train acc: 0.725 | Test acc: 0.585| Duration: 2024.88 seconds<br/>\n",
    "Epoch   5 | Train Loss: 8577.0649<br/>\n",
    "=========> Train acc: 0.762 | Test acc: 0.584| Duration: 2018.12 seconds<br/>\n",
    "Epoch   6 | Train Loss: 7832.2462<br/>\n",
    "=========> Train acc: 0.802 | Test acc: 0.597| Duration: 2025.87 seconds<br/>\n",
    "Epoch   7 | Train Loss: 7101.2893<br/>\n",
    "=========> Train acc: 0.831 | Test acc: 0.603| Duration: 2021.98 seconds<br/>\n",
    "Epoch   8 | Train Loss: 6400.9827<br/>\n",
    "=========> Train acc: 0.851 | Test acc: 0.604| Duration: 2024.56 seconds<br/>\n",
    "Epoch   9 | Train Loss: 5700.2349<br/>\n",
    "=========> Train acc: 0.873 | Test acc: 0.612| Duration: 2022.08 seconds<br/>"
   ]
  },
  {
   "cell_type": "markdown",
   "metadata": {},
   "source": [
    "## [MY CODE] \n",
    "위의 pre trained 모델과 non pre trained 모델의 바교값을 확인합니다."
   ]
  },
  {
   "cell_type": "code",
   "execution_count": 39,
   "metadata": {},
   "outputs": [
    {
     "data": {
      "image/png": "[encoded data removed]",
      "text/plain": [
       "<Figure size 640x480 with 1 Axes>"
      ]
     },
     "metadata": {},
     "output_type": "display_data"
    }
   ],
   "source": [
    "import matplotlib.pyplot as plt\n",
    "import numpy as np\n",
    "\n",
    "pre_train_train_acc_list = [0.843, 0.912, 0.955, 0.975, 0.986, 0.991, 0.994, 0.995, 0.996, 0.997]\n",
    "pre_train_test_acc_list = [0.787, 0.799, 0.797, 0.799, 0.794, 0.800, 0.790, 0.790, 0.790, 0.791]\n",
    "\n",
    "non_pre_train_train_acc_list = [0.527, 0.582, 0.637, 0.680, 0.725, 0.762, 0.802, 0.831, 0.851, 0.873]\n",
    "non_pre_train_test_acc_list = [0.518, 0.540, 0.567, 0.594, 0.585, 0.584, 0.597, 0.603, 0.604, 0.612]\n",
    "\n",
    "def plot_acc(pre_train_train_acc_list, pre_train_test_acc_list,non_pre_train_train_acc_list, non_pre_train_test_acc_list):\n",
    "    x = np.arange(len(pre_train_train_acc_list))\n",
    "\n",
    "    plt.plot(x, pre_train_train_acc_list, label=\"pre_trained_model_train_acc_list\")\n",
    "    plt.plot(x, pre_train_test_acc_list, label=\"pre_train_model_test_acc_list\")\n",
    "    plt.plot(x, non_pre_train_train_acc_list, label=\"non_pre_trained_model_train_acc_list\")\n",
    "    plt.plot(x, non_pre_train_test_acc_list, label=\"non_pre_trained_model_test_acc_list\")    \n",
    "    plt.legend()\n",
    "    plt.show()\n",
    "\n",
    "plot_acc(pre_train_train_acc_list, pre_train_test_acc_list, non_pre_train_train_acc_list, non_pre_train_test_acc_list)"
   ]
  }
 ],
 "metadata": {
  "kernelspec": {
   "display_name": "Python 3",
   "language": "python",
   "name": "python3"
  },
  "language_info": {
   "codemirror_mode": {
    "name": "ipython",
    "version": 3
   },
   "file_extension": ".py",
   "mimetype": "text/x-python",
   "name": "python",
   "nbconvert_exporter": "python",
   "pygments_lexer": "ipython3",
   "version": "3.12.8"
  }
 },
 "nbformat": 4,
 "nbformat_minor": 2
}
