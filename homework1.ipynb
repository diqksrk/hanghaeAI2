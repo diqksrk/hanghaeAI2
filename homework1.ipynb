{
  "nbformat": 4,
  "nbformat_minor": 0,
  "metadata": {
    "colab": {
      "provenance": [],
      "gpuType": "T4",
      "authorship_tag": "ABX9TyNKFZXqbKWit9Lz5NuXH9v3",
      "include_colab_link": true
    },
    "kernelspec": {
      "name": "python3",
      "display_name": "Python 3"
    },
    "language_info": {
      "name": "python"
    },
    "accelerator": "GPU"
  },
  "cells": [
    {
      "cell_type": "markdown",
      "metadata": {
        "id": "view-in-github",
        "colab_type": "text"
      },
      "source": [
        "<a href=\"https://colab.research.google.com/github/diqksrk/hanghaeAI2/blob/main/%08homework1.ipynb\" target=\"_parent\"><img src=\"https://colab.research.google.com/assets/colab-badge.svg\" alt=\"Open In Colab\"/></a>"
      ]
    },
    {
      "cell_type": "markdown",
      "source": [
        "##기본 과제 전체 코드 및 출력 포함"
      ],
      "metadata": {
        "id": "eKfSpHm_P03R"
      }
    },
    {
      "cell_type": "code",
      "execution_count": 4,
      "metadata": {
        "colab": {
          "base_uri": "https://localhost:8080/",
          "height": 1000
        },
        "id": "-zqN5TTBGXoK",
        "outputId": "d2b12655-3969-4402-d036-a747cfd28dcf"
      },
      "outputs": [
        {
          "output_type": "stream",
          "name": "stdout",
          "text": [
            "Epoch   0 | Loss: 539.6925 | Train Acc: 0.1410 | Test Acc: 0.1448\n",
            "Epoch   1 | Loss: 535.9202 | Train Acc: 0.2944 | Test Acc: 0.2979\n",
            "Epoch   2 | Loss: 532.0424 | Train Acc: 0.4163 | Test Acc: 0.4188\n",
            "Epoch   3 | Loss: 527.9337 | Train Acc: 0.4988 | Test Acc: 0.5063\n",
            "Epoch   4 | Loss: 523.5002 | Train Acc: 0.5500 | Test Acc: 0.5610\n",
            "Epoch   5 | Loss: 518.6064 | Train Acc: 0.5852 | Test Acc: 0.5952\n",
            "Epoch   6 | Loss: 513.1117 | Train Acc: 0.6110 | Test Acc: 0.6198\n",
            "Epoch   7 | Loss: 506.8859 | Train Acc: 0.6313 | Test Acc: 0.6405\n",
            "Epoch   8 | Loss: 499.7464 | Train Acc: 0.6477 | Test Acc: 0.6569\n",
            "Epoch   9 | Loss: 491.5797 | Train Acc: 0.6647 | Test Acc: 0.6752\n",
            "Epoch  10 | Loss: 482.1617 | Train Acc: 0.6779 | Test Acc: 0.6910\n",
            "Epoch  11 | Loss: 471.2929 | Train Acc: 0.6909 | Test Acc: 0.7027\n",
            "Epoch  12 | Loss: 458.8721 | Train Acc: 0.7026 | Test Acc: 0.7135\n",
            "Epoch  13 | Loss: 444.7153 | Train Acc: 0.7108 | Test Acc: 0.7208\n",
            "Epoch  14 | Loss: 428.8537 | Train Acc: 0.7188 | Test Acc: 0.7296\n",
            "Epoch  15 | Loss: 411.2390 | Train Acc: 0.7257 | Test Acc: 0.7369\n",
            "Epoch  16 | Loss: 392.2926 | Train Acc: 0.7324 | Test Acc: 0.7436\n",
            "Epoch  17 | Loss: 372.2008 | Train Acc: 0.7400 | Test Acc: 0.7500\n",
            "Epoch  18 | Loss: 351.6759 | Train Acc: 0.7482 | Test Acc: 0.7583\n",
            "Epoch  19 | Loss: 331.1971 | Train Acc: 0.7582 | Test Acc: 0.7679\n",
            "Epoch  20 | Loss: 311.4212 | Train Acc: 0.7682 | Test Acc: 0.7782\n",
            "Epoch  21 | Loss: 292.7419 | Train Acc: 0.7767 | Test Acc: 0.7876\n",
            "Epoch  22 | Loss: 275.5116 | Train Acc: 0.7859 | Test Acc: 0.7963\n",
            "Epoch  23 | Loss: 259.6475 | Train Acc: 0.7943 | Test Acc: 0.8021\n",
            "Epoch  24 | Loss: 245.4216 | Train Acc: 0.8018 | Test Acc: 0.8092\n",
            "Epoch  25 | Loss: 232.6065 | Train Acc: 0.8067 | Test Acc: 0.8146\n",
            "Epoch  26 | Loss: 221.0080 | Train Acc: 0.8126 | Test Acc: 0.8199\n",
            "Epoch  27 | Loss: 210.7521 | Train Acc: 0.8169 | Test Acc: 0.8232\n",
            "Epoch  28 | Loss: 201.5717 | Train Acc: 0.8207 | Test Acc: 0.8257\n",
            "Epoch  29 | Loss: 193.2691 | Train Acc: 0.8249 | Test Acc: 0.8279\n",
            "Epoch  30 | Loss: 185.7003 | Train Acc: 0.8284 | Test Acc: 0.8323\n",
            "Epoch  31 | Loss: 178.9066 | Train Acc: 0.8312 | Test Acc: 0.8362\n",
            "Epoch  32 | Loss: 172.7840 | Train Acc: 0.8345 | Test Acc: 0.8406\n",
            "Epoch  33 | Loss: 167.2305 | Train Acc: 0.8372 | Test Acc: 0.8439\n",
            "Epoch  34 | Loss: 162.1202 | Train Acc: 0.8404 | Test Acc: 0.8479\n",
            "Epoch  35 | Loss: 157.3723 | Train Acc: 0.8434 | Test Acc: 0.8507\n",
            "Epoch  36 | Loss: 153.1360 | Train Acc: 0.8458 | Test Acc: 0.8521\n",
            "Epoch  37 | Loss: 149.1959 | Train Acc: 0.8487 | Test Acc: 0.8549\n",
            "Epoch  38 | Loss: 145.6271 | Train Acc: 0.8509 | Test Acc: 0.8574\n",
            "Epoch  39 | Loss: 142.2077 | Train Acc: 0.8536 | Test Acc: 0.8597\n",
            "Epoch  40 | Loss: 138.9845 | Train Acc: 0.8561 | Test Acc: 0.8612\n",
            "Epoch  41 | Loss: 136.1722 | Train Acc: 0.8582 | Test Acc: 0.8628\n",
            "Epoch  42 | Loss: 133.3811 | Train Acc: 0.8603 | Test Acc: 0.8650\n",
            "Epoch  43 | Loss: 130.8076 | Train Acc: 0.8617 | Test Acc: 0.8665\n",
            "Epoch  44 | Loss: 128.4167 | Train Acc: 0.8637 | Test Acc: 0.8695\n",
            "Epoch  45 | Loss: 126.0961 | Train Acc: 0.8652 | Test Acc: 0.8719\n",
            "Epoch  46 | Loss: 124.1460 | Train Acc: 0.8670 | Test Acc: 0.8739\n",
            "Epoch  47 | Loss: 122.1499 | Train Acc: 0.8684 | Test Acc: 0.8746\n",
            "Epoch  48 | Loss: 120.1865 | Train Acc: 0.8696 | Test Acc: 0.8756\n",
            "Epoch  49 | Loss: 118.4664 | Train Acc: 0.8715 | Test Acc: 0.8785\n",
            "Epoch  50 | Loss: 116.8452 | Train Acc: 0.8728 | Test Acc: 0.8791\n",
            "Epoch  51 | Loss: 115.1514 | Train Acc: 0.8742 | Test Acc: 0.8805\n",
            "Epoch  52 | Loss: 113.6870 | Train Acc: 0.8752 | Test Acc: 0.8804\n",
            "Epoch  53 | Loss: 112.2373 | Train Acc: 0.8765 | Test Acc: 0.8815\n",
            "Epoch  54 | Loss: 110.8985 | Train Acc: 0.8774 | Test Acc: 0.8831\n",
            "Epoch  55 | Loss: 109.6473 | Train Acc: 0.8785 | Test Acc: 0.8835\n",
            "Epoch  56 | Loss: 108.3918 | Train Acc: 0.8794 | Test Acc: 0.8841\n",
            "Epoch  57 | Loss: 107.1566 | Train Acc: 0.8801 | Test Acc: 0.8850\n",
            "Epoch  58 | Loss: 106.0675 | Train Acc: 0.8809 | Test Acc: 0.8861\n",
            "Epoch  59 | Loss: 104.9839 | Train Acc: 0.8817 | Test Acc: 0.8866\n",
            "Epoch  60 | Loss: 103.9464 | Train Acc: 0.8826 | Test Acc: 0.8865\n",
            "Epoch  61 | Loss: 103.0093 | Train Acc: 0.8829 | Test Acc: 0.8877\n",
            "Epoch  62 | Loss: 102.0634 | Train Acc: 0.8840 | Test Acc: 0.8881\n",
            "Epoch  63 | Loss: 101.1251 | Train Acc: 0.8849 | Test Acc: 0.8889\n",
            "Epoch  64 | Loss: 100.2862 | Train Acc: 0.8855 | Test Acc: 0.8896\n",
            "Epoch  65 | Loss: 99.4429 | Train Acc: 0.8863 | Test Acc: 0.8903\n",
            "Epoch  66 | Loss: 98.6342 | Train Acc: 0.8871 | Test Acc: 0.8905\n",
            "Epoch  67 | Loss: 97.8749 | Train Acc: 0.8877 | Test Acc: 0.8919\n",
            "Epoch  68 | Loss: 97.1323 | Train Acc: 0.8883 | Test Acc: 0.8926\n",
            "Epoch  69 | Loss: 96.4709 | Train Acc: 0.8891 | Test Acc: 0.8934\n",
            "Epoch  70 | Loss: 95.7544 | Train Acc: 0.8897 | Test Acc: 0.8938\n",
            "Epoch  71 | Loss: 95.0385 | Train Acc: 0.8902 | Test Acc: 0.8943\n",
            "Epoch  72 | Loss: 94.4649 | Train Acc: 0.8908 | Test Acc: 0.8949\n",
            "Epoch  73 | Loss: 93.8869 | Train Acc: 0.8914 | Test Acc: 0.8952\n",
            "Epoch  74 | Loss: 93.2796 | Train Acc: 0.8917 | Test Acc: 0.8958\n",
            "Epoch  75 | Loss: 92.6717 | Train Acc: 0.8923 | Test Acc: 0.8962\n",
            "Epoch  76 | Loss: 92.1205 | Train Acc: 0.8925 | Test Acc: 0.8968\n",
            "Epoch  77 | Loss: 91.5264 | Train Acc: 0.8931 | Test Acc: 0.8979\n",
            "Epoch  78 | Loss: 90.9639 | Train Acc: 0.8937 | Test Acc: 0.8974\n",
            "Epoch  79 | Loss: 90.4905 | Train Acc: 0.8941 | Test Acc: 0.8982\n",
            "Epoch  80 | Loss: 89.9155 | Train Acc: 0.8945 | Test Acc: 0.8989\n",
            "Epoch  81 | Loss: 89.5030 | Train Acc: 0.8949 | Test Acc: 0.8994\n",
            "Epoch  82 | Loss: 89.0284 | Train Acc: 0.8952 | Test Acc: 0.8996\n",
            "Epoch  83 | Loss: 88.6050 | Train Acc: 0.8957 | Test Acc: 0.8999\n",
            "Epoch  84 | Loss: 88.2084 | Train Acc: 0.8960 | Test Acc: 0.9002\n",
            "Epoch  85 | Loss: 87.6790 | Train Acc: 0.8965 | Test Acc: 0.9009\n",
            "Epoch  86 | Loss: 87.2892 | Train Acc: 0.8970 | Test Acc: 0.9013\n",
            "Epoch  87 | Loss: 86.8649 | Train Acc: 0.8972 | Test Acc: 0.9006\n",
            "Epoch  88 | Loss: 86.5136 | Train Acc: 0.8973 | Test Acc: 0.9023\n",
            "Epoch  89 | Loss: 86.0594 | Train Acc: 0.8978 | Test Acc: 0.9029\n",
            "Epoch  90 | Loss: 85.6920 | Train Acc: 0.8982 | Test Acc: 0.9026\n",
            "Epoch  91 | Loss: 85.2823 | Train Acc: 0.8985 | Test Acc: 0.9027\n",
            "Epoch  92 | Loss: 84.9533 | Train Acc: 0.8988 | Test Acc: 0.9032\n",
            "Epoch  93 | Loss: 84.5904 | Train Acc: 0.8993 | Test Acc: 0.9036\n",
            "Epoch  94 | Loss: 84.1796 | Train Acc: 0.8998 | Test Acc: 0.9038\n",
            "Epoch  95 | Loss: 83.8855 | Train Acc: 0.9002 | Test Acc: 0.9042\n",
            "Epoch  96 | Loss: 83.5667 | Train Acc: 0.9006 | Test Acc: 0.9043\n",
            "Epoch  97 | Loss: 83.1570 | Train Acc: 0.9008 | Test Acc: 0.9043\n",
            "Epoch  98 | Loss: 82.8452 | Train Acc: 0.9011 | Test Acc: 0.9047\n",
            "Epoch  99 | Loss: 82.6191 | Train Acc: 0.9013 | Test Acc: 0.9045\n"
          ]
        },
        {
          "output_type": "display_data",
          "data": {
            "text/plain": [
              "<Figure size 640x480 with 1 Axes>"
            ],
            "image/png": "[encoded data removed]"
          },
          "metadata": {}
        }
      ],
      "source": [
        "# 전체코드\n",
        "import torch\n",
        "import torchvision\n",
        "import torchvision.transforms as transforms\n",
        "from matplotlib import pyplot as plt\n",
        "from torch import nn\n",
        "from torch.optim import SGD\n",
        "import numpy as np\n",
        "\n",
        "transform = transforms.ToTensor()\n",
        "\n",
        "trainset = torchvision.datasets.MNIST(\n",
        "    root='./data',\n",
        "    train=True,\n",
        "    download=True,\n",
        "    transform=transform\n",
        ")\n",
        "\n",
        "\n",
        "testset = torchvision.datasets.MNIST(\n",
        "    root='./data',\n",
        "    train=False,\n",
        "    download=True,\n",
        "    transform=transform\n",
        ")\n",
        "\n",
        "batch_size = 256\n",
        "\n",
        "trainloader = torch.utils.data.DataLoader(\n",
        "    trainset,\n",
        "    batch_size=batch_size,\n",
        "    shuffle=True\n",
        ")\n",
        "\n",
        "testloader = torch.utils.data.DataLoader(\n",
        "    testset,\n",
        "    batch_size=batch_size,\n",
        "    shuffle=False\n",
        ")\n",
        "\n",
        "class Model(nn.Module):\n",
        "  def __init__(self, input_dim, n_dim):\n",
        "    super().__init__()\n",
        "\n",
        "    self.layer1 = nn.Linear(input_dim, n_dim)\n",
        "    self.layer2 = nn.Linear(n_dim, n_dim)\n",
        "    self.layer3 = nn.Linear(n_dim, 10)\n",
        "\n",
        "    self.act = nn.ReLU()\n",
        "\n",
        "  def forward(self, x):\n",
        "    x = torch.flatten(x, start_dim=1)\n",
        "    x = self.act(self.layer1(x))\n",
        "    x = self.act(self.layer2(x))\n",
        "    x = self.layer3(x)\n",
        "\n",
        "    return x\n",
        "\n",
        "model = Model(28 * 28 * 1, 1024)\n",
        "model = model.to('cuda')\n",
        "\n",
        "# train\n",
        "lr = 0.001\n",
        "optimizer = SGD(model.parameters(), lr=lr)\n",
        "loss_fn = nn.CrossEntropyLoss()\n",
        "\n",
        "# Accuracy function\n",
        "def accuracy(model, dataloader):\n",
        "    cnt = 0\n",
        "    acc = 0\n",
        "\n",
        "    for data in dataloader:\n",
        "        inputs, labels = data\n",
        "        inputs, labels = inputs.to('cuda'), labels.to('cuda')\n",
        "\n",
        "        preds = model(inputs)\n",
        "        preds = torch.argmax(preds, dim=-1)\n",
        "\n",
        "        cnt += labels.shape[0]\n",
        "        acc += (labels == preds).sum().item()\n",
        "\n",
        "    return acc / cnt\n",
        "\n",
        "\n",
        "\n",
        "# Training loop\n",
        "train_accs = []\n",
        "test_accs = []\n",
        "\n",
        "for epoch in range(100):\n",
        "  total_loss = 0.\n",
        "  model.train()\n",
        "  for data in trainloader:\n",
        "    model.zero_grad()\n",
        "    inputs, labels = data\n",
        "    inputs, labels = inputs.to('cuda'), labels.to('cuda')\n",
        "\n",
        "    preds = model(inputs)\n",
        "    loss = loss_fn(preds, labels)\n",
        "    loss.backward()\n",
        "    optimizer.step()\n",
        "\n",
        "    total_loss += loss.item()\n",
        "\n",
        "  model.eval()\n",
        "  train_acc = accuracy(model, trainloader)\n",
        "  test_acc = accuracy(model, testloader)\n",
        "  train_accs.append(train_acc)\n",
        "  test_accs.append(test_acc)\n",
        "\n",
        "  print(f\"Epoch {epoch:3d} | Loss: {total_loss:.4f} | Train Acc: {train_acc:.4f} | Test Acc: {test_acc:.4f}\")\n",
        "\n",
        "# Plotting function\n",
        "def plot_acc(train_accs, test_accs, label1='train', label2='test'):\n",
        "    x = np.arange(len(train_accs))\n",
        "\n",
        "    plt.plot(x, train_accs, label=label1)\n",
        "    plt.plot(x, test_accs, label=label2)\n",
        "    plt.legend()\n",
        "    plt.show()\n",
        "\n",
        "plot_acc(train_accs, test_accs)"
      ]
    },
    {
      "cell_type": "markdown",
      "source": [
        "##[My Code] Test Data 준비하기\n",
        "요구사항 1번인 test data 를 준비합니다"
      ],
      "metadata": {
        "id": "0AcLm7oFQBfr"
      }
    },
    {
      "cell_type": "code",
      "source": [
        "testloader = torch.utils.data.DataLoader(\n",
        "    testset,\n",
        "    batch_size=batch_size,\n",
        "    shuffle=False\n",
        ")"
      ],
      "metadata": {
        "id": "4IcwygQsQPXN"
      },
      "execution_count": null,
      "outputs": []
    },
    {
      "cell_type": "markdown",
      "source": [
        "## [My Code] nn.CrossEntropyLoss\n",
        "CrossEntropyLoss 함수를 호출하여, 클래스 확률 예측에 대한 손실을 계산하게 하였습니다.\n",
        "또한, 마지막 신경망에서 x = self.layer3(x) 원시 로짓을 출력층으로 전달하도록 수정합니다.\n",
        "\n",
        "## [FEEDBACK]\n",
        "CrossEntropyLoss도 단순히, 이게 이럴것이다 정도로는 알겠는데 정확히 내부적으로 어떻게 수치적으로 움직이는지 잘 이해를 못하겠습니다. 좀더 상세히 알기 위해서는 논문이나 내부 코드를 봐야 하는지. 혹은 경험이 있다면 어떤걸 추천하는지 궁금합니다."
      ],
      "metadata": {
        "id": "6mDPdgrIQzFI"
      }
    },
    {
      "cell_type": "code",
      "source": [
        "class Model(nn.Module):\n",
        "  def __init__(self, input_dim, n_dim):\n",
        "    super().__init__()\n",
        "\n",
        "    self.layer1 = nn.Linear(input_dim, n_dim)\n",
        "    self.layer2 = nn.Linear(n_dim, n_dim)\n",
        "    self.layer3 = nn.Linear(n_dim, 10)\n",
        "\n",
        "    self.act = nn.ReLU()\n",
        "\n",
        "  def forward(self, x):\n",
        "    x = torch.flatten(x, start_dim=1)\n",
        "    x = self.act(self.layer1(x))\n",
        "    x = self.act(self.layer2(x))\n",
        "    x = self.layer3(x)\n",
        "\n",
        "    return x\n",
        "\n",
        "...\n",
        "\n",
        "    loss = nn.CrossEntropyLoss()(preds, labels)"
      ],
      "metadata": {
        "id": "ahVuIFLGRArU"
      },
      "execution_count": null,
      "outputs": []
    },
    {
      "cell_type": "markdown",
      "source": [
        "## [My Code] model의 train과 test data에 대한 정확도 plot하기\n",
        "model.train()을 통해서, 드롭아웃과 배치 정규화 레이어가 학습 시 동작하도록 유도합니다.\n",
        "model.eval()을 통해서, 평가모드로 전환하고 모든 피처들을 사용해 예측할수 있도록 유도합니다.\n",
        "\n",
        "train_acc = accuracy(model, trainloader)\n",
        "test_acc = accuracy(model, testloader)\n",
        "train_accs.append(train_acc)\n",
        "test_accs.append(test_acc)\n",
        "각 정확도를 판별하고, 각 항목들의 정확도를 출력합니다."
      ],
      "metadata": {
        "id": "kLeXXAiGSDvg"
      }
    },
    {
      "cell_type": "code",
      "source": [
        "for epoch in range(100):\n",
        "  total_loss = 0.\n",
        "  model.train()\n",
        "  for data in trainloader:\n",
        "    model.zero_grad()\n",
        "    inputs, labels = data\n",
        "    inputs, labels = inputs.to(device), labels.to(device)\n",
        "\n",
        "    preds = model(inputs)\n",
        "    loss = nn.CrossEntropyLoss()(preds, labels)\n",
        "    loss.backward()\n",
        "    optimizer.step()\n",
        "\n",
        "    total_loss += loss.item()\n",
        "\n",
        "  model.eval()\n",
        "  train_acc = accuracy(model, trainloader)\n",
        "  test_acc = accuracy(model, testloader)\n",
        "  train_accs.append(train_acc)\n",
        "  test_accs.append(test_acc)\n",
        "\n",
        "  print(f\"Epoch {epoch:3d} | Loss: {total_loss:.4f} | Train Acc: {train_acc:.4f} | Test Acc: {test_acc:.4f}\")"
      ],
      "metadata": {
        "id": "cdJneHggSRv3"
      },
      "execution_count": null,
      "outputs": []
    },
    {
      "cell_type": "markdown",
      "source": [
        "##[LOG]\n",
        "Epoch별 Traninset을 통해 학습한 모델의 Loss값과 Train 정확도, Test 정확도를 출력하는 Log입니다.\n",
        "\n",
        "Epoch   0 | Loss: 538.6791 | Train Acc: 0.2069 | Test Acc: 0.2050<br/>\n",
        "Epoch   1 | Loss: 534.9794 | Train Acc: 0.3141 | Test Acc: 0.3144<br/>\n",
        "Epoch   2 | Loss: 531.1543 | Train Acc: 0.4136 | Test Acc: 0.4166<br/>\n",
        "Epoch   3 | Loss: 527.0706 | Train Acc: 0.4755 | Test Acc: 0.4828<br/>\n",
        "Epoch   4 | Loss: 522.6143 | Train Acc: 0.5313 | Test Acc: 0.5427<br/>\n",
        "Epoch   5 | Loss: 517.6805 | Train Acc: 0.5775 | Test Acc: 0.5866<br/>\n",
        "Epoch   6 | Loss: 512.1035 | Train Acc: 0.6085 | Test Acc: 0.6168<br/>\n",
        "Epoch   7 | Loss: 505.7920 | Train Acc: 0.6281 | Test Acc: 0.6344<br/>\n",
        "Epoch   8 | Loss: 498.5572 | Train Acc: 0.6442 | Test Acc: 0.6502<br/>\n",
        "Epoch   9 | Loss: 490.2524 | Train Acc: 0.6589 | Test Acc: 0.6629<br/>\n",
        "Epoch  10 | Loss: 480.7093 | Train Acc: 0.6715 | Test Acc: 0.6765<br/>\n",
        "Epoch  11 | Loss: 469.7314 | Train Acc: 0.6827 | Test Acc: 0.6887<br/>\n",
        "Epoch  12 | Loss: 457.1766 | Train Acc: 0.6926 | Test Acc: 0.6969<br/>\n",
        "Epoch  13 | Loss: 442.9493 | Train Acc: 0.7013 | Test Acc: 0.7040<br/>\n",
        "Epoch  14 | Loss: 427.0626 | Train Acc: 0.7096 | Test Acc: 0.7120<br/>\n",
        "Epoch  15 | Loss: 409.6497 | Train Acc: 0.7171 | Test Acc: 0.7212<br/>\n",
        "Epoch  16 | Loss: 390.8668 | Train Acc: 0.7232 | Test Acc: 0.7267<br/>\n",
        "Epoch  17 | Loss: 371.1853 | Train Acc: 0.7296 | Test Acc: 0.7335<br/>\n",
        "Epoch  18 | Loss: 350.9926 | Train Acc: 0.7373 | Test Acc: 0.7424<br/>\n",
        "Epoch  19 | Loss: 330.8651 | Train Acc: 0.7469 | Test Acc: 0.7537<br/>\n",
        "Epoch  20 | Loss: 311.4088 | Train Acc: 0.7578 | Test Acc: 0.7659<br/>\n",
        "Epoch  21 | Loss: 292.9217 | Train Acc: 0.7690 | Test Acc: 0.7785<br/>\n",
        "Epoch   0 | Loss: 538.6791 | Train Acc: 0.2069 | Test Acc: 0.2050<br/>\n",
        "Epoch   1 | Loss: 534.9794 | Train Acc: 0.3141 | Test Acc: 0.3144<br/>\n",
        "Epoch   2 | Loss: 531.1543 | Train Acc: 0.4136 | Test Acc: 0.4166<br/>\n",
        "Epoch   3 | Loss: 527.0706 | Train Acc: 0.4755 | Test Acc: 0.4828<br/>\n",
        "Epoch   4 | Loss: 522.6143 | Train Acc: 0.5313 | Test Acc: 0.5427<br/>\n",
        "Epoch   5 | Loss: 517.6805 | Train Acc: 0.5775 | Test Acc: 0.5866<br/>\n",
        "Epoch   6 | Loss: 512.1035 | Train Acc: 0.6085 | Test Acc: 0.6168<br/>\n",
        "Epoch   7 | Loss: 505.7920 | Train Acc: 0.6281 | Test Acc: 0.6344<br/>\n",
        "Epoch   8 | Loss: 498.5572 | Train Acc: 0.6442 | Test Acc: 0.6502<br/>\n",
        "Epoch   9 | Loss: 490.2524 | Train Acc: 0.6589 | Test Acc: 0.6629<br/>\n",
        "Epoch  10 | Loss: 480.7093 | Train Acc: 0.6715 | Test Acc: 0.6765<br/>\n",
        "Epoch  11 | Loss: 469.7314 | Train Acc: 0.6827 | Test Acc: 0.6887<br/>\n",
        "Epoch  12 | Loss: 457.1766 | Train Acc: 0.6926 | Test Acc: 0.6969<br/>\n",
        "Epoch  13 | Loss: 442.9493 | Train Acc: 0.7013 | Test Acc: 0.7040<br/>\n",
        "Epoch  14 | Loss: 427.0626 | Train Acc: 0.7096 | Test Acc: 0.7120<br/>\n",
        "Epoch  15 | Loss: 409.6497 | Train Acc: 0.7171 | Test Acc: 0.7212<br/>\n",
        "Epoch  16 | Loss: 390.8668 | Train Acc: 0.7232 | Test Acc: 0.7267<br/>\n",
        "Epoch  17 | Loss: 371.1853 | Train Acc: 0.7296 | Test Acc: 0.7335<br/>\n",
        "Epoch  18 | Loss: 350.9926 | Train Acc: 0.7373 | Test Acc: 0.7424<br/>\n",
        "Epoch  19 | Loss: 330.8651 | Train Acc: 0.7469 | Test Acc: 0.7537<br/>\n",
        "Epoch  20 | Loss: 311.4088 | Train Acc: 0.7578 | Test Acc: 0.7659<br/>\n",
        "Epoch  21 | Loss: 292.9217 | Train Acc: 0.7690 | Test Acc: 0.7785<br/>\n",
        "…<br/>\n",
        "Epoch  93 | Loss: 84.7529 | Train Acc: 0.8999 | Test Acc: 0.9043<br/>\n",
        "Epoch  94 | Loss: 84.2837 | Train Acc: 0.9001 | Test Acc: 0.9052<br/>\n",
        "Epoch  95 | Loss: 83.8776 | Train Acc: 0.9002 | Test Acc: 0.9056<br/>\n",
        "Epoch  96 | Loss: 83.6070 | Train Acc: 0.9003 | Test Acc: 0.9061<br/>\n",
        "Epoch  97 | Loss: 83.2865 | Train Acc: 0.9009 | Test Acc: 0.9064<br/>\n",
        "Epoch  98 | Loss: 82.9381 | Train Acc: 0.9012 | Test Acc: 0.9069<br/>\n",
        "Epoch  99 | Loss: 82.7355 | Train Acc: 0.9019 | Test Acc: 0.9074<br/>"
      ],
      "metadata": {
        "id": "gNzdcE7_TLLq"
      }
    },
    {
      "cell_type": "markdown",
      "source": [
        "## [My Code] model의 train과 test data에 대한 정확도 plot하기\n",
        "plot 결과를 출력합니다.\n"
      ],
      "metadata": {
        "id": "klpx2nzoTPsc"
      }
    },
    {
      "cell_type": "code",
      "source": [
        "# Plotting function\n",
        "def plot_acc(train_accs, test_accs, label1='train', label2='test'):\n",
        "    x = np.arange(len(train_accs))\n",
        "\n",
        "    plt.plot(x, train_accs, label=label1)\n",
        "    plt.plot(x, test_accs, label=label2)\n",
        "    plt.legend()\n",
        "    plt.show()\n",
        "\n",
        "plot_acc(train_accs, test_accs)"
      ],
      "metadata": {
        "id": "iyklOjogTtQl"
      },
      "execution_count": null,
      "outputs": []
    },
    {
      "cell_type": "markdown",
      "source": [
        "![unknown.png](data:image/png;base64,iVBORw0KGgoAAAANSUhEUgAAAiMAAAGdCAYAAADAAnMpAAAAOXRFWHRTb2Z0d2FyZQBNYXRwbG90bGliIHZlcnNpb24zLjguMCwgaHR0cHM6Ly9tYXRwbG90bGliLm9yZy81sbWrAAAACXBIWXMAAA9hAAAPYQGoP6dpAABOkUlEQVR4nO3deXhU9d3+8ffsk3WyrwTCJovIIpGIu49RrLutlVqUpZX+VNpqU1uhKm6PxtZKsUpL9SnWaq3UutSqxSUuFUVAFHdA9rBkIySTdSYzc35/TAxECGQgyclyv67rXMmcOWfmM0dhbr7nu1gMwzAQERERMYnV7AJERESkf1MYEREREVMpjIiIiIipFEZERETEVAojIiIiYiqFERERETGVwoiIiIiYSmFERERETGU3u4COCIVC7Nq1i7i4OCwWi9nliIiISAcYhkFtbS1ZWVlYre23f/SKMLJr1y5ycnLMLkNERESOQElJCQMGDGj3+V4RRuLi4oDwh4mPjze5GhEREekIr9dLTk5O6/d4e3pFGPn61kx8fLzCiIiISC9zuC4W6sAqIiIiplIYEREREVMpjIiIiIipekWfkY4IBoM0NzebXUavZLPZsNvtGjYtIiKm6BNhpK6ujh07dmAYhtml9FrR0dFkZmbidDrNLkVERPqZXh9GgsEgO3bsIDo6mtTUVP3rPkKGYeD3+6moqGDLli0MHz78kBPTiIiIdLZeH0aam5sxDIPU1FSioqLMLqdXioqKwuFwsG3bNvx+P2632+ySRESkH+kz/wRWi8jRUWuIiIiYRd9AIiIiYiqFERERETGVwkgfkJuby8KFC80uQ0RE5Ij0+g6svdUZZ5zB+PHjOyVErF69mpiYmKMvSkRExAQKIz2UYRgEg0Hs9sP/J0pNTe2GikREpNcIBSHgg0ATNDeArxZ8deCv3fe7r7bt41MLwTPAlHKPKIwsWrSI++67j9LSUsaNG8eDDz7IpEmTDnpsc3MzRUVFPPbYY+zcuZMRI0bw61//mnPPPfeoCm+PYRg0Nge75LUPJ8ph69ConpkzZ/L222/z9ttv88ADDwDw6KOPMmvWLF5++WVuueUWPv30U1599VVycnIoLCzk/fffp76+nlGjRlFUVERBQUHr6+Xm5nLDDTdwww03AOGRRY888ggvvfQSr7zyCtnZ2dx///1cdNFFXfK5RUTkCIRCUFcK1duhYQ84Y8AVB844cMWCvwHqylq2cqivAH89NNeHn2tubAkTdeD/OlzUh/eHjmBG8nHf6z1hZOnSpRQWFrJ48WLy8/NZuHAhU6ZMYf369aSlpR1w/C233MITTzzBI488wsiRI3nllVe49NJLee+995gwYUKnfIj9NTYHGT3/lU5/3Y744s4pRDsPf0kfeOABNmzYwJgxY7jzzjsB+PzzzwGYO3cuv/3tbxkyZAiJiYmUlJRw3nnncffdd+NyufjrX//KhRdeyPr16xk4cGC773HHHXfwm9/8hvvuu48HH3yQadOmsW3bNpKSkjrnw4qI9BWhIASbIeiHUCD8s83jr38/yD90Q4Fw60PAB4HG8M+vA0FzQ8vvDS2/N+zb590FNSXh1+1qVkc45Lhi9wUdV1xL8An/bjhjITYNsybJiDiMLFiwgNmzZzNr1iwAFi9ezEsvvcSSJUuYO3fuAcc//vjj3HzzzZx33nkAXHvttbz++uvcf//9PPHEE0dZfu/k8XhwOp1ER0eTkZEBwLp16wC48847Ofvss1uPTUpKYty4ca2P77rrLp577jleeOEFfvzjH7f7HjNnzuSKK64A4J577uH3v/89q1at6rIWKRERUwT8ULt7v60UmrxtA4C/Dppq2m6Bpn2hAxOXErHYwJMNManhAOOr3bc5YzBi0zBi0gjFpBF0JxNyxBC0RxGwRxO0RRG0RRFwxhKwxxKwx9Bsi6Y2aKem2Rbe/FbqA+ALhGhqDtLUHP5Z09hMdVUzNQ3N7G3wU93YzAujkxhp0mWIKIz4/X7WrFnDvHnzWvdZrVYKCgpYsWLFQc/x+XwHzOgZFRXF8uXL230fn8+Hz+drfez1ejtcY5TDxhd3Tunw8Z0pymE76tfIy8tr87iuro7bb7+dl156id27dxMIBGhsbGT79u2HfJ2xY8e2/h4TE0N8fDzl5eVHXZ+IyCGFQuGf35xI0VcLezbBno1QtRm8O6G+Mrw1VEJDFRihA1/Pagt/YVttYLHu11LRHL4VEWjq/M9gsYZbE2xOsNn3/W61YVgsGEa4S0DIgJDFSsjmJmRzEbI5CVmdNFuj8FncNFncNOGkETeNFhdNhotGXNQbLqosiZTa0qkgmaaQBV9ziPpQgLpQgLpggPpgAF9tiEBNR4NSM1Ddsh2Z6gbzFpuNKIxUVlYSDAZJT09vsz89Pb31X/bfNGXKFBYsWMBpp53G0KFDKS4u5tlnnyUYbL9fR1FREXfccUckpbWyWCwdulXSU31zVMyNN97Ia6+9xm9/+1uGDRtGVFQUl112GX7/oZv2HA5Hm8cWi4VQ6CB/0EVEDiYUCt92aKiCxqqWn3uhqbptC0Pj3m+Eij3hUGFzgt0d3oxQ+LmuYnNCXAbEZUF8Jrg9GI5oArYoGg0XjRY3jbZYGqyx1FtiqSWauqCT2gB4/eD1W6j1Q1PISlPIhj9koTkYorE5SL0vSL0vQF1jgHpfgHp/Z/ZJNIDIr4vNaglvFgt2qwXr14+t4ccxLjvxbjtxbgdxbjsxTjtuhxW3w4bLbsXlsBEf5SAx2kFClJOEaAcJ0Q7S4sxbCqTLv7UfeOABZs+ezciRI7FYLAwdOpRZs2axZMmSds+ZN28ehYWFrY+9Xi85OTldXWq3cjqdhwxkX3v33XeZOXMml156KRBuKdm6dWsXVycivV4oCNXboPKrcEuEr26/jo/73bporA7/9HnD/R2+7h9hHOWXbtAf3nz7tWzHpELSUEgeFu4oGZMS3heTAlFJYA1/JQVCIRr9IZqam2nyN+NvDuIP+PH7A9QHLNQ2Q22zhVq/hb3Ndnb5o6luDFDT6Ke6pJnqxvDtB3+wvX+ANbRsR85qgRiXHZfdhs0KNks4FNitFqKcdmJdNmJcdmJcdqIdNtwOG26HFZf960BgxWmz4rCHfzrtVmJddmJbzol12XE7bDhsFuy28DF2W/j1++LyJxGFkZSUFGw2G2VlZW32l5WVtfZ9+KbU1FSef/55mpqa2LNnD1lZWcydO5chQ4a0+z4ulwuXyxVJab1Obm4uK1euZOvWrcTGxrbbajF8+HCeffZZLrzwQiwWC7feeqtaOET6M8MId4D01YYDRWM1eHdAzQ6o2RnuFFm1JXw7JOg77MsdltUB0UnhsBCdBO4EcHtat5Dbg9+VhN+VRKMziQZ7AnV+qKuvp76hjsaGBhp8fsqsGdQYUTQ1B2n0B2ncGaTOF6DBH255aPCXhVsgfAF8gUj/jtvb7jMOmwVPlIMop41ohz380xkOCnEuO7FuO3FuO9FOOy67FYctvNltFtwOG3Et4SDGZWsNCl+3NPTFUGCWiMKI0+lk4sSJFBcXc8kllwAQCoUoLi4+ZGdKALfbTXZ2Ns3NzTzzzDNcfvnlR1x0X3DjjTcyY8YMRo8eTWNjI48++uhBj1uwYAE/+MEPOOmkk0hJSeGmm26KqA+NiPQwAV/4lkddaTg07N0S/lm9LRwwvp4bIuALb0YwfMvECIV/b26kwx0uba5wK0TyUIhKAEcMOKPxW900WqLw2eNotMXSZI2lzhJDXcBObcDS2upQE7BRE3DQ2GzQ1BykwR+griaAtzSAt6kZb2PzfrctmoGylu1gSiO+VHarhSiHDbcz3KrgtttawoODOFc4RMS57SREO0mMbrndEOUgIXrfrYeOTrkg5rIYhhFRN+KlS5cyY8YM/vSnPzFp0iQWLlzIP/7xD9atW0d6ejrTp08nOzuboqIiAFauXMnOnTsZP348O3fu5Pbbb2fLli18+OGHJCQkdOg9vV4vHo+Hmpoa4uPj2zzX1NTEli1bGDx48AEdZaXjdB1FDsMwwq0PdWX7Dd2s3zda4+sREP66llsi+w/nrA+3YDRUhX/vjHIsVgxnHEFnHP6odBqjM2lwZ+B1ZbDHkUmJLYcdRjLVjSH2NviprPNTWeejotZHQ6f2e9jHabfitluJczuIj3LgibLjiXIQ73aEb2k4rEQ5bOHNaSPGGW5xiG75+XWrw9ctEE67Vizp7Q71/b2/iPuMTJ06lYqKCubPn09paSnjx49n2bJlrZ1at2/f3mY5+qamJm655RY2b95MbGws5513Ho8//niHg4iISKfz1bWEirqWiaNa5oII+sOhIxQMt0L466H8Syj/Asq+AF9N57y/xQrRKZCYi5GUS1PsIPa6sqghjtqAjdqAjZpmK3v9VvY0BKisD7KnvpnKhgCVTVb2BFw04YTGQ/2Lv65lO7hw34bwLYuolj4Nce5wEIht7fhoI8ppbz0mquWY+JaAER8VPj7KaWvpO6EWCDkyEbeMmEEtI11P11H6pLpyKFkFO9eEO3FWbw/fDmnYc2SvZ3VAXCY4o8HRsjmjWyeOwhVHsz2GRksUjbhoMBzUh1zUhpxUBqOpaI5mpz+KUp+TiroApd4myrxNR9BHIsxutbT2f/g6WEQ7wv0gElpGSiS23K5IiXWREuciJdZFapyLGKduX0jX67KWERGRHiXgC89Z0dqBcwdUrIMdq8PBoz3O2PDmiApPw+2ICvexsFrDLRcWW3hYaspwGpNGUBY1jO2WbCobDaobvh6x4WdvQzMVe31U1Pko9zbhbQocolhfy3agpBgnSTFOPFGONltqnGvfFusiIdpBjNNOtCvcGiHSFyiMiEjPFAqGJ8lq2NN2Xou6snDIqN4e3mp3H+JFLJA2CrInQtpoSBgIiYPAk4Ph9lBV72dbVQMlVQ1s39PAnno/3sZmahqb8TY1s7ehmdJ1TdT5AkBFy3Z4NquF+JbbGXFuO3EuR2vYSIxxktzye4bHTUa8m7R4l4KF9GsKIyLSMzRWw66PoGQlbH8/3LLhb7/PQxt2d3jeiq+3xFzIzsOXPp6djY7WwFGyuYHtVQ1sr/qUHVUN1PoO1YrRlifKQabHTWqcKzxaIyp8+2P/1ou0OBepsW7io+y6BSISAYUREel6deXh2yf7t3A0VMKezVDVMkV4/UFaHRwxEJfeMqdFQvhndDIkDiIQn8MeewY7jRR2+mMor/NTXttEhdfHrnWNlLzXyK6a9zhcr7iMeDcDk6MZlBRNenw4SMS3jgZxkB7vJtPjJsalvy5Fuor+dIlI5ws2h1s4Nr4OX70OZZ927DxPDuTkw8ATYeCJ1MQNZ0tVE1sq69hSUc/mynpKtjWy++NGKup8GMZeDjXhFUC008bApGhykqLDPxOjGJgcTU5ieJ+7E9aUEpGjozAiIkeurgLKP2+ZtGv7vq1iXdtpwLFAfFbb2TujEiFpMEbSECpcOazzp7Bhr4VNFfVs+qiOza+WUll36AUhnXYrmR436XFuUuPDt0nS4txkeFwMTIpmYFIMKbFO3TIR6eEURkTk8AwjPDR254ewey2UfR7e6g+xEnR0Mgw9C2PYWezNPJWd/ljKvE2U1TZR5vWxc28jGz+rY2NZLfX+StpbMCw93sXglBgGp8QyOCUcMLIToshMcJMco6Ah0hcojJjkjDPOYPz48SxcuLBTXm/mzJlUV1fz/PPPd8rrST8U8IfXOKktC49YqSsPD5nd/XG4Y2lT9UFOskDSYEgeDgkDCXpy2BpM4aPaRFY3ZrCxvIlNn9dR3bD2kG/tsFkYnBLDsLRYhqXGMiQ1lqGpsQxOjSFWfTVE+jz9KRfpjwwDvLtg5wfhScF2fBBu8Qg0tX+OzQWZ4yBrAqQfC+ljaE4+hl0NVlZs2sN/v6pg+erKlnk2DGDfkFuLBVJjXWR43KTFuUmPd5ER72ZoWizHpMcyKDkGh01Tf4v0VwojJpg5cyZvv/02b7/9Ng888AAAW7Zsoa6ujl/84he88847xMTEcM455/C73/2OlJQUAP75z39yxx13sHHjRqKjo5kwYQL/+te/uO+++3jssccAWpus33zzTc444wxTPp/0QNUl4Q6lpZ9A6aew+5PwaJZvckRDbHrLlgax6YRSR1EaO5pPA9l8UdbE5sp6dm1rZFd1NWXe/xL6xmgVT5SDyUOSGZERx7C0lhaOlBiinOooKiIH1/fCiGGE15gwgyM6/E/Aw3jggQfYsGEDY8aM4c477wyf6nAwadIkrr76an73u9/R2NjITTfdxOWXX84bb7zB7t27ueKKK/jNb37DpZdeSm1tLe+88w6GYXDjjTfy5Zdf4vV6W1f/TUpK6tKPKr1AXTl8/hx8+k/YserA5y3WcAvHgBNgwCSMAXnstmWzobyOjeV1bCirZcPWOjasrKXBXwVUHfRtnDYrx2bHc/oxqZx2TCrjBiRojRIRiUjfCyPNDXBPljnv/atd4WmlD8Pj8eB0OomOjiYjIwOA//3f/2XChAncc889rcctWbKEnJwcNmzYQF1dHYFAgG9/+9sMGjQIgOOOO6712KioKHw+X+vrST9UVxG+1bJrLWx9J7wZX695YoHs48O3WTLGhre0UexssPDuxkreXVfJuy9uo7Juw0Ff2mm3MiI9jpEZcQxPj2VAYjRZCVFkJbhJiXFhVfgQkaPQ98JIL/Xxxx/z5ptvEhsbe8BzmzZt4pxzzuGss87iuOOOY8qUKZxzzjlcdtllJCYmmlCt9Ah15fDVq/DVa+HZSr07DzwmOw+OuwxGX0JTVBqf7/LyyY5qPn23ho9KVrGlsu1y9nZruCPp8PRYhqeFg8fIjHhyk6Oxq0+HiHSRvhdGHNHhFgqz3vsI1dXVceGFF/LrX//6gOcyMzOx2Wy89tprvPfee7z66qs8+OCD3HzzzaxcuZLBgwcfTdXSW/jrw6Nati6HDa/Arg+/cYAFkodB1njImsDenAJWVsezasteVj+2iS93f0TgGx08bFYLYwd4OGVYCicPS2HCwAStkSIi3a7vhRGLpUO3SszmdDoJBoOtj48//nieeeYZcnNzsdsP/p/FYrFw8sknc/LJJzN//nwGDRrEc889R2Fh4QGvJ72cYYQXg9u+Mtzfo2RVeF4P4xv/jTPHwzFTCA06lS3OYazZHWDNtr188F4Vmyo2HvCyKbFOxg5IYOwAD+MGJDAxN5F4t6N7PpOISDv6XhjpJXJzc1m5ciVbt24lNjaWOXPm8Mgjj3DFFVfwy1/+kqSkJDZu3MhTTz3F//3f//HBBx9QXFzMOeecQ1paGitXrqSiooJRo0a1vt4rr7zC+vXrSU5OxuPx4HDoS6bXCIXCM5lueQdK3g+HkLrSA4+Ly4KcSTCsgMrM03i9xMLrX5az+r9V1DR+s6UEjkmPZdLgJE7ITSIvN4ksj1uThIlIj6MwYpIbb7yRGTNmMHr0aBobG9myZQvvvvsuN910E+eccw4+n49BgwZx7rnnYrVaiY+P57///S8LFy7E6/UyaNAg7r//fr71rW8BMHv2bN566y3y8vKoq6vT0N7eoLYUNr0Jm98M//zmbKZWR7jDaU4+5JxAKPsEvqiP4+0NFby2ooy1JZ+1OdztsDJ2QAITByVy/MBE8gYlkhjj7MYPJCJyZCyGcbg1Lc3n9XrxeDzU1NQQHx/f5rmmpia2bNnC4MGDcbvdJlXY++k6dpO92+DLF+CLFw4cbuuIgUEnwaDJkHMiZB9PeZOF5V9V8t8NFSzfWEllnb/NKeNyEjh7VBqnDk9ldFa8Jg4TkR7lUN/f+1PLiEhXa6yGtX+DT/4RHnq7v6wJMPR/wtuASTQZNlZvreKdLyr57/OrWVda2+bwaKeNk4Ymc9aodM4amUZavIKjiPR+CiMiXaViA6z6E6z9OzS3DKG1WGHQyTD6Yhh5AcRnsrumkde/LKf4zbWs2LQHXyDU+hIWCxybFc9pw8MTih0/MBGnXa0fItK3KIyIdKZQCDYVw/t/gE1v7NufNhpO+CGMuhhiU9lUUce/V+3itS828vkub5uXyPS4OXV4CqcMT+Xkockkx7q6+UOIiHQvhRGRzuBvgE+egvf/CJVfz2JqgRHnwYnXQO6pVNT5+ffaXTy/dj2f7KhpPdVigYkDE8O3XkalMTwtViNeRKRfURgRiVR9JezdGt6qt8PeLfDlv6Fxb/h5ZxwcPx3yf0SFPZNXvyhl2RureG/THoItk47ZrBZOPyaVb43J4H9Gpqn1Q0T6tT4TRnrBoKAeTdfvMAwDtrwN7ywI/zyYhEGQfw0Vw7/Li+vr+M8/drN66+fsf2nH5yRw6YRszh+bSYoCiIgI0AfCiM0Wnrra7/cTFRVlcjW9V0NDeKVjTZT2DaEQrH8Jlv8Odq5p2WmB+Kxw+EgYCAkD8aWN5T/+cTy3tpR3XljF/rOujxvg4dwxmXxrTAa5KT1/dmARke7W68OI3W4nOjqaiooKHA4HVqtGGkTCMAwaGhooLy8nISGhNdz1e81N8MlSWLEIKteH99nd4dsvJ/0EEgZS09jM2xsqKP6yjNfeKqPB/2nr6RMGJnDB2CzOHZNBdoJCsojIofT6MGKxWMjMzGTLli1s27bN7HJ6rYSEBDIyMswuw3z1e+CDP8Oqh6G+IrzP5YFJV0P+tZSF4njxk90Uf/k+q7ZUtVl4bmBSNJdMyObSCdkMVguIiEiH9fowAuFF54YPH47f7z/8wXIAh8OhFpFda8Mh5JOnIdAY3hc/AE68lsD4K3lzq4+lz2zlzfUVrZ1QAYamxlAwKp1zjk3n+IGJGgUjInIE+kQYAbBarZrGXCLT3AifPRsOIa39QQivB3PST9mReTZPfrCbp3/3ARW1vtanjx+YwHnHZVIwKl19QEREOkGfCSMiHda4F1Y+DCv/uG84rtUBoy8iNPEHLPcfw1/f384b65a3dkRNjnHynYkDuDxvAMPS4syrXUSkD1IYkf6jvjLcIXXVI+BvWfPFMxDyZhIYO41nNvj50zOb2Vy5uvWUk4clc2X+IM4ala5p2EVEuojCiPRdhgFVm2HrO7DlHVj30r7+IGmj4dSfY4y+hP98UcFv/28dmyvC68fEuuxcNnEAV544iGFpsSZ+ABGR/kFhRPqe8nXw3u9h05tQu6vtc1nHw2k3YhxzLss3VXHfH99vnZo9KcbJdWcM5XuTBhLr0h8NEZHuor9xpe/w7oa37oGPngCjZeVbmxMGnAC5p8CQMzFy8ileV8Gixe/z0fZqAGKcNq4+dQhXnzqYOLcmfRMR6W4KI9L7NXnDLSHvPbTvNsyoC+GEqyEnHxxRBEMGL3+6m0XPLWddabi/iMtu5fv5A5lz5jBNzS4iYiKFEendNr0Jz1+373ZMTj6cfRcMzAegtqmZp1du4S/vbWV7VXjK+xinjSsnD+LqU4aQGqcQIiJiNoUR6Z38DfD67bDqT+HHiYPhnLtg5AVgsbB9TwN/eW8r//ighDpfAICEaAczT8pl5km5JEQ7zatdRETaOKKxiosWLSI3Nxe3201+fj6rVq065PELFy5kxIgRREVFkZOTw89+9jOampqOqGARdn4ID5++L4iccDVc+y6MupDmkMGC1zZw5v1vseTdLdT5AgxNjeHuS8fw3tz/4YaCYxRERER6mIhbRpYuXUphYSGLFy8mPz+fhQsXMmXKFNavX09aWtoBxz/55JPMnTuXJUuWcNJJJ7FhwwZmzpyJxWJhwYIFnfIhpB9Z8xi8VAihAMRmwMWLYHgBAFsr67lh6VrWllQDcOrwFK4+dQinDkvBatU07SIiPZXFMAzj8Iftk5+fzwknnMBDDz0EQCgUIicnh5/85CfMnTv3gON//OMf8+WXX1JcXNy67+c//zkrV65k+fLlHXpPr9eLx+OhpqaG+Pj4SMqVvsIwYPnvoPiO8OPRF8MFCyE6CcMwWLq6hDtf/IIGf5B4t53/vfQ4LhqXZWrJIiL9XUe/vyO6TeP3+1mzZg0FBQX7XsBqpaCggBUrVhz0nJNOOok1a9a03srZvHkzL7/8Muedd1677+Pz+fB6vW026ccMA167dV8QOaUQvvsYRCdRWtPE7L+uYe6zn9LgD3LikCSW3XCagoiISC8S0W2ayspKgsEg6enpbfanp6ezbt26g57z/e9/n8rKSk455RQMwyAQCHDNNdfwq1/9qt33KSoq4o477oikNOmrggF48frw3CEA5/wvnPQTQiGDv63cxm/+s45aXwCHzcKN54xg9qlDdEtGRKSX6fLFNt566y3uuece/vCHP/Dhhx/y7LPP8tJLL3HXXXe1e868efOoqalp3UpKSrq6TOmJAj54ekY4iFis4f4hJ/2EjeW1XP6nFdz6/GfU+gKMz0ngxZ+cyv87faiCiIhILxRRy0hKSgo2m42ysrI2+8vKysjIyDjoObfeeitXXXUVV199NQDHHXcc9fX1/OhHP+Lmm2/Gaj0wD7lcLlwuzf/Qr/nr4alpsPnN8Cyqly3BGHkBT6zYyl0vfok/GCLGaeMXU0Zw1eRcbAohIiK9VkQtI06nk4kTJ7bpjBoKhSguLmby5MkHPaehoeGAwGGz2QCIsO+s9BeN1fD4t8NBxBED057GN/w85j7zKbf+63P8wRBnjkjl1cLTmXnyYAUREZFeLuKhvYWFhcyYMYO8vDwmTZrEwoULqa+vZ9asWQBMnz6d7OxsioqKALjwwgtZsGABEyZMID8/n40bN3Lrrbdy4YUXtoYSkVb1lfD4pVD6Cbg9MO2flHnGcs3D4bVkrBa46dyR/Oi0IVgsCiEiIn1BxGFk6tSpVFRUMH/+fEpLSxk/fjzLli1r7dS6ffv2Ni0ht9xyCxaLhVtuuYWdO3eSmprKhRdeyN133915n0L6hpqd4SBSuR6iU+Cq5/iwOYdrHlxOea2PeLedB79/PKcfk2p2pSIi0okinmfEDJpnpB/Yuhyengn1FRCfDdP/xb92RPOLpz/BHwwxIj2Oh6dPZFByjNmViohIB3X0+1tr04i5DAPe/wO8eisYQUg/DuN7f+P3a/z87vW1AJwzOp3fTR1PjEv/u4qI9EX6213M46+HF34Cnz0Tfjx2Kr5v3c+8Fzbx7Ec7AfjRaUOYe+5IDdkVEenDFEbEHE1eePQ8KPsUrHaYcg97j53J/3vsQ1ZtrcJmtXDXxWP4fv5AsysVEZEupjAi3c8wwi0iZZ9CTCpc/ldK4sYz408r2FxRT5zLzh+uPJ5Th6ujqohIf6AwIt1v1SPwxfNgdcAVT/GF9Rhm/vE9ymt9ZHnc/OUHkzgmPc7sKkVEpJsojEj32rkGXmlZl+jsO3mvKZf/9/gKan0BRqTH8ZcfnECmJ8rcGkVEpFspjEj3adwbHr4baoaRF/DvqIspfHQVzUGDSYOTeGR6Hp4oh9lViohIN1MYke5hGPD8HKjeDgmDeGvk7fx06VoMA847LoMFl4/H7dCMvCIi/ZHCiHSPFYtg/Utgc7LpzEVc98wmDAO+O3EA935nrNaXERHpxyJaKE/kiGx9F16bD4D39DuZ9pKfBn+QU4alcM+3j1MQERHp5xRGpGt5d4f7iRhBAsdexvfXHkupt4lhabEsmnY8Dpv+FxQR6e/0TSBdJ+CHp2dAfTlG2miur5/JZ7tqSY5x8ujME9RZVUREAIUR6Uqv3QolK8Hl4Q9pt/PSOi9Ou5WHp08kJyna7OpERKSHUBiRrvHJ07ByMQBvjLqT+z4IAHDfZWOZOCjJzMpERKSHURiRzrf7E/j3TwHYPOparl4Zntb9F1NGcPH4bDMrExGRHkhhRDpXbSn8/XvQ3EBt9mlc8NmphAy4YlIO150x1OzqRESkB1IYkc7T3Ah/vwK8O2lOHMaFpT+koRlOPyaVuy4eg8WiIbwiInIghRHpHKEQPHcN7PqQUFQSs/w3srXewejMeBZNOx67hvCKiEg79A0hneOtIvjieQyrg1/afsHyPfFketw8OusEYl2a6FdERNqnMCJH7+On4L+/AWCB6zr+WTmItDgXT1ydT3q82+TiRESkp1MYkaOz5jF4/loA/uG6jAf35pMa5+LvPzqRoamxJhcnIiK9gcKIHLl3fx8ewmuEeNl5LjfVXBIOIrMVREREpON0M18iZxjwxl3wzv0APOX8DnO93yYl1s3fZ+czLE1BREREOk5hRCITCsJ/fgmr/w+AhXyfhd4LyIh38/gPJzEsLc7kAkVEpLdRGJGOqy6BZ38E29/DwMKtzbN4IljA8QMTWHzVRNLi1FlVREQipzAiHfPZM/Dvn4GvhiZrFD9vms1LoROZmpfDnZcci8tuM7tCERHppRRG5NB8tfDyL+HjJwH43HIM1zZey05LBndcNJrpkwdpZlURETkqCiNycIYBnz8Lr84H7w5CWHkocBG/D3yb9IQ4/nb5OE4ckmx2lSIi0gcojMiBdn0Ey+bB9hUA7CaVn/quZbUxkmn5A5l33ijNqioiIp1G3yiyT1MNvHIzfPQEYOC3uHjQfyEPBy8gNdHDk98Zy0nDUsyuUkRE+hiFEQlrqIInvh1uFQH+YzmVOxsvp9SSzFWTB3HTuSOJUWuIiIh0AX27CNRVwOOXQNln1Fo9/KDxelYbIxmaGsM/LxvLxEFJZlcoIiJ9mMJIf+fdDX+9GCrXU0kC32v8FVstOfz0zKHM+Z9hGrIrIiJdTmGkP6suwfjrRViqNrPbSOIK/81YU4bx7+8fz6jMeLOrExGRfkJhpL8q/QzjyalYvDvYHkrl+803c+zo4/jtd8cR53aYXZ2IiPQjCiP90fplhP75A6zN9WwKZTK9+VdcOeVkrjl9iCYwExGRbqcw0p8YBqxYhPHqLVgxeDd4LPPsN/Lrq07jlOEasisiIuawHslJixYtIjc3F7fbTX5+PqtWrWr32DPOOAOLxXLAdv755x9x0XIEAn7490/h1ZuxYPBk4H+YH3cHf50zRUFERERMFXHLyNKlSyksLGTx4sXk5+ezcOFCpkyZwvr160lLSzvg+GeffRa/39/6eM+ePYwbN47vfve7R1e5dFz1dvjnD2DHaoKGhbsDV7I263s8PXMSSTFOs6sTEZF+LuKWkQULFjB79mxmzZrF6NGjWbx4MdHR0SxZsuSgxyclJZGRkdG6vfbaa0RHRyuMdJd1L8HiU2DHamqMaH7YfCM7R87kyR9NVhAREZEeIaIw4vf7WbNmDQUFBftewGqloKCAFStWdOg1/vznP/O9732PmJiYdo/x+Xx4vd42m0Qo4If/zIWnvg9NNawNDeV8fxGDJ1/KH6ZNxO3Q/CEiItIzRBRGKisrCQaDpKent9mfnp5OaWnpYc9ftWoVn332GVdfffUhjysqKsLj8bRuOTk5kZQp3t2wZAqs/CMADwfO57v+27jy3FOZf8FobFaNmBERkZ7jiDqwHqk///nPHHfccUyaNOmQx82bN4+amprWraSkpJsq7APKPof/K4BdH1JnjeOH/p/z69CV3HPZ8Vxz+lAN3RURkR4nog6sKSkp2Gw2ysrK2uwvKysjIyPjkOfW19fz1FNPceeddx72fVwuFy6XK5LSBGDj6/CPmeCvZYdtAFc0/JwKeyYPf/94zhqVftjTRUREzBBRy4jT6WTixIkUFxe37guFQhQXFzN58uRDnvv000/j8/m48sorj6xSObQPlsDfLgd/LZ85x3Je/XxqXNn87ep8BREREenRIh7aW1hYyIwZM8jLy2PSpEksXLiQ+vp6Zs2aBcD06dPJzs6mqKiozXl//vOfueSSS0hOTu6cymWf5b+D128H4J3oAn5QNR23283fZ5/ImGyPubWJiIgcRsRhZOrUqVRUVDB//nxKS0sZP348y5Yta+3Uun37dqzWtg0u69evZ/ny5bz66qudU7Xs89Xr8PodAPwrYTrXl04h2mnnL7MmKYiIiEivYDEMwzC7iMPxer14PB5qamqIj9dqsq32boU/nQ5N1bzjuYiryr6Hy27l0VkncNJQzaoqIiLm6uj3d7eOppFO1NwI/5gOTdWURI3ih2XfwWGz8KerJiqIiIhIr6KF8nqrl2+E3R/T6Ejg8r3XEbA4+MMVx3PGiAOn5BcREenJ1DLSG615DD56AgMrP6y/jt0kM/+C0Zw75tDDq0VERHoihZHepvTTcKsIcH9wKu+FxjBj8iBmnjzY5MJERESOjMJIb9LcBM/MhqCf/1ryeKj5As4ckcqtF4w2uzIREZEjpjDSmxTfARVfUmVJ4IbGqxmZEc+D3z8eu03/GUVEpPfSt1hvsekNeP8PABT6ZmOLS2XJzBOIdakPsoiI9G76JusNGqrg+esAeDxQwDscz9Jpx5OVEGVyYSIiIkdPLSM9nWHAiz+D2t1sNjK5OzCNX04ZQV5uktmViYiIdAqFkZ7uk6XwxfMEsHG9fw4nj8xh9qlDzK5KRESk0+g2TU9WuRHjpZ9jARY2f5sqz7E8fvk4rFaL2ZWJiIh0GoWRnqq5EZ6eicVfx/uhUTxiXMzfvz+BhGin2ZWJiIh0Kt2m6amWzYOyT9ljxPNT/4/5xbeO5fiBiWZXJSIi0ukURnqiT/8Jax4lhIUbmq9j6JBh/PAUzbAqIiJ9k27T9DSVG+Hf1wPwUOBiVtvGs+zbx2GxqJ+IiIj0TWoZ6Umam+DpmeCvYzWjeSDwHX5+9ghyU2LMrkxERKTLKIz0JO/cD2Wf4rUmMKdpDscOSGLWyblmVyUiItKldJump9izCd5dCMBNTTOosibx2HfGat0ZERHp8/RN1xMYBvznJgj6WWEZx39Ck7jujKGMyow3uzIREZEupzDSE6x7CTa+RsDiYF7TdIalxTHnf4aZXZWIiEi30G0as/nrYdlcABY3n89WI5O/XzwGl91mcmEiIiLdQy0jZnvnfqgpodyaxkOBizl/bCaThyabXZWIiEi3URgxU+VGePf3ANzcdCUWRzQ3nzfK5KJERES6l8KImf7zSwg1867leF4LTWTOmUPJSogyuyoREZFupTBilk1vwKZighY7v2q6koFJMVx96hCzqxIREel26sBqhlAIXrsNgL8GzmabkcH/XTAat0OdVkVEpP9Ry4gZPnsGSj+hwRLN75sv5owRqZw1Ks3sqkREREyhMNLdAj54404AHvJfgNfqYf4Fo7UQnoiI9FsKI93tgyVQvZ1qWzKPBs/lkvHZDEmNNbsqERER0yiMdKemGnj7NwDc23QpPoubOWcONbkoERERcymMdKd3fw+NVex2DOTp4OlcMDZLrSIiItLvKYx0F+9uWLEIgNvqv0MQG3PO1PozIiIiCiPdZc1fINDIlqhjeTWUx7nHZjAiI87sqkREREynMNJdvvw3AA95TwUs/Fir8oqIiAAKI92jajOUf04QG68Hj+eskWmMyfaYXZWIiEiPoDDSHda9BMDK0EhqiFWriIiIyH6OKIwsWrSI3Nxc3G43+fn5rFq16pDHV1dXM2fOHDIzM3G5XBxzzDG8/PLLR1Rwr/TliwAsC+ZxyrAUJgxMNLkgERGRniPitWmWLl1KYWEhixcvJj8/n4ULFzJlyhTWr19PWtqBU5r7/X7OPvts0tLS+Oc//0l2djbbtm0jISGhM+rv+erKoWQlAK8F8/jlxGyTCxIREelZIg4jCxYsYPbs2cyaNQuAxYsX89JLL7FkyRLmzp17wPFLliyhqqqK9957D4fDAUBubu7RVd2brH8ZMPg4NIRyawpnjtAaNCIiIvuL6DaN3+9nzZo1FBQU7HsBq5WCggJWrFhx0HNeeOEFJk+ezJw5c0hPT2fMmDHcc889BIPBo6u8t2i5RfNKMI8TchNJiHaaXJCIiEjPElHLSGVlJcFgkPT09Db709PTWbdu3UHP2bx5M2+88QbTpk3j5ZdfZuPGjVx33XU0Nzdz2223HfQcn8+Hz+drfez1eiMps+do8sKWtwF4JXQCV4xKP8wJIiIi/U+Xj6YJhUKkpaXx8MMPM3HiRKZOncrNN9/M4sWL2z2nqKgIj8fTuuXk5HR1mV1j42sQ9LPJyGKTkc3ZoxVGREREvimiMJKSkoLNZqOsrKzN/rKyMjIyMg56TmZmJscccww2m61136hRoygtLcXv9x/0nHnz5lFTU9O6lZSURFJmz9Fyi+bV4ESOSY9lUHKMyQWJiIj0PBGFEafTycSJEykuLm7dFwqFKC4uZvLkyQc95+STT2bjxo2EQqHWfRs2bCAzMxOn8+D9J1wuF/Hx8W22Xifgg69eA+CV4AlqFREREWlHxLdpCgsLeeSRR3jsscf48ssvufbaa6mvr28dXTN9+nTmzZvXevy1115LVVUV119/PRs2bOCll17innvuYc6cOZ33KXqizW+Dv5YyI5GPjSEUqL+IiIjIQUU8tHfq1KlUVFQwf/58SktLGT9+PMuWLWvt1Lp9+3as1n0ZJycnh1deeYWf/exnjB07luzsbK6//npuuummzvsUPdG6faNoUuKiGDcgwdx6REREeiiLYRiG2UUcjtfrxePxUFNT0ztu2RgG/PYYqC/nSv88cvLOo+jbY82uSkREpFt19Ptba9N0hT2boL4cH05Whkapv4iIiMghKIx0hR2rAfgklIvd4eKkoSkmFyQiItJzKYx0hZ0fAPBRaDinDk/B7bAd5gQREZH+S2GkK7S0jKwNDdUtGhERkcNQGOls/gaM0s+AcMvImSO1MJ6IiMihKIx0tt0fYzGClBkJuJIGkBLrMrsiERGRHk1hpLO13KL5KDSc43ISTS5GRESk51MY6WwtnVfXhoYyboDH5GJERER6PoWRzrZj30iasZp1VURE5LAURjqTdxd4dxI0LHzOYI7N6gWzxYqIiJhMYaQztbSKrDcGkpWWQowr4qV/RERE+h2Fkc60X38R3aIRERHpGIWRzvR1fxFjmDqvioiIdJDCSGcJBjB2fQTAR6FhahkRERHpIIWRzlL+BZbmBrxGFNut2YzMjDO7IhERkV5BYaSztEx29nFoKCMyEnDZtTieiIhIRyiMdJadawBYawxjrPqLiIiIdJjCSGdpnQZ+GOPUX0RERKTDFEY6Q2M1VG4AYG1oGGNz1DIiIiLSUQojnaHlFs22UBoNjgSGpcaaXJCIiEjvoTDSGfbrLzImy4PdpssqIiLSUfrW7AxlnwPwWShX84uIiIhESGGkM1R+BcBGI5tx6i8iIiISEYWRoxUKYuzZCMBGI4vjshVGREREIqEwcrT2bsUS9OEzHHhdmeQmx5hdkYiISK+iMHK0Wm7RbDYyGTMgEavVYnJBIiIivYvCyNGqXA98fYsmwdxaREREeiGFkaNVEZ7sbGMom5EZWhxPREQkUgojR8lomXl1k5HFMekKIyIiIpFSGDkahoFREb5Ns9mSzZBUdV4VERGJlMLI0agrx+qrIWRYCCYOxe2wmV2RiIhIr6MwcjRabtGUGKkMyUg2uRgREZHeSWHkaLSOpMlWfxEREZEjpDByNL4eSaPOqyIiIkdMYeQo7D+SZkRGrMnViIiI9E4KI0chWB6+TbPNMoBBmgZeRETkiCiMHClfLfa6XQAEk47BYdOlFBERORJH9A26aNEicnNzcbvd5Ofns2rVqnaP/ctf/oLFYmmzud3uIy64x2hZk6bC8JCVmWlyMSIiIr1XxGFk6dKlFBYWctttt/Hhhx8ybtw4pkyZQnl5ebvnxMfHs3v37tZt27ZtR1V0j9Cmv4g6r4qIiBypiMPIggULmD17NrNmzWL06NEsXryY6OholixZ0u45FouFjIyM1i09Pf2oiu4RWmZe3RjKYniaOq+KiIgcqYjCiN/vZ82aNRQUFOx7AauVgoICVqxY0e55dXV1DBo0iJycHC6++GI+//zzQ76Pz+fD6/W22XqaUOuw3my1jIiIiByFiMJIZWUlwWDwgJaN9PR0SktLD3rOiBEjWLJkCf/617944oknCIVCnHTSSezYsaPd9ykqKsLj8bRuOTk5kZTZLQLl6wAosWaTkxhtcjUiIiK9V5cPAZk8eTLTp09n/PjxnH766Tz77LOkpqbypz/9qd1z5s2bR01NTetWUlLS1WVGJtiMvXorAEbKCKxWi7n1iIiI9GL2SA5OSUnBZrNRVlbWZn9ZWRkZGRkdeg2Hw8GECRPYuHFju8e4XC5cLlckpXWvqi1YjQB1hpvEjMFmVyMiItKrRdQy4nQ6mThxIsXFxa37QqEQxcXFTJ48uUOvEQwG+fTTT8nszcNhW9ak2WRkMSJT/UVERESORkQtIwCFhYXMmDGDvLw8Jk2axMKFC6mvr2fWrFkATJ8+nezsbIqKigC48847OfHEExk2bBjV1dXcd999bNu2jauvvrpzP0l3qtgXRrQmjYiIyNGJOIxMnTqViooK5s+fT2lpKePHj2fZsmWtnVq3b9+O1bqvwWXv3r3Mnj2b0tJSEhMTmThxIu+99x6jR4/uvE/RzYLl67ERHtZ7pcKIiIjIUbEYhmGYXcTheL1ePB4PNTU1xMfHm10OjYtOJariE643bmTh7bdgsagDq4iIyDd19PtbC6pEyjBw7A13vjVShiuIiIiIHCWFkUh5d2EPNNBs2IjLOsbsakRERHo9hZFIVW0CoMRIZVhGosnFiIiI9H4KI5HaEw4jW40MRqjzqoiIyFFTGIlQc0W4v8hWI4PhCiMiIiJHTWEkQo2l4QXyyhxZpMQ6Ta5GRESk91MYiVTVZgACniEaSSMiItIJFEYiEQoRXR9etM+RNszkYkRERPoGhZFIeHdiD/nwGzYSM4eYXY2IiEifoDASidZhvWkMTvOYXIyIiEjfoDASgVDlvmG9Q9NiTa5GRESkb1AYiUBDy0ia7WQwMCna5GpERET6BoWRCPjKw3OM1EQPxGHTpRMREekM+kaNgG1veFhvKFGdV0VERDqLwkhHhYLENoSH9bozhptcjIiISN+hMNJRNTuwG834DDupWUPNrkZERKTPUBjpqDbDeuNNLkZERKTvUBjpIH9L59UtRgZDUzWsV0REpLMojHSQd+d6AEptWSTGaIE8ERGRzqIw0kGBynDLSGNcrrmFiIiI9DEKIx3krNkS/iVZnVdFREQ6k8JIRwQDxDfuBCA68xiTixEREelbFEY6wrsDOwF8hoP0AWoZERER6UwKIx3w9QJ524w0hqTFmVyNiIhI36Iw0gHeXesA2EamFsgTERHpZAojHVC/K7xab5VrgBbIExER6WT6Zu0AY0/4No3PM9jkSkRERPoehZEOcNduBcCWMszcQkRERPoghZHDCQZI8O0CID5Lw3pFREQ6m8LI4dRsx06QJsNB1sAhZlcjIiLS5yiMHEZT2VcAbDUyGJKq1XpFREQ6m8LIYVRt/xKAXdZMLZAnIiLSBRRGDuPrlhFv9ECTKxEREembFEYOw6jeDkAwYZDJlYiIiPRNCiOHYWuoACA6eYDJlYiIiPRNCiOHEdO8J/wzKcvkSkRERPomhZFDMQw8wSoAYpMVRkRERLrCEYWRRYsWkZubi9vtJj8/n1WrVnXovKeeegqLxcIll1xyJG/b/ZqqcRIAwJOWbXIxIiIifVPEYWTp0qUUFhZy22238eGHHzJu3DimTJlCeXn5Ic/bunUrN954I6eeeuoRF9vdmvbuBqDaiCEtQXOMiIiIdIWIw8iCBQuYPXs2s2bNYvTo0SxevJjo6GiWLFnS7jnBYJBp06Zxxx13MGRI75nFtKYiPA38HjzEuuwmVyMiItI3RRRG/H4/a9asoaCgYN8LWK0UFBSwYsWKds+78847SUtL44c//GGH3sfn8+H1ettsZqiv2glAjS0Ji8ViSg0iIiJ9XURhpLKykmAwSHp6epv96enplJaWHvSc5cuX8+c//5lHHnmkw+9TVFSEx+Np3XJyciIps9P4Wm7TNDiSTXl/ERGR/qBLR9PU1tZy1VVX8cgjj5CSktLh8+bNm0dNTU3rVlJS0oVVti9YGw5YPnfHaxcREZHIRNQRIiUlBZvNRllZWZv9ZWVlZGRkHHD8pk2b2Lp1KxdeeGHrvlAoFH5ju53169czdOjQA85zuVy4XK5ISusadeFOucGYNJMLERER6bsiahlxOp1MnDiR4uLi1n2hUIji4mImT558wPEjR47k008/Ze3ata3bRRddxJlnnsnatWtNu/3SUY7G8Oyrltj0wxwpIiIiRyriISKFhYXMmDGDvLw8Jk2axMKFC6mvr2fWrFkATJ8+nezsbIqKinC73YwZM6bN+QkJCQAH7O+JonyVADg9CiMiIiJdJeIwMnXqVCoqKpg/fz6lpaWMHz+eZcuWtXZq3b59O1Zr35jYNTawF4CopEyTKxEREem7LIZhGGYXcTherxePx0NNTQ3x8d00+VgoSPDOFGyEWDftA0YOH9497ysiItJHdPT7u280YXSBYF0lNkIEDQuJqVqXRkREpKsojLSjpmIHAFXEkxwXZXI1IiIifZfCSDtqK8Ozr1ZZErHbdJlERES6ir5l29FQFV6XptaeZHIlIiIifZvCSDuaa8Kzrza5NBW8iIhIV1IYaUeoNjz7arOmghcREelSCiPtsDWEw0hIs6+KiIh0KYWRdjibwrOv2uIURkRERLqSwkg7Yvx7AHAlavZVERGRrqQw0o74YBUAMUnZJlciIiLStymMHEzARzx1AHg0+6qIiEiXUhg5iIaq3QD4DRspKeozIiIi0pUURg6iuiI8++oeEohxO0yuRkREpG9TGDmIuj3hMFJt0+yrIiIiXU1h5CCa9oZv09Q7FEZERES6msLIQQS8X08Fr9lXRUREuprCyMHUlQEQjE41uRAREZG+T2HkIOwNFeFfNBW8iIhIl1MYOYgoX3gqeLsnw+RKRERE+j6FkYOICewFIEpTwYuIiHQ5hZGDSAiFw0hsimZfFRER6WoKI98QaPQSTRMAiakDTK5GRESk71MY+Yaa8vCEZ3WGm6REzTMiIiLS1RRGvqGmcgcAey0J2KwWk6sRERHp+xRGvqGhahcAXrtaRURERLqDwsg3+KrDU8E3OJNNrkRERKR/UBj5hlBtOQB+t6aCFxER6Q4KI99gqQ+HESMmzeRKRERE+geFkW9wNoangrfGafZVERGR7qAw8g3R/j0AuDxal0ZERKQ7KIx8Q3ywCoCoZM2+KiIi0h0URvZjhIIkhKoBiE/JNrcYERGRfkJhZD91NZU4LUEAktIURkRERLqDwsh+9rZMBV9txBIdHWNyNSIiIv2Dwsh+6irDYaTGmmBuISIiIv2Iwsh+mqrLAKizJ5pciYiISP+hMLKfZm84jDS6NBW8iIhIdzmiMLJo0SJyc3Nxu93k5+ezatWqdo999tlnycvLIyEhgZiYGMaPH8/jjz9+xAV3JaM+POFZwK0wIiIi0l0iDiNLly6lsLCQ2267jQ8//JBx48YxZcoUysvLD3p8UlISN998MytWrOCTTz5h1qxZzJo1i1deeeWoi+9s1oZwGDGiU02uREREpP+IOIwsWLCA2bNnM2vWLEaPHs3ixYuJjo5myZIlBz3+jDPO4NJLL2XUqFEMHTqU66+/nrFjx7J8+fKjLr6zOZvCE55Z4rQujYiISHeJKIz4/X7WrFlDQUHBvhewWikoKGDFihWHPd8wDIqLi1m/fj2nnXZau8f5fD68Xm+brTtE+cNhxBmvqeBFRES6S0RhpLKykmAwSHp62y/r9PR0SktL2z2vpqaG2NhYnE4n559/Pg8++CBnn312u8cXFRXh8Xhat5ycnEjKPGJxwb0ARCcqjIiIiHSXbhlNExcXx9q1a1m9ejV33303hYWFvPXWW+0eP2/ePGpqalq3kpKS7igTT8tU8LFJmd3yfiIiIgL2SA5OSUnBZrNRVlbWZn9ZWRkZGRntnme1Whk2bBgA48eP58svv6SoqIgzzjjjoMe7XC5cLlckpR21hroaYiw+ABI0FbyIiEi3iahlxOl0MnHiRIqLi1v3hUIhiouLmTx5codfJxQK4fP5InnrLre3InybqclwEBPrMbkaERGR/iOilhGAwsJCZsyYQV5eHpMmTWLhwoXU19cza9YsAKZPn052djZFRUVAuP9HXl4eQ4cOxefz8fLLL/P444/zxz/+sXM/yVHy7tlJNlBtTSDDqrngREREukvEYWTq1KlUVFQwf/58SktLGT9+PMuWLWvt1Lp9+3as+32Z19fXc91117Fjxw6ioqIYOXIkTzzxBFOnTu28T9EJGveGW0a8tkTav+EkIiIinc1iGIZhdhGH4/V68Xg81NTUEB8f3yXv8f4/F3LiZ7fxcVQ+4256tUveQ0REpD/p6Pe37ke0CNWGO+U2ayp4ERGRbqUw0sLSMhV8MCrF5EpERET6F4WRFvbGPeFfYrUujYiISHdSGGnhapkK3qGp4EVERLqVwkiL2EB4Kni3R2FERESkOymMtPh6KviYZE0FLyIi0p0URgCf30+CEV4Z2JOcZXI1IiIi/YvCCFC9pwybJTzdSnyypjwTERHpTgojQE3FbgCqicNqd5hcjYiISP+iMALU7w2HkRprosmViIiI9D8KI0BTdXhdmnqHwoiIiEh3UxgBgrXlAPhcSSZXIiIi0v8ojADUtUwFr3VpREREup3CCGBtrATAiEkzuRIREZH+R2EEcPnC69LY4rQujYiISHdTGAGim8NTwbs8mmNERESkuymMAHHBcBiJSlIYERER6W79PowEQwaJRg2gqeBFRETM0O/DyN7qvcRYfAB4UrRInoiISHfr92GkpnIXAE04sUfFm1yNiIhI/9Pvw0jtnvDsq9WWBLBYzC1GRESkH+r3YeTrqeDr7AnmFiIiItJP9fsw0lwTDiNNTk0FLyIiYoZ+H0ZCdeHZV5vdKSZXIiIi0j/1+zBiaQivSxOKVhgRERExQ78PI46m8FTw1lhNBS8iImKGfh9Gov1VADji002uREREpH/q92EktmUqeHeiJjwTERExQ78OI4Zh4AmFp4KP07o0IiIipujXYcRb7yMRLwCeVK1LIyIiYoZ+HUb27inFZjEIGRbc8WlmlyMiItIv9esw4m1Zl8ZriQOb3eRqRERE+qd+HUYa9pYBUGtLMLcQERGRfqxfhxF/y1TwDQ5NBS8iImKWfh1GgrXlAPjcySZXIiIi0n/16zBCy1TwwShNBS8iImKWfh1GbI3hqeAtmgpeRETENEcURhYtWkRubi5ut5v8/HxWrVrV7rGPPPIIp556KomJiSQmJlJQUHDI47uT2xcOI/Y4hRERERGzRBxGli5dSmFhIbfddhsffvgh48aNY8qUKZSXlx/0+LfeeosrrriCN998kxUrVpCTk8M555zDzp07j7r4ozXQVQ9AQmq2yZWIiIj0XxbDMIxITsjPz+eEE07goYceAiAUCpGTk8NPfvIT5s6de9jzg8EgiYmJPPTQQ0yfPr1D7+n1evF4PNTU1BAfHx9JuYe25jHY8xVMnAXJQzvvdUVERKTD398RzfTl9/tZs2YN8+bNa91ntVopKChgxYoVHXqNhoYGmpubSUpqfzitz+fD5/O1PvZ6vZGU2XETZ3TN64qIiEiHRXSbprKykmAwSHp6epv96enplJaWdug1brrpJrKysigoKGj3mKKiIjweT+uWk5MTSZkiIiLSi3TraJp7772Xp556iueeew63293ucfPmzaOmpqZ1Kykp6cYqRUREpDtFdJsmJSUFm81GWVlZm/1lZWVkZGQc8tzf/va33Hvvvbz++uuMHTv2kMe6XC5cLlckpYmIiEgvFVHLiNPpZOLEiRQXF7fuC4VCFBcXM3ny5HbP+81vfsNdd93FsmXLyMvLO/JqRUREpM+JeKnawsJCZsyYQV5eHpMmTWLhwoXU19cza9YsAKZPn052djZFRUUA/PrXv2b+/Pk8+eST5ObmtvYtiY2NJTY2thM/ioiIiPRGEYeRqVOnUlFRwfz58yktLWX8+PEsW7astVPr9u3bsVr3Nbj88Y9/xO/3c9lll7V5ndtuu43bb7/96KoXERGRXi/ieUbM0GXzjIiIiEiX6ej3d79em0ZERETMpzAiIiIiplIYEREREVMpjIiIiIipFEZERETEVAojIiIiYqqI5xkxw9ejj7ts9V4RERHpdF9/bx9uFpFeEUZqa2sBtHqviIhIL1RbW4vH42n3+V4x6VkoFGLXrl3ExcVhsVg67XW9Xi85OTmUlJRoMrUupmvdfXStu5eud/fRte4+nXWtDcOgtraWrKysNrOzf1OvaBmxWq0MGDCgy14/Pj5e/2N3E13r7qNr3b10vbuPrnX36YxrfagWka+pA6uIiIiYSmFERERETNWvw4jL5eK2227D5XKZXUqfp2vdfXStu5eud/fRte4+3X2te0UHVhEREem7+nXLiIiIiJhPYURERERMpTAiIiIiplIYEREREVP16zCyaNEicnNzcbvd5Ofns2rVKrNL6vWKioo44YQTiIuLIy0tjUsuuYT169e3OaapqYk5c+aQnJxMbGws3/nOdygrKzOp4r7h3nvvxWKxcMMNN7Tu03XuXDt37uTKK68kOTmZqKgojjvuOD744IPW5w3DYP78+WRmZhIVFUVBQQFfffWViRX3TsFgkFtvvZXBgwcTFRXF0KFDueuuu9qsbaJrfWT++9//cuGFF5KVlYXFYuH5559v83xHrmtVVRXTpk0jPj6ehIQEfvjDH1JXV3f0xRn91FNPPWU4nU5jyZIlxueff27Mnj3bSEhIMMrKyswurVebMmWK8eijjxqfffaZsXbtWuO8884zBg4caNTV1bUec8011xg5OTlGcXGx8cEHHxgnnniicdJJJ5lYde+2atUqIzc31xg7dqxx/fXXt+7Xde48VVVVxqBBg4yZM2caK1euNDZv3my88sorxsaNG1uPuffeew2Px2M8//zzxscff2xcdNFFxuDBg43GxkYTK+997r77biM5Odl48cUXjS1bthhPP/20ERsbazzwwAOtx+haH5mXX37ZuPnmm41nn33WAIznnnuuzfMdua7nnnuuMW7cOOP999833nnnHWPYsGHGFVdccdS19dswMmnSJGPOnDmtj4PBoJGVlWUUFRWZWFXfU15ebgDG22+/bRiGYVRXVxsOh8N4+umnW4/58ssvDcBYsWKFWWX2WrW1tcbw4cON1157zTj99NNbw4iuc+e66aabjFNOOaXd50OhkJGRkWHcd999rfuqq6sNl8tl/P3vf++OEvuM888/3/jBD37QZt+3v/1tY9q0aYZh6Fp3lm+GkY5c1y+++MIAjNWrV7ce85///MewWCzGzp07j6qefnmbxu/3s2bNGgoKClr3Wa1WCgoKWLFihYmV9T01NTUAJCUlAbBmzRqam5vbXPuRI0cycOBAXfsjMGfOHM4///w21xN0nTvbCy+8QF5eHt/97ndJS0tjwoQJPPLII63Pb9myhdLS0jbX2+PxkJ+fr+sdoZNOOoni4mI2bNgAwMcff8zy5cv51re+Behad5WOXNcVK1aQkJBAXl5e6zEFBQVYrVZWrlx5VO/fKxbK62yVlZUEg0HS09Pb7E9PT2fdunUmVdX3hEIhbrjhBk4++WTGjBkDQGlpKU6nk4SEhDbHpqenU1paakKVvddTTz3Fhx9+yOrVqw94Tte5c23evJk//vGPFBYW8qtf/YrVq1fz05/+FKfTyYwZM1qv6cH+TtH1jszcuXPxer2MHDkSm81GMBjk7rvvZtq0aQC61l2kI9e1tLSUtLS0Ns/b7XaSkpKO+tr3yzAi3WPOnDl89tlnLF++3OxS+pySkhKuv/56XnvtNdxut9nl9HmhUIi8vDzuueceACZMmMBnn33G4sWLmTFjhsnV9S3/+Mc/+Nvf/saTTz7Jsccey9q1a7nhhhvIysrSte7D+uVtmpSUFGw22wEjC8rKysjIyDCpqr7lxz/+MS+++CJvvvkmAwYMaN2fkZGB3++nurq6zfG69pFZs2YN5eXlHH/88djtdux2O2+//Ta///3vsdvtpKen6zp3oszMTEaPHt1m36hRo9i+fTtA6zXV3ylH7xe/+AVz587le9/7HscddxxXXXUVP/vZzygqKgJ0rbtKR65rRkYG5eXlbZ4PBAJUVVUd9bXvl2HE6XQyceJEiouLW/eFQiGKi4uZPHmyiZX1foZh8OMf/5jnnnuON954g8GDB7d5fuLEiTgcjjbXfv369Wzfvl3XPgJnnXUWn376KWvXrm3d8vLymDZtWuvvus6d5+STTz5giPqGDRsYNGgQAIMHDyYjI6PN9fZ6vaxcuVLXO0INDQ1YrW2/mmw2G6FQCNC17iodua6TJ0+murqaNWvWtB7zxhtvEAqFyM/PP7oCjqr7ay/21FNPGS6Xy/jLX/5ifPHFF8aPfvQjIyEhwSgtLTW7tF7t2muvNTwej/HWW28Zu3fvbt0aGhpaj7nmmmuMgQMHGm+88YbxwQcfGJMnTzYmT55sYtV9w/6jaQxD17kzrVq1yrDb7cbdd99tfPXVV8bf/vY3Izo62njiiSdaj7n33nuNhIQE41//+pfxySefGBdffLGGmx6BGTNmGNnZ2a1De5999lkjJSXF+OUvf9l6jK71kamtrTU++ugj46OPPjIAY8GCBcZHH31kbNu2zTCMjl3Xc88915gwYYKxcuVKY/ny5cbw4cM1tPdoPfjgg8bAgQMNp9NpTJo0yXj//ffNLqnXAw66Pfroo63HNDY2Gtddd52RmJhoREdHG5deeqmxe/du84ruI74ZRnSdO9e///1vY8yYMYbL5TJGjhxpPPzww22eD4VCxq233mqkp6cbLpfLOOuss4z169ebVG3v5fV6jeuvv94YOHCg4Xa7jSFDhhg333yz4fP5Wo/RtT4yb7755kH/fp4xY4ZhGB27rnv27DGuuOIKIzY21oiPjzdmzZpl1NbWHnVtFsPYb1o7ERERkW7WL/uMiIiISM+hMCIiIiKmUhgRERERUymMiIiIiKkURkRERMRUCiMiIiJiKoURERERMZXCiIiIiJhKYURERERMpTAiIiIiplIYEREREVMpjIiIiIip/j8M5Edy4MvzywAAAABJRU5ErkJggg==)"
      ],
      "metadata": {
        "id": "gWSkzw8sT5Im"
      }
    }
  ]
}