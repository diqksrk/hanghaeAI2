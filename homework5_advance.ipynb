{
  "cells": [
    {
      "cell_type": "code",
      "execution_count": 29,
      "metadata": {
        "colab": {
          "base_uri": "https://localhost:8080/"
        },
        "id": "TwaANvAGIwl4",
        "outputId": "02c156df-655d-4a3f-cf69-8c4fd3edebd4"
      },
      "outputs": [
        {
          "name": "stdout",
          "output_type": "stream",
          "text": [
            "Requirement already satisfied: langchain-community in /opt/homebrew/lib/python3.12/site-packages (0.3.14)\n",
            "Requirement already satisfied: langchain-chroma in /opt/homebrew/lib/python3.12/site-packages (0.2.0)\n",
            "Requirement already satisfied: langchain-openai in /opt/homebrew/lib/python3.12/site-packages (0.3.0)\n",
            "Requirement already satisfied: bs4 in /opt/homebrew/lib/python3.12/site-packages (0.0.2)\n",
            "Requirement already satisfied: pypdf in /opt/homebrew/lib/python3.12/site-packages (5.1.0)\n",
            "Requirement already satisfied: PyPDF2 in /opt/homebrew/lib/python3.12/site-packages (3.0.1)\n",
            "Requirement already satisfied: PyYAML>=5.3 in /opt/homebrew/lib/python3.12/site-packages (from langchain-community) (6.0.2)\n",
            "Requirement already satisfied: SQLAlchemy<3,>=1.4 in /opt/homebrew/lib/python3.12/site-packages (from langchain-community) (1.4.54)\n",
            "Requirement already satisfied: aiohttp<4.0.0,>=3.8.3 in /opt/homebrew/lib/python3.12/site-packages (from langchain-community) (3.11.11)\n",
            "Requirement already satisfied: dataclasses-json<0.7,>=0.5.7 in /opt/homebrew/lib/python3.12/site-packages (from langchain-community) (0.6.7)\n",
            "Requirement already satisfied: httpx-sse<0.5.0,>=0.4.0 in /opt/homebrew/lib/python3.12/site-packages (from langchain-community) (0.4.0)\n",
            "Requirement already satisfied: langchain<0.4.0,>=0.3.14 in /opt/homebrew/lib/python3.12/site-packages (from langchain-community) (0.3.14)\n",
            "Requirement already satisfied: langchain-core<0.4.0,>=0.3.29 in /opt/homebrew/lib/python3.12/site-packages (from langchain-community) (0.3.29)\n",
            "Requirement already satisfied: langsmith<0.3,>=0.1.125 in /opt/homebrew/lib/python3.12/site-packages (from langchain-community) (0.2.10)\n",
            "Requirement already satisfied: numpy<3,>=1.26.2 in /opt/homebrew/lib/python3.12/site-packages (from langchain-community) (1.26.4)\n",
            "Requirement already satisfied: pydantic-settings<3.0.0,>=2.4.0 in /opt/homebrew/lib/python3.12/site-packages (from langchain-community) (2.7.1)\n",
            "Requirement already satisfied: requests<3,>=2 in /opt/homebrew/lib/python3.12/site-packages (from langchain-community) (2.32.3)\n",
            "Requirement already satisfied: tenacity!=8.4.0,<10,>=8.1.0 in /opt/homebrew/lib/python3.12/site-packages (from langchain-community) (9.0.0)\n",
            "Requirement already satisfied: chromadb!=0.5.10,!=0.5.11,!=0.5.12,!=0.5.4,!=0.5.5,!=0.5.7,!=0.5.9,<0.6.0,>=0.4.0 in /opt/homebrew/lib/python3.12/site-packages (from langchain-chroma) (0.5.23)\n",
            "Requirement already satisfied: fastapi<1,>=0.95.2 in /opt/homebrew/lib/python3.12/site-packages (from langchain-chroma) (0.115.6)\n",
            "Requirement already satisfied: openai<2.0.0,>=1.58.1 in /opt/homebrew/lib/python3.12/site-packages (from langchain-openai) (1.59.6)\n",
            "Requirement already satisfied: tiktoken<1,>=0.7 in /opt/homebrew/lib/python3.12/site-packages (from langchain-openai) (0.8.0)\n",
            "Requirement already satisfied: beautifulsoup4 in /opt/homebrew/lib/python3.12/site-packages (from bs4) (4.12.3)\n",
            "Requirement already satisfied: aiohappyeyeballs>=2.3.0 in /opt/homebrew/lib/python3.12/site-packages (from aiohttp<4.0.0,>=3.8.3->langchain-community) (2.4.4)\n",
            "Requirement already satisfied: aiosignal>=1.1.2 in /opt/homebrew/lib/python3.12/site-packages (from aiohttp<4.0.0,>=3.8.3->langchain-community) (1.3.2)\n",
            "Requirement already satisfied: attrs>=17.3.0 in /opt/homebrew/lib/python3.12/site-packages (from aiohttp<4.0.0,>=3.8.3->langchain-community) (24.3.0)\n",
            "Requirement already satisfied: frozenlist>=1.1.1 in /opt/homebrew/lib/python3.12/site-packages (from aiohttp<4.0.0,>=3.8.3->langchain-community) (1.5.0)\n",
            "Requirement already satisfied: multidict<7.0,>=4.5 in /opt/homebrew/lib/python3.12/site-packages (from aiohttp<4.0.0,>=3.8.3->langchain-community) (6.1.0)\n",
            "Requirement already satisfied: propcache>=0.2.0 in /opt/homebrew/lib/python3.12/site-packages (from aiohttp<4.0.0,>=3.8.3->langchain-community) (0.2.1)\n",
            "Requirement already satisfied: yarl<2.0,>=1.17.0 in /opt/homebrew/lib/python3.12/site-packages (from aiohttp<4.0.0,>=3.8.3->langchain-community) (1.18.3)\n",
            "Requirement already satisfied: build>=1.0.3 in /opt/homebrew/lib/python3.12/site-packages (from chromadb!=0.5.10,!=0.5.11,!=0.5.12,!=0.5.4,!=0.5.5,!=0.5.7,!=0.5.9,<0.6.0,>=0.4.0->langchain-chroma) (1.2.2.post1)\n",
            "Requirement already satisfied: pydantic>=1.9 in /opt/homebrew/lib/python3.12/site-packages (from chromadb!=0.5.10,!=0.5.11,!=0.5.12,!=0.5.4,!=0.5.5,!=0.5.7,!=0.5.9,<0.6.0,>=0.4.0->langchain-chroma) (2.10.4)\n",
            "Requirement already satisfied: chroma-hnswlib==0.7.6 in /opt/homebrew/lib/python3.12/site-packages (from chromadb!=0.5.10,!=0.5.11,!=0.5.12,!=0.5.4,!=0.5.5,!=0.5.7,!=0.5.9,<0.6.0,>=0.4.0->langchain-chroma) (0.7.6)\n",
            "Requirement already satisfied: uvicorn>=0.18.3 in /opt/homebrew/lib/python3.12/site-packages (from uvicorn[standard]>=0.18.3->chromadb!=0.5.10,!=0.5.11,!=0.5.12,!=0.5.4,!=0.5.5,!=0.5.7,!=0.5.9,<0.6.0,>=0.4.0->langchain-chroma) (0.34.0)\n",
            "Requirement already satisfied: posthog>=2.4.0 in /opt/homebrew/lib/python3.12/site-packages (from chromadb!=0.5.10,!=0.5.11,!=0.5.12,!=0.5.4,!=0.5.5,!=0.5.7,!=0.5.9,<0.6.0,>=0.4.0->langchain-chroma) (3.7.5)\n",
            "Requirement already satisfied: typing_extensions>=4.5.0 in /opt/homebrew/lib/python3.12/site-packages (from chromadb!=0.5.10,!=0.5.11,!=0.5.12,!=0.5.4,!=0.5.5,!=0.5.7,!=0.5.9,<0.6.0,>=0.4.0->langchain-chroma) (4.12.2)\n",
            "Requirement already satisfied: onnxruntime>=1.14.1 in /opt/homebrew/lib/python3.12/site-packages (from chromadb!=0.5.10,!=0.5.11,!=0.5.12,!=0.5.4,!=0.5.5,!=0.5.7,!=0.5.9,<0.6.0,>=0.4.0->langchain-chroma) (1.20.1)\n",
            "Requirement already satisfied: opentelemetry-api>=1.2.0 in /opt/homebrew/lib/python3.12/site-packages (from chromadb!=0.5.10,!=0.5.11,!=0.5.12,!=0.5.4,!=0.5.5,!=0.5.7,!=0.5.9,<0.6.0,>=0.4.0->langchain-chroma) (1.29.0)\n",
            "Requirement already satisfied: opentelemetry-exporter-otlp-proto-grpc>=1.2.0 in /opt/homebrew/lib/python3.12/site-packages (from chromadb!=0.5.10,!=0.5.11,!=0.5.12,!=0.5.4,!=0.5.5,!=0.5.7,!=0.5.9,<0.6.0,>=0.4.0->langchain-chroma) (1.29.0)\n",
            "Requirement already satisfied: opentelemetry-instrumentation-fastapi>=0.41b0 in /opt/homebrew/lib/python3.12/site-packages (from chromadb!=0.5.10,!=0.5.11,!=0.5.12,!=0.5.4,!=0.5.5,!=0.5.7,!=0.5.9,<0.6.0,>=0.4.0->langchain-chroma) (0.50b0)\n",
            "Requirement already satisfied: opentelemetry-sdk>=1.2.0 in /opt/homebrew/lib/python3.12/site-packages (from chromadb!=0.5.10,!=0.5.11,!=0.5.12,!=0.5.4,!=0.5.5,!=0.5.7,!=0.5.9,<0.6.0,>=0.4.0->langchain-chroma) (1.29.0)\n",
            "Requirement already satisfied: tokenizers<=0.20.3,>=0.13.2 in /opt/homebrew/lib/python3.12/site-packages (from chromadb!=0.5.10,!=0.5.11,!=0.5.12,!=0.5.4,!=0.5.5,!=0.5.7,!=0.5.9,<0.6.0,>=0.4.0->langchain-chroma) (0.20.3)\n",
            "Requirement already satisfied: pypika>=0.48.9 in /opt/homebrew/lib/python3.12/site-packages (from chromadb!=0.5.10,!=0.5.11,!=0.5.12,!=0.5.4,!=0.5.5,!=0.5.7,!=0.5.9,<0.6.0,>=0.4.0->langchain-chroma) (0.48.9)\n",
            "Requirement already satisfied: tqdm>=4.65.0 in /opt/homebrew/lib/python3.12/site-packages (from chromadb!=0.5.10,!=0.5.11,!=0.5.12,!=0.5.4,!=0.5.5,!=0.5.7,!=0.5.9,<0.6.0,>=0.4.0->langchain-chroma) (4.67.1)\n",
            "Requirement already satisfied: overrides>=7.3.1 in /opt/homebrew/lib/python3.12/site-packages (from chromadb!=0.5.10,!=0.5.11,!=0.5.12,!=0.5.4,!=0.5.5,!=0.5.7,!=0.5.9,<0.6.0,>=0.4.0->langchain-chroma) (7.7.0)\n",
            "Requirement already satisfied: importlib-resources in /opt/homebrew/lib/python3.12/site-packages (from chromadb!=0.5.10,!=0.5.11,!=0.5.12,!=0.5.4,!=0.5.5,!=0.5.7,!=0.5.9,<0.6.0,>=0.4.0->langchain-chroma) (6.5.2)\n",
            "Requirement already satisfied: grpcio>=1.58.0 in /opt/homebrew/lib/python3.12/site-packages (from chromadb!=0.5.10,!=0.5.11,!=0.5.12,!=0.5.4,!=0.5.5,!=0.5.7,!=0.5.9,<0.6.0,>=0.4.0->langchain-chroma) (1.69.0)\n",
            "Requirement already satisfied: bcrypt>=4.0.1 in /opt/homebrew/lib/python3.12/site-packages (from chromadb!=0.5.10,!=0.5.11,!=0.5.12,!=0.5.4,!=0.5.5,!=0.5.7,!=0.5.9,<0.6.0,>=0.4.0->langchain-chroma) (4.2.1)\n",
            "Requirement already satisfied: typer>=0.9.0 in /opt/homebrew/lib/python3.12/site-packages (from chromadb!=0.5.10,!=0.5.11,!=0.5.12,!=0.5.4,!=0.5.5,!=0.5.7,!=0.5.9,<0.6.0,>=0.4.0->langchain-chroma) (0.15.1)\n",
            "Requirement already satisfied: kubernetes>=28.1.0 in /opt/homebrew/lib/python3.12/site-packages (from chromadb!=0.5.10,!=0.5.11,!=0.5.12,!=0.5.4,!=0.5.5,!=0.5.7,!=0.5.9,<0.6.0,>=0.4.0->langchain-chroma) (31.0.0)\n",
            "Requirement already satisfied: mmh3>=4.0.1 in /opt/homebrew/lib/python3.12/site-packages (from chromadb!=0.5.10,!=0.5.11,!=0.5.12,!=0.5.4,!=0.5.5,!=0.5.7,!=0.5.9,<0.6.0,>=0.4.0->langchain-chroma) (5.0.1)\n",
            "Requirement already satisfied: orjson>=3.9.12 in /opt/homebrew/lib/python3.12/site-packages (from chromadb!=0.5.10,!=0.5.11,!=0.5.12,!=0.5.4,!=0.5.5,!=0.5.7,!=0.5.9,<0.6.0,>=0.4.0->langchain-chroma) (3.10.13)\n",
            "Requirement already satisfied: httpx>=0.27.0 in /opt/homebrew/lib/python3.12/site-packages (from chromadb!=0.5.10,!=0.5.11,!=0.5.12,!=0.5.4,!=0.5.5,!=0.5.7,!=0.5.9,<0.6.0,>=0.4.0->langchain-chroma) (0.28.1)\n",
            "Requirement already satisfied: rich>=10.11.0 in /opt/homebrew/lib/python3.12/site-packages (from chromadb!=0.5.10,!=0.5.11,!=0.5.12,!=0.5.4,!=0.5.5,!=0.5.7,!=0.5.9,<0.6.0,>=0.4.0->langchain-chroma) (13.9.4)\n",
            "Requirement already satisfied: marshmallow<4.0.0,>=3.18.0 in /opt/homebrew/lib/python3.12/site-packages (from dataclasses-json<0.7,>=0.5.7->langchain-community) (3.23.3)\n",
            "Requirement already satisfied: typing-inspect<1,>=0.4.0 in /opt/homebrew/lib/python3.12/site-packages (from dataclasses-json<0.7,>=0.5.7->langchain-community) (0.9.0)\n",
            "Requirement already satisfied: starlette<0.42.0,>=0.40.0 in /opt/homebrew/lib/python3.12/site-packages (from fastapi<1,>=0.95.2->langchain-chroma) (0.41.3)\n",
            "Requirement already satisfied: langchain-text-splitters<0.4.0,>=0.3.3 in /opt/homebrew/lib/python3.12/site-packages (from langchain<0.4.0,>=0.3.14->langchain-community) (0.3.4)\n",
            "Requirement already satisfied: jsonpatch<2.0,>=1.33 in /opt/homebrew/lib/python3.12/site-packages (from langchain-core<0.4.0,>=0.3.29->langchain-community) (1.33)\n",
            "Requirement already satisfied: packaging<25,>=23.2 in /Users/user/Library/Python/3.12/lib/python/site-packages (from langchain-core<0.4.0,>=0.3.29->langchain-community) (24.2)\n",
            "Requirement already satisfied: requests-toolbelt<2.0.0,>=1.0.0 in /opt/homebrew/lib/python3.12/site-packages (from langsmith<0.3,>=0.1.125->langchain-community) (1.0.0)\n",
            "Requirement already satisfied: anyio<5,>=3.5.0 in /opt/homebrew/lib/python3.12/site-packages (from openai<2.0.0,>=1.58.1->langchain-openai) (4.7.0)\n",
            "Requirement already satisfied: distro<2,>=1.7.0 in /opt/homebrew/lib/python3.12/site-packages (from openai<2.0.0,>=1.58.1->langchain-openai) (1.9.0)\n",
            "Requirement already satisfied: jiter<1,>=0.4.0 in /opt/homebrew/lib/python3.12/site-packages (from openai<2.0.0,>=1.58.1->langchain-openai) (0.8.2)\n",
            "Requirement already satisfied: sniffio in /opt/homebrew/lib/python3.12/site-packages (from openai<2.0.0,>=1.58.1->langchain-openai) (1.3.1)\n",
            "Requirement already satisfied: python-dotenv>=0.21.0 in /opt/homebrew/lib/python3.12/site-packages (from pydantic-settings<3.0.0,>=2.4.0->langchain-community) (1.0.1)\n",
            "Requirement already satisfied: charset-normalizer<4,>=2 in /opt/homebrew/lib/python3.12/site-packages (from requests<3,>=2->langchain-community) (3.4.1)\n",
            "Requirement already satisfied: idna<4,>=2.5 in /opt/homebrew/lib/python3.12/site-packages (from requests<3,>=2->langchain-community) (3.10)\n",
            "Requirement already satisfied: urllib3<3,>=1.21.1 in /opt/homebrew/lib/python3.12/site-packages (from requests<3,>=2->langchain-community) (2.3.0)\n",
            "Requirement already satisfied: certifi>=2017.4.17 in /opt/homebrew/lib/python3.12/site-packages (from requests<3,>=2->langchain-community) (2024.12.14)\n",
            "Requirement already satisfied: regex>=2022.1.18 in /opt/homebrew/lib/python3.12/site-packages (from tiktoken<1,>=0.7->langchain-openai) (2024.11.6)\n",
            "Requirement already satisfied: soupsieve>1.2 in /opt/homebrew/lib/python3.12/site-packages (from beautifulsoup4->bs4) (2.6)\n",
            "Requirement already satisfied: pyproject_hooks in /opt/homebrew/lib/python3.12/site-packages (from build>=1.0.3->chromadb!=0.5.10,!=0.5.11,!=0.5.12,!=0.5.4,!=0.5.5,!=0.5.7,!=0.5.9,<0.6.0,>=0.4.0->langchain-chroma) (1.2.0)\n",
            "Requirement already satisfied: httpcore==1.* in /opt/homebrew/lib/python3.12/site-packages (from httpx>=0.27.0->chromadb!=0.5.10,!=0.5.11,!=0.5.12,!=0.5.4,!=0.5.5,!=0.5.7,!=0.5.9,<0.6.0,>=0.4.0->langchain-chroma) (1.0.7)\n",
            "Requirement already satisfied: h11<0.15,>=0.13 in /opt/homebrew/lib/python3.12/site-packages (from httpcore==1.*->httpx>=0.27.0->chromadb!=0.5.10,!=0.5.11,!=0.5.12,!=0.5.4,!=0.5.5,!=0.5.7,!=0.5.9,<0.6.0,>=0.4.0->langchain-chroma) (0.14.0)\n",
            "Requirement already satisfied: jsonpointer>=1.9 in /opt/homebrew/lib/python3.12/site-packages (from jsonpatch<2.0,>=1.33->langchain-core<0.4.0,>=0.3.29->langchain-community) (3.0.0)\n",
            "Requirement already satisfied: six>=1.9.0 in /Users/user/Library/Python/3.12/lib/python/site-packages (from kubernetes>=28.1.0->chromadb!=0.5.10,!=0.5.11,!=0.5.12,!=0.5.4,!=0.5.5,!=0.5.7,!=0.5.9,<0.6.0,>=0.4.0->langchain-chroma) (1.17.0)\n",
            "Requirement already satisfied: python-dateutil>=2.5.3 in /Users/user/Library/Python/3.12/lib/python/site-packages (from kubernetes>=28.1.0->chromadb!=0.5.10,!=0.5.11,!=0.5.12,!=0.5.4,!=0.5.5,!=0.5.7,!=0.5.9,<0.6.0,>=0.4.0->langchain-chroma) (2.9.0.post0)\n",
            "Requirement already satisfied: google-auth>=1.0.1 in /opt/homebrew/lib/python3.12/site-packages (from kubernetes>=28.1.0->chromadb!=0.5.10,!=0.5.11,!=0.5.12,!=0.5.4,!=0.5.5,!=0.5.7,!=0.5.9,<0.6.0,>=0.4.0->langchain-chroma) (2.37.0)\n",
            "Requirement already satisfied: websocket-client!=0.40.0,!=0.41.*,!=0.42.*,>=0.32.0 in /opt/homebrew/lib/python3.12/site-packages (from kubernetes>=28.1.0->chromadb!=0.5.10,!=0.5.11,!=0.5.12,!=0.5.4,!=0.5.5,!=0.5.7,!=0.5.9,<0.6.0,>=0.4.0->langchain-chroma) (1.8.0)\n",
            "Requirement already satisfied: requests-oauthlib in /opt/homebrew/lib/python3.12/site-packages (from kubernetes>=28.1.0->chromadb!=0.5.10,!=0.5.11,!=0.5.12,!=0.5.4,!=0.5.5,!=0.5.7,!=0.5.9,<0.6.0,>=0.4.0->langchain-chroma) (2.0.0)\n",
            "Requirement already satisfied: oauthlib>=3.2.2 in /opt/homebrew/lib/python3.12/site-packages (from kubernetes>=28.1.0->chromadb!=0.5.10,!=0.5.11,!=0.5.12,!=0.5.4,!=0.5.5,!=0.5.7,!=0.5.9,<0.6.0,>=0.4.0->langchain-chroma) (3.2.2)\n",
            "Requirement already satisfied: durationpy>=0.7 in /opt/homebrew/lib/python3.12/site-packages (from kubernetes>=28.1.0->chromadb!=0.5.10,!=0.5.11,!=0.5.12,!=0.5.4,!=0.5.5,!=0.5.7,!=0.5.9,<0.6.0,>=0.4.0->langchain-chroma) (0.9)\n",
            "Requirement already satisfied: coloredlogs in /opt/homebrew/lib/python3.12/site-packages (from onnxruntime>=1.14.1->chromadb!=0.5.10,!=0.5.11,!=0.5.12,!=0.5.4,!=0.5.5,!=0.5.7,!=0.5.9,<0.6.0,>=0.4.0->langchain-chroma) (15.0.1)\n",
            "Requirement already satisfied: flatbuffers in /opt/homebrew/lib/python3.12/site-packages (from onnxruntime>=1.14.1->chromadb!=0.5.10,!=0.5.11,!=0.5.12,!=0.5.4,!=0.5.5,!=0.5.7,!=0.5.9,<0.6.0,>=0.4.0->langchain-chroma) (24.12.23)\n",
            "Requirement already satisfied: protobuf in /opt/homebrew/lib/python3.12/site-packages (from onnxruntime>=1.14.1->chromadb!=0.5.10,!=0.5.11,!=0.5.12,!=0.5.4,!=0.5.5,!=0.5.7,!=0.5.9,<0.6.0,>=0.4.0->langchain-chroma) (5.29.2)\n",
            "Requirement already satisfied: sympy in /opt/homebrew/lib/python3.12/site-packages (from onnxruntime>=1.14.1->chromadb!=0.5.10,!=0.5.11,!=0.5.12,!=0.5.4,!=0.5.5,!=0.5.7,!=0.5.9,<0.6.0,>=0.4.0->langchain-chroma) (1.13.1)\n",
            "Requirement already satisfied: deprecated>=1.2.6 in /opt/homebrew/lib/python3.12/site-packages (from opentelemetry-api>=1.2.0->chromadb!=0.5.10,!=0.5.11,!=0.5.12,!=0.5.4,!=0.5.5,!=0.5.7,!=0.5.9,<0.6.0,>=0.4.0->langchain-chroma) (1.2.15)\n",
            "Requirement already satisfied: importlib-metadata<=8.5.0,>=6.0 in /opt/homebrew/lib/python3.12/site-packages (from opentelemetry-api>=1.2.0->chromadb!=0.5.10,!=0.5.11,!=0.5.12,!=0.5.4,!=0.5.5,!=0.5.7,!=0.5.9,<0.6.0,>=0.4.0->langchain-chroma) (8.5.0)\n",
            "Requirement already satisfied: googleapis-common-protos~=1.52 in /opt/homebrew/lib/python3.12/site-packages (from opentelemetry-exporter-otlp-proto-grpc>=1.2.0->chromadb!=0.5.10,!=0.5.11,!=0.5.12,!=0.5.4,!=0.5.5,!=0.5.7,!=0.5.9,<0.6.0,>=0.4.0->langchain-chroma) (1.66.0)\n",
            "Requirement already satisfied: opentelemetry-exporter-otlp-proto-common==1.29.0 in /opt/homebrew/lib/python3.12/site-packages (from opentelemetry-exporter-otlp-proto-grpc>=1.2.0->chromadb!=0.5.10,!=0.5.11,!=0.5.12,!=0.5.4,!=0.5.5,!=0.5.7,!=0.5.9,<0.6.0,>=0.4.0->langchain-chroma) (1.29.0)\n",
            "Requirement already satisfied: opentelemetry-proto==1.29.0 in /opt/homebrew/lib/python3.12/site-packages (from opentelemetry-exporter-otlp-proto-grpc>=1.2.0->chromadb!=0.5.10,!=0.5.11,!=0.5.12,!=0.5.4,!=0.5.5,!=0.5.7,!=0.5.9,<0.6.0,>=0.4.0->langchain-chroma) (1.29.0)\n",
            "Requirement already satisfied: opentelemetry-instrumentation-asgi==0.50b0 in /opt/homebrew/lib/python3.12/site-packages (from opentelemetry-instrumentation-fastapi>=0.41b0->chromadb!=0.5.10,!=0.5.11,!=0.5.12,!=0.5.4,!=0.5.5,!=0.5.7,!=0.5.9,<0.6.0,>=0.4.0->langchain-chroma) (0.50b0)\n",
            "Requirement already satisfied: opentelemetry-instrumentation==0.50b0 in /opt/homebrew/lib/python3.12/site-packages (from opentelemetry-instrumentation-fastapi>=0.41b0->chromadb!=0.5.10,!=0.5.11,!=0.5.12,!=0.5.4,!=0.5.5,!=0.5.7,!=0.5.9,<0.6.0,>=0.4.0->langchain-chroma) (0.50b0)\n",
            "Requirement already satisfied: opentelemetry-semantic-conventions==0.50b0 in /opt/homebrew/lib/python3.12/site-packages (from opentelemetry-instrumentation-fastapi>=0.41b0->chromadb!=0.5.10,!=0.5.11,!=0.5.12,!=0.5.4,!=0.5.5,!=0.5.7,!=0.5.9,<0.6.0,>=0.4.0->langchain-chroma) (0.50b0)\n",
            "Requirement already satisfied: opentelemetry-util-http==0.50b0 in /opt/homebrew/lib/python3.12/site-packages (from opentelemetry-instrumentation-fastapi>=0.41b0->chromadb!=0.5.10,!=0.5.11,!=0.5.12,!=0.5.4,!=0.5.5,!=0.5.7,!=0.5.9,<0.6.0,>=0.4.0->langchain-chroma) (0.50b0)\n",
            "Requirement already satisfied: wrapt<2.0.0,>=1.0.0 in /opt/homebrew/lib/python3.12/site-packages (from opentelemetry-instrumentation==0.50b0->opentelemetry-instrumentation-fastapi>=0.41b0->chromadb!=0.5.10,!=0.5.11,!=0.5.12,!=0.5.4,!=0.5.5,!=0.5.7,!=0.5.9,<0.6.0,>=0.4.0->langchain-chroma) (1.17.1)\n",
            "Requirement already satisfied: asgiref~=3.0 in /opt/homebrew/lib/python3.12/site-packages (from opentelemetry-instrumentation-asgi==0.50b0->opentelemetry-instrumentation-fastapi>=0.41b0->chromadb!=0.5.10,!=0.5.11,!=0.5.12,!=0.5.4,!=0.5.5,!=0.5.7,!=0.5.9,<0.6.0,>=0.4.0->langchain-chroma) (3.8.1)\n",
            "Requirement already satisfied: monotonic>=1.5 in /opt/homebrew/lib/python3.12/site-packages (from posthog>=2.4.0->chromadb!=0.5.10,!=0.5.11,!=0.5.12,!=0.5.4,!=0.5.5,!=0.5.7,!=0.5.9,<0.6.0,>=0.4.0->langchain-chroma) (1.6)\n",
            "Requirement already satisfied: backoff>=1.10.0 in /opt/homebrew/lib/python3.12/site-packages (from posthog>=2.4.0->chromadb!=0.5.10,!=0.5.11,!=0.5.12,!=0.5.4,!=0.5.5,!=0.5.7,!=0.5.9,<0.6.0,>=0.4.0->langchain-chroma) (2.2.1)\n",
            "Requirement already satisfied: annotated-types>=0.6.0 in /opt/homebrew/lib/python3.12/site-packages (from pydantic>=1.9->chromadb!=0.5.10,!=0.5.11,!=0.5.12,!=0.5.4,!=0.5.5,!=0.5.7,!=0.5.9,<0.6.0,>=0.4.0->langchain-chroma) (0.7.0)\n",
            "Requirement already satisfied: pydantic-core==2.27.2 in /opt/homebrew/lib/python3.12/site-packages (from pydantic>=1.9->chromadb!=0.5.10,!=0.5.11,!=0.5.12,!=0.5.4,!=0.5.5,!=0.5.7,!=0.5.9,<0.6.0,>=0.4.0->langchain-chroma) (2.27.2)\n",
            "Requirement already satisfied: markdown-it-py>=2.2.0 in /opt/homebrew/lib/python3.12/site-packages (from rich>=10.11.0->chromadb!=0.5.10,!=0.5.11,!=0.5.12,!=0.5.4,!=0.5.5,!=0.5.7,!=0.5.9,<0.6.0,>=0.4.0->langchain-chroma) (3.0.0)\n",
            "Requirement already satisfied: pygments<3.0.0,>=2.13.0 in /Users/user/Library/Python/3.12/lib/python/site-packages (from rich>=10.11.0->chromadb!=0.5.10,!=0.5.11,!=0.5.12,!=0.5.4,!=0.5.5,!=0.5.7,!=0.5.9,<0.6.0,>=0.4.0->langchain-chroma) (2.18.0)\n",
            "Requirement already satisfied: huggingface-hub<1.0,>=0.16.4 in /opt/homebrew/lib/python3.12/site-packages (from tokenizers<=0.20.3,>=0.13.2->chromadb!=0.5.10,!=0.5.11,!=0.5.12,!=0.5.4,!=0.5.5,!=0.5.7,!=0.5.9,<0.6.0,>=0.4.0->langchain-chroma) (0.27.0)\n",
            "Requirement already satisfied: click>=8.0.0 in /opt/homebrew/lib/python3.12/site-packages (from typer>=0.9.0->chromadb!=0.5.10,!=0.5.11,!=0.5.12,!=0.5.4,!=0.5.5,!=0.5.7,!=0.5.9,<0.6.0,>=0.4.0->langchain-chroma) (8.1.8)\n",
            "Requirement already satisfied: shellingham>=1.3.0 in /opt/homebrew/lib/python3.12/site-packages (from typer>=0.9.0->chromadb!=0.5.10,!=0.5.11,!=0.5.12,!=0.5.4,!=0.5.5,!=0.5.7,!=0.5.9,<0.6.0,>=0.4.0->langchain-chroma) (1.5.4)\n",
            "Requirement already satisfied: mypy-extensions>=0.3.0 in /opt/homebrew/lib/python3.12/site-packages (from typing-inspect<1,>=0.4.0->dataclasses-json<0.7,>=0.5.7->langchain-community) (1.0.0)\n",
            "Requirement already satisfied: httptools>=0.6.3 in /opt/homebrew/lib/python3.12/site-packages (from uvicorn[standard]>=0.18.3->chromadb!=0.5.10,!=0.5.11,!=0.5.12,!=0.5.4,!=0.5.5,!=0.5.7,!=0.5.9,<0.6.0,>=0.4.0->langchain-chroma) (0.6.4)\n",
            "Requirement already satisfied: uvloop!=0.15.0,!=0.15.1,>=0.14.0 in /opt/homebrew/lib/python3.12/site-packages (from uvicorn[standard]>=0.18.3->chromadb!=0.5.10,!=0.5.11,!=0.5.12,!=0.5.4,!=0.5.5,!=0.5.7,!=0.5.9,<0.6.0,>=0.4.0->langchain-chroma) (0.21.0)\n",
            "Requirement already satisfied: watchfiles>=0.13 in /opt/homebrew/lib/python3.12/site-packages (from uvicorn[standard]>=0.18.3->chromadb!=0.5.10,!=0.5.11,!=0.5.12,!=0.5.4,!=0.5.5,!=0.5.7,!=0.5.9,<0.6.0,>=0.4.0->langchain-chroma) (1.0.4)\n",
            "Requirement already satisfied: websockets>=10.4 in /opt/homebrew/lib/python3.12/site-packages (from uvicorn[standard]>=0.18.3->chromadb!=0.5.10,!=0.5.11,!=0.5.12,!=0.5.4,!=0.5.5,!=0.5.7,!=0.5.9,<0.6.0,>=0.4.0->langchain-chroma) (14.1)\n",
            "Requirement already satisfied: cachetools<6.0,>=2.0.0 in /opt/homebrew/lib/python3.12/site-packages (from google-auth>=1.0.1->kubernetes>=28.1.0->chromadb!=0.5.10,!=0.5.11,!=0.5.12,!=0.5.4,!=0.5.5,!=0.5.7,!=0.5.9,<0.6.0,>=0.4.0->langchain-chroma) (5.5.0)\n",
            "Requirement already satisfied: pyasn1-modules>=0.2.1 in /opt/homebrew/lib/python3.12/site-packages (from google-auth>=1.0.1->kubernetes>=28.1.0->chromadb!=0.5.10,!=0.5.11,!=0.5.12,!=0.5.4,!=0.5.5,!=0.5.7,!=0.5.9,<0.6.0,>=0.4.0->langchain-chroma) (0.4.1)\n",
            "Requirement already satisfied: rsa<5,>=3.1.4 in /opt/homebrew/lib/python3.12/site-packages (from google-auth>=1.0.1->kubernetes>=28.1.0->chromadb!=0.5.10,!=0.5.11,!=0.5.12,!=0.5.4,!=0.5.5,!=0.5.7,!=0.5.9,<0.6.0,>=0.4.0->langchain-chroma) (4.9)\n",
            "Requirement already satisfied: filelock in /opt/homebrew/lib/python3.12/site-packages (from huggingface-hub<1.0,>=0.16.4->tokenizers<=0.20.3,>=0.13.2->chromadb!=0.5.10,!=0.5.11,!=0.5.12,!=0.5.4,!=0.5.5,!=0.5.7,!=0.5.9,<0.6.0,>=0.4.0->langchain-chroma) (3.16.1)\n",
            "Requirement already satisfied: fsspec>=2023.5.0 in /opt/homebrew/lib/python3.12/site-packages (from huggingface-hub<1.0,>=0.16.4->tokenizers<=0.20.3,>=0.13.2->chromadb!=0.5.10,!=0.5.11,!=0.5.12,!=0.5.4,!=0.5.5,!=0.5.7,!=0.5.9,<0.6.0,>=0.4.0->langchain-chroma) (2024.9.0)\n",
            "Requirement already satisfied: zipp>=3.20 in /opt/homebrew/lib/python3.12/site-packages (from importlib-metadata<=8.5.0,>=6.0->opentelemetry-api>=1.2.0->chromadb!=0.5.10,!=0.5.11,!=0.5.12,!=0.5.4,!=0.5.5,!=0.5.7,!=0.5.9,<0.6.0,>=0.4.0->langchain-chroma) (3.21.0)\n",
            "Requirement already satisfied: mdurl~=0.1 in /opt/homebrew/lib/python3.12/site-packages (from markdown-it-py>=2.2.0->rich>=10.11.0->chromadb!=0.5.10,!=0.5.11,!=0.5.12,!=0.5.4,!=0.5.5,!=0.5.7,!=0.5.9,<0.6.0,>=0.4.0->langchain-chroma) (0.1.2)\n",
            "Requirement already satisfied: humanfriendly>=9.1 in /opt/homebrew/lib/python3.12/site-packages (from coloredlogs->onnxruntime>=1.14.1->chromadb!=0.5.10,!=0.5.11,!=0.5.12,!=0.5.4,!=0.5.5,!=0.5.7,!=0.5.9,<0.6.0,>=0.4.0->langchain-chroma) (10.0)\n",
            "Requirement already satisfied: mpmath<1.4,>=1.1.0 in /opt/homebrew/lib/python3.12/site-packages (from sympy->onnxruntime>=1.14.1->chromadb!=0.5.10,!=0.5.11,!=0.5.12,!=0.5.4,!=0.5.5,!=0.5.7,!=0.5.9,<0.6.0,>=0.4.0->langchain-chroma) (1.3.0)\n",
            "Requirement already satisfied: pyasn1<0.7.0,>=0.4.6 in /opt/homebrew/lib/python3.12/site-packages (from pyasn1-modules>=0.2.1->google-auth>=1.0.1->kubernetes>=28.1.0->chromadb!=0.5.10,!=0.5.11,!=0.5.12,!=0.5.4,!=0.5.5,!=0.5.7,!=0.5.9,<0.6.0,>=0.4.0->langchain-chroma) (0.6.1)\n"
          ]
        }
      ],
      "source": [
        "!pip install langchain-community langchain-chroma langchain-openai bs4 pypdf PyPDF2"
      ]
    },
    {
      "cell_type": "code",
      "execution_count": 30,
      "metadata": {
        "colab": {
          "base_uri": "https://localhost:8080/"
        },
        "id": "lrlcWNMyI0HQ",
        "outputId": "4f5ba242-e76f-4246-a3f3-7c0d6dc7f7cb"
      },
      "outputs": [],
      "source": [
        "from langchain.text_splitter import RecursiveCharacterTextSplitter\n",
        "from langchain.vectorstores import Chroma\n",
        "from langchain.embeddings import OpenAIEmbeddings\n",
        "from langchain_openai import ChatOpenAI\n",
        "from PyPDF2 import PdfReader\n",
        "import requests\n",
        "from io import BytesIO"
      ]
    },
    {
      "cell_type": "code",
      "execution_count": 31,
      "metadata": {
        "id": "gdjtGqsgI2Ub"
      },
      "outputs": [],
      "source": [
        "llm = ChatOpenAI(model=\"gpt-4o-mini\", api_key=\"API_KEY\")"
      ]
    },
    {
      "cell_type": "markdown",
      "metadata": {},
      "source": [
        "## [MY CODE]\n",
        "해당 논무의 PDF 정보를 가져오는 코드입니다."
      ]
    },
    {
      "cell_type": "code",
      "execution_count": 32,
      "metadata": {
        "id": "qhuzvEYGI4Yq"
      },
      "outputs": [],
      "source": [
        "# PDF 파일 로드 (URL에서 로드)\n",
        "pdf_url = \"https://arxiv.org/pdf/2005.11401\"\n",
        "response = requests.get(pdf_url)\n",
        "if response.status_code != 200:\n",
        "    raise ValueError(\"Failed to download PDF from URL.\")\n",
        "\n",
        "pdf_stream = BytesIO(response.content)\n",
        "reader = PdfReader(pdf_stream)"
      ]
    },
    {
      "cell_type": "markdown",
      "metadata": {},
      "source": [
        "## [MY CODE]\n",
        "논문은 Introduce - 실험 - 결과 - references 순서로 이루어졌습니다. 이 reference 참조 항목은 핵심적인 내용이 아니라고 생각하고 오히려 이후 RAG를 통해 정보를 추출할때 겹쳐서 가져와 전체적인 요약에 혼란을 줄수 있는걸 발견했습니다. 따라서 해당 항목은 필터링 하고 제거했습니다."
      ]
    },
    {
      "cell_type": "code",
      "execution_count": 33,
      "metadata": {
        "id": "ewqNBMS_I7zB"
      },
      "outputs": [],
      "source": [
        "# References 이후 내용 제거 함수\n",
        "def filter_references(pages):\n",
        "    \"\"\"References 이후의 내용을 제거한 페이지 리스트 반환\"\"\"\n",
        "    filtered_pages = []\n",
        "    for page in pages:\n",
        "        if \"References\" in page:\n",
        "            break\n",
        "        filtered_pages.append(page)\n",
        "    return filtered_pages\n",
        "\n",
        "# PDF 텍스트 추출 및 References 제거\n",
        "pages = [page.extract_text() for page in reader.pages]\n",
        "filtered_pages = filter_references(pages)"
      ]
    },
    {
      "cell_type": "markdown",
      "metadata": {},
      "source": [
        "## [MY CODE]\n",
        "벡터 스토어에 저장합니다."
      ]
    },
    {
      "cell_type": "code",
      "execution_count": 34,
      "metadata": {},
      "outputs": [],
      "source": [
        "# 텍스트 분할\n",
        "text_splitter = RecursiveCharacterTextSplitter(\n",
        "    chunk_size=1000,\n",
        "    chunk_overlap=200\n",
        ")\n",
        "documents = text_splitter.create_documents(filtered_pages)\n",
        "\n",
        "if not documents:\n",
        "    raise ValueError(\"No text splits were generated. Check the content of the loaded documents.\")\n",
        "\n",
        "# 벡터 스토어 생성\n",
        "vectorstore = Chroma.from_documents(\n",
        "    documents=documents,\n",
        "    embedding=OpenAIEmbeddings(api_key=\"API_KEY\")\n",
        ")"
      ]
    },
    {
      "cell_type": "markdown",
      "metadata": {},
      "source": [
        "## [MY CODE]\n",
        " 1. 주요 아이디어<br/>\n",
        " 2. 실험 및 결과<br/>\n",
        " 3. 결론 <br/>\n",
        " 4. 향후 방향성 및 기대효과<br/>\n",
        " 순서로 gpt에 요청을 할것이기에 해당 항목들을 RAG를 사용하여 조회합니다."
      ]
    },
    {
      "cell_type": "code",
      "execution_count": 35,
      "metadata": {
        "colab": {
          "base_uri": "https://localhost:8080/"
        },
        "id": "dKwUiRrPJMq1",
        "outputId": "2ba93b50-3965-4865-c232-3c4ad39fad7b"
      },
      "outputs": [
        {
          "name": "stdout",
          "output_type": "stream",
          "text": [
            "Retrieved text: ﬁnd evidence for this hypothesis by feeding the BART-only baseline with the partial decoding \"The\n",
            "Sun. BART completes the generation \"The SunAlso Rises\" isanovel bythis author of\"The Sun\n",
            "Also Rises\" indicating the title \"The Sun Also Rises\" is stored in BART’s parameters. Similarly,\n",
            "BART will complete the partial decoding \"The SunAlso Rises\" isanovel bythis author of\"A\n",
            "with \"The SunAlso Rises\" isanovel bythis author of\"AFarewell toArms\" . This example shows\n",
            "how parametric and non-parametric memories work together —the non-parametric component helps\n",
            "to guide the generation, drawing out speciﬁc knowledge stored in the parametric memory.\n",
            "4.4 Fact Veriﬁcation\n",
            "Table 2 shows our results on FEVER. For 3-way classiﬁcation, RAG scores are within 4.3% of\n",
            "state-of-the-art models, which are complex pipeline systems with domain-speciﬁc architectures and\n",
            "substantial engineering, trained using intermediate retrieval supervision, which RAG does not require.\n",
            "6 ﬁnd evidence for this hypothesis by feeding the BART-only baseline with the partial decoding \"The\n",
            "Sun. BART completes the generation \"The SunAlso Rises\" isanovel bythis author of\"The Sun\n",
            "Also Rises\" indicating the title \"The Sun Also Rises\" is stored in BART’s parameters. Similarly,\n",
            "BART will complete the partial decoding \"The SunAlso Rises\" isanovel bythis author of\"A\n",
            "with \"The SunAlso Rises\" isanovel bythis author of\"AFarewell toArms\" . This example shows\n",
            "how parametric and non-parametric memories work together —the non-parametric component helps\n",
            "to guide the generation, drawing out speciﬁc knowledge stored in the parametric memory.\n",
            "4.4 Fact Veriﬁcation\n",
            "Table 2 shows our results on FEVER. For 3-way classiﬁcation, RAG scores are within 4.3% of\n",
            "state-of-the-art models, which are complex pipeline systems with domain-speciﬁc architectures and\n",
            "substantial engineering, trained using intermediate retrieval supervision, which RAG does not require.\n",
            "6 ﬁnd evidence for this hypothesis by feeding the BART-only baseline with the partial decoding\"The\n",
            "Sun. BART completes the generation \"The Sun Also Rises\" is a novel by this author of \"The Sun\n",
            "Also Rises\" indicating the title \"The Sun Also Rises\" is stored in BART’s parameters. Similarly,\n",
            "BART will complete the partial decoding \"The Sun Also Rises\" is a novel by this author of \"A\n",
            "with \"The Sun Also Rises\" is a novel by this author of \"A Farewell to Arms\". This example shows\n",
            "how parametric and non-parametric memories work together—the non-parametric component helps\n",
            "to guide the generation, drawing out speciﬁc knowledge stored in the parametric memory.\n",
            "4.4 Fact Veriﬁcation\n",
            "Table 2 shows our results on FEVER. For 3-way classiﬁcation, RAG scores are within 4.3% of\n",
            "state-of-the-art models, which are complex pipeline systems with domain-speciﬁc architectures and\n",
            "substantial engineering, trained using intermediate retrieval supervision, which RAG does not require.\n",
            "6 https://www.aclweb.org/anthology/P17-1171.\n",
            "[6] Eunsol Choi, Daniel Hewlett, Jakob Uszkoreit, Illia Polosukhin, Alexandre Lacoste, and\n",
            "Jonathan Berant. Coarse-to-ﬁne question answering for long documents. In Proceedings of the\n",
            "55th Annual Meeting of the Association for Computational Linguistics (Volume 1: Long Papers),\n",
            "pages 209–220, Vancouver, Canada, July 2017. Association for Computational Linguistics. doi:\n",
            "10.18653/v1/P17-1020. URL https://www.aclweb.org/anthology/P17-1020.\n",
            "10\n"
          ]
        }
      ],
      "source": [
        "retriever = vectorstore.as_retriever()\n",
        "\n",
        "# 사용자 입력 예시\n",
        "user_input = \"\"\"\n",
        "다음과 같은 순서로 요약 해줘.\n",
        " 1. 주요 아이디어\n",
        " 2. 실험 및 결과\n",
        " 3. 결론 \n",
        " 4. 향후 방향성 및 기대효과\n",
        "\"\"\"\n",
        "\n",
        "# RAG를 활용하여 논문 내용 조회\n",
        "retrieved_docs = retriever.invoke(user_input)\n",
        "retrieved_text = \" \".join([doc.page_content for doc in retrieved_docs])\n",
        "\n",
        "print(\"Retrieved text:\", retrieved_text)"
      ]
    },
    {
      "cell_type": "markdown",
      "metadata": {},
      "source": [
        "## [MY CODE]\n",
        "다음과 같은 프롬프트를 작성했습니다. 첫번째 요약 순서.<br/>\n",
        "1). 요약 순서<br/>\n",
        "1.1) 아이디어는 무엇인지<br/>\n",
        "1.2) 그 아이디어를 증명하기 위한 실험은 무엇을 했는지.<br/>\n",
        "1.3) 결과는 무엇인지<br/>\n",
        "1.4) 향후 방향성 및 기대효과는 무엇인지.<br/>\n",
        "위와 같은 템플릿을 기반으로 진행하였습니다.<br/>\n",
        "<br/>\n",
        "두번째 규칙<br/>\n",
        "1). 각 항목별 3 ~ 5문장으로 가장 가독성이 좋은 문장으로 추출.<br/>\n",
        "2). 항목별로 줄바꿈 실행. 가독성을 위해서<br/>\n",
        "3). 위 양식을 지키지 않으면 패널티를 줘서 해당 양식을 따르도록 유도.<br/>\n",
        "<br/>\n",
        "전체적으로, 프롬프트를 짧고 간결하게 구성하였습니다. 오히려 길게 구성하면 모델별로 다르겠지만 chat gpt4o-mini는 더 안좋은 성능을 발휘하는걸 체험했습니다.<br/>"
      ]
    },
    {
      "cell_type": "code",
      "execution_count": 38,
      "metadata": {
        "colab": {
          "base_uri": "https://localhost:8080/"
        },
        "id": "bqHKsIyUJc_m",
        "outputId": "1a3a5c10-0855-4fd4-850e-77e9a3a6d9d0"
      },
      "outputs": [
        {
          "name": "stdout",
          "output_type": "stream",
          "text": [
            "Generated Summary:\n",
            "1. 주요 아이디어  \n",
            "- 이 연구는 BART 모델의 기억 체계, 즉 매개변수적(parametric) 및 비매개변수적(non-parametric) 기억이 어떻게 상호작용하여 정보를 생성하는지를 탐구한다.  \n",
            "- BART가 불완전한 입력(\"The Sun\")을 받고 이를 완성하는 방식(\"The Sun Also Rises\")은 해당 제목이 모델의 매개변수에 저장되어 있음을 나타낸다.  \n",
            "- 이러한 현상은 비매개변수적 구성 요소가 특정 지식을 이끌어내도록 도와주며, 매개변수적 메모리와의 협력이 이루어짐을 보여준다.  \n",
            "\n",
            "2. 실험 및 결과  \n",
            "- 연구에서는 FEVER 데이터셋을 기반으로 RAG 모델의 성능을 평가하였고, 3-way 분류에서 RAG의 점수가 최신 기술 모델들보다 4.3% 이내의 차이를 보였다.  \n",
            "- 이들 최신 모델은 도메인 특화 아키텍처와 복잡한 파이프라인 시스템을 필요로 하며, 중간 검색 감독을 통해 훈련되는 반면, RAG는 이러한 감독을 요구하지 않는다.  \n",
            "- 실험 결과, BART 모델이 어떻게 정보를 효과적으로 생성하고 완성하는지에 대한 실증적인 증거가 제시되었다.  \n",
            "\n",
            "3. 결론  \n",
            "- BART 모델은 매개변수적 및 비매개변수적 메모리를 통합하여, 정보 생성을 위한 단순하면서도 효과적인 방법을 제공한다.  \n",
            "- 비매개변수적 메모리의 도움으로, 모델이 특정 지식에 기반하여 정확한 문장을 생성할 수 있음을 확인하였다.  \n",
            "- 이 연구는 자연어 처리에서 매개변수적 기억과 비매개변수적 기억의 통합적 접근이 갖는 잠재력을 강조한다.  \n",
            "\n",
            "4. 향후 방향성 및 기대효과  \n",
            "- 향후 연구에서는 비매개변수적 메모리의 더욱 다양한 적용 방법을 탐구하고, 이를 통해 더 정교한 생성 모델을 개발할 수 있을 것으로 기대된다.  \n",
            "- 또한, BART 모델의 성능을 개선하고, 비매개변수적 기억의 기여를 더욱 명확히 하기 위한 실험이 필요하다.  \n",
            "- 이러한 접근은 자연어 처리 분야에서 모델의 일반화 능력을 향상시키는 데 기여할 수 있을 것이다.  \n"
          ]
        }
      ],
      "source": [
        "# 요약 템플릿 설정\n",
        "summary_prompt = f\"\"\"\n",
        "내용: {retrieved_text[:1500]}\n",
        "\n",
        "다음과 같은 순서로 요약 해줘.\n",
        " 1. 주요 아이디어\n",
        " - 핵심 아이디어를 특히 강조해줘.\n",
        " 2. 실험 및 결과\n",
        " - 실험 및 결과는 중요한 부분이니 자세히 요약해줘.\n",
        " 3. 결론\n",
        " 4. 향후 방향성 및 기대효과\n",
        "\n",
        "특히, 각 항목별 요약은 3-5 문장으로 요약해줘. 각 줄별로 줄바꿈 처리를 해줘\n",
        "해당 양식을 지키지 않을시에는 큰 벌점이 주어질거야.\n",
        "\"\"\"\n",
        "\n",
        "# LLM을 사용하여 요약 생성\n",
        "summary = llm(summary_prompt)\n",
        "print(\"Generated Summary:\")\n",
        "print(summary.content)"
      ]
    },
    {
      "cell_type": "markdown",
      "metadata": {},
      "source": [
        "## [MY CODE] GPT 평가 - 95점\n",
        "평가 기준 및 점수 <br/>\n",
        "정확성 (30점):<br/>\n",
        "<br/>\n",
        "논문의 주요 내용을 정확히 반영했는지 평가.<br/>\n",
        "주요 아이디어와 RAG 모델의 성능, 매개변수적 및 비매개변수적 메모리의 역할 등을 정확히 설명했습니다.<br/>\n",
        "그러나 FEVER 외 다른 데이터셋 실험 결과가 생략되어 약간의 정보 손실이 있습니다.<br/>\n",
        "점수: 28/30<br/>\n",
        "간결성 (25점):<br/>\n",
        "<br/>\n",
        "중요한 내용을 간결하고 효과적으로 전달했는지 평가.<br/>\n",
        "불필요한 설명 없이 핵심 내용을 잘 요약했습니다.<br/>\n",
        "점수: 25/25<br/>\n",
        "구조화 (20점):<br/>\n",
        "<br/>\n",
        "논리적이고 체계적으로 구성되었는지 평가.<br/>\n",
        "주요 아이디어, 실험 결과, 결론, 향후 방향성을 명확히 구분하여 논리적인 흐름을 유지했습니다.<br/>\n",
        "점수: 20/20<br/>\n",
        "포괄성 (15점):<br/>\n",
        "<br/>\n",
        "논문의 다양한 측면(방법론, 결과, 결론 등)을 충분히 다뤘는지 평가.<br/>\n",
        "FEVER 데이터셋 외에도 TriviaQA, WebQuestions, Natural Questions 등에서의 성능 비교가 빠져 있어 포괄성이 다소 부족합니다.<br/>\n",
        "점수: 12/15<br/>\n",
        "언어의 명료성 (10점):<br/>\n",
        "<br/>\n",
        "독자가 쉽게 이해할 수 있도록 명확하게 작성되었는지 평가.<br/>\n",
        "간결하고 명확한 언어로 작성되었습니다.<br/>\n",
        "점수: 10/10<br/>\n",
        "총점: 95/100<br/>\n",
        "개선 제안<br/>\n",
        "실험 및 결과 부분에서 다른 데이터셋(TriviaQA, WebQuestions, Natural Questions 등)의 결과를 간략히 언급하여 포괄성을 높이는 것이 좋습니다.<br/>\n",
        "향후 방향성에서 RAG 모델의 실제 활용 사례(예: 실시간 정보 업데이트 가능성)를 더 구체적으로 언급하면 더욱 완성도 높은 요약이 될 것입니다.<br/>"
      ]
    }
  ],
  "metadata": {
    "colab": {
      "provenance": []
    },
    "kernelspec": {
      "display_name": "Python 3",
      "name": "python3"
    },
    "language_info": {
      "codemirror_mode": {
        "name": "ipython",
        "version": 3
      },
      "file_extension": ".py",
      "mimetype": "text/x-python",
      "name": "python",
      "nbconvert_exporter": "python",
      "pygments_lexer": "ipython3",
      "version": "3.12.8"
    }
  },
  "nbformat": 4,
  "nbformat_minor": 0
}
