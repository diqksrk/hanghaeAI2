{
 "cells": [
  {
   "cell_type": "markdown",
   "metadata": {
    "id": "sbgz49PvHhLt"
   },
   "source": [
    "# 기본과제: DistilBERT로 뉴스 기사 분류 모델 학습하기\n",
    "\n",
    "이번 실습에서는 pre-trained된 DistilBERT를 불러와 이전 주차 실습에서 사용하던 뉴스 기사 분류 모델 문제에 적용합니다. 먼저 필요한 library들을 불러옵니다."
   ]
  },
  {
   "cell_type": "code",
   "execution_count": 26,
   "metadata": {
    "colab": {
     "base_uri": "https://localhost:8080/"
    },
    "collapsed": true,
    "executionInfo": {
     "elapsed": 4749,
     "status": "ok",
     "timestamp": 1725187635059,
     "user": {
      "displayName": "조승혁",
      "userId": "15759752471844115325"
     },
     "user_tz": -540
    },
    "id": "1LqgujQUbv6X",
    "outputId": "f8faaad2-ac05-401b-c8f1-45ec07cbb71b"
   },
   "outputs": [
    {
     "name": "stderr",
     "output_type": "stream",
     "text": [
      "huggingface/tokenizers: The current process just got forked, after parallelism has already been used. Disabling parallelism to avoid deadlocks...\n",
      "To disable this warning, you can either:\n",
      "\t- Avoid using `tokenizers` before the fork if possible\n",
      "\t- Explicitly set the environment variable TOKENIZERS_PARALLELISM=(true | false)\n"
     ]
    },
    {
     "name": "stdout",
     "output_type": "stream",
     "text": [
      "Requirement already satisfied: tqdm in /opt/homebrew/lib/python3.12/site-packages (4.67.1)\n",
      "Requirement already satisfied: boto3 in /opt/homebrew/lib/python3.12/site-packages (1.35.90)\n",
      "Requirement already satisfied: requests in /opt/homebrew/lib/python3.12/site-packages (2.32.3)\n",
      "Requirement already satisfied: regex in /opt/homebrew/lib/python3.12/site-packages (2024.11.6)\n",
      "Requirement already satisfied: sentencepiece in /opt/homebrew/lib/python3.12/site-packages (0.2.0)\n",
      "Requirement already satisfied: sacremoses in /opt/homebrew/lib/python3.12/site-packages (0.1.1)\n",
      "Requirement already satisfied: dataset in /opt/homebrew/lib/python3.12/site-packages (1.6.2)\n",
      "Requirement already satisfied: torch in /opt/homebrew/lib/python3.12/site-packages (2.5.1)\n",
      "Requirement already satisfied: torchvision in /opt/homebrew/lib/python3.12/site-packages (0.20.1)\n",
      "Requirement already satisfied: torchaudio in /opt/homebrew/lib/python3.12/site-packages (2.5.1)\n",
      "Requirement already satisfied: matplotlib in /opt/homebrew/lib/python3.12/site-packages (3.10.0)\n",
      "Requirement already satisfied: botocore<1.36.0,>=1.35.90 in /opt/homebrew/lib/python3.12/site-packages (from boto3) (1.35.90)\n",
      "Requirement already satisfied: jmespath<2.0.0,>=0.7.1 in /opt/homebrew/lib/python3.12/site-packages (from boto3) (1.0.1)\n",
      "Requirement already satisfied: s3transfer<0.11.0,>=0.10.0 in /opt/homebrew/lib/python3.12/site-packages (from boto3) (0.10.4)\n",
      "Requirement already satisfied: charset-normalizer<4,>=2 in /opt/homebrew/lib/python3.12/site-packages (from requests) (3.4.1)\n",
      "Requirement already satisfied: idna<4,>=2.5 in /opt/homebrew/lib/python3.12/site-packages (from requests) (3.10)\n",
      "Requirement already satisfied: urllib3<3,>=1.21.1 in /opt/homebrew/lib/python3.12/site-packages (from requests) (2.3.0)\n",
      "Requirement already satisfied: certifi>=2017.4.17 in /opt/homebrew/lib/python3.12/site-packages (from requests) (2024.12.14)\n",
      "Requirement already satisfied: click in /opt/homebrew/lib/python3.12/site-packages (from sacremoses) (8.1.8)\n",
      "Requirement already satisfied: joblib in /opt/homebrew/lib/python3.12/site-packages (from sacremoses) (1.4.2)\n",
      "Requirement already satisfied: sqlalchemy<2.0.0,>=1.3.2 in /opt/homebrew/lib/python3.12/site-packages (from dataset) (1.4.54)\n",
      "Requirement already satisfied: alembic>=0.6.2 in /opt/homebrew/lib/python3.12/site-packages (from dataset) (1.14.0)\n",
      "Requirement already satisfied: banal>=1.0.1 in /opt/homebrew/lib/python3.12/site-packages (from dataset) (1.0.6)\n",
      "Requirement already satisfied: filelock in /opt/homebrew/lib/python3.12/site-packages (from torch) (3.16.1)\n",
      "Requirement already satisfied: typing-extensions>=4.8.0 in /opt/homebrew/lib/python3.12/site-packages (from torch) (4.12.2)\n",
      "Requirement already satisfied: networkx in /opt/homebrew/lib/python3.12/site-packages (from torch) (3.4.2)\n",
      "Requirement already satisfied: jinja2 in /opt/homebrew/lib/python3.12/site-packages (from torch) (3.1.5)\n",
      "Requirement already satisfied: fsspec in /opt/homebrew/lib/python3.12/site-packages (from torch) (2024.9.0)\n",
      "Requirement already satisfied: setuptools in /opt/homebrew/lib/python3.12/site-packages (from torch) (75.6.0)\n",
      "Requirement already satisfied: sympy==1.13.1 in /opt/homebrew/lib/python3.12/site-packages (from torch) (1.13.1)\n",
      "Requirement already satisfied: mpmath<1.4,>=1.1.0 in /opt/homebrew/lib/python3.12/site-packages (from sympy==1.13.1->torch) (1.3.0)\n",
      "Requirement already satisfied: numpy in /opt/homebrew/lib/python3.12/site-packages (from torchvision) (2.2.1)\n",
      "Requirement already satisfied: pillow!=8.3.*,>=5.3.0 in /opt/homebrew/lib/python3.12/site-packages (from torchvision) (11.0.0)\n",
      "Requirement already satisfied: contourpy>=1.0.1 in /opt/homebrew/lib/python3.12/site-packages (from matplotlib) (1.3.1)\n",
      "Requirement already satisfied: cycler>=0.10 in /opt/homebrew/lib/python3.12/site-packages (from matplotlib) (0.12.1)\n",
      "Requirement already satisfied: fonttools>=4.22.0 in /opt/homebrew/lib/python3.12/site-packages (from matplotlib) (4.55.3)\n",
      "Requirement already satisfied: kiwisolver>=1.3.1 in /opt/homebrew/lib/python3.12/site-packages (from matplotlib) (1.4.8)\n",
      "Requirement already satisfied: packaging>=20.0 in /Users/user/Library/Python/3.12/lib/python/site-packages (from matplotlib) (24.2)\n",
      "Requirement already satisfied: pyparsing>=2.3.1 in /opt/homebrew/lib/python3.12/site-packages (from matplotlib) (3.2.0)\n",
      "Requirement already satisfied: python-dateutil>=2.7 in /Users/user/Library/Python/3.12/lib/python/site-packages (from matplotlib) (2.9.0.post0)\n",
      "Requirement already satisfied: Mako in /opt/homebrew/lib/python3.12/site-packages (from alembic>=0.6.2->dataset) (1.3.8)\n",
      "Requirement already satisfied: six>=1.5 in /Users/user/Library/Python/3.12/lib/python/site-packages (from python-dateutil>=2.7->matplotlib) (1.17.0)\n",
      "Requirement already satisfied: MarkupSafe>=2.0 in /opt/homebrew/lib/python3.12/site-packages (from jinja2->torch) (3.0.2)\n"
     ]
    }
   ],
   "source": [
    "!pip install tqdm boto3 requests regex sentencepiece sacremoses dataset torch torchvision torchaudio matplotlib"
   ]
  },
  {
   "cell_type": "markdown",
   "metadata": {},
   "source": [
    "그 후, 우리가 사용하는 DistilBERT pre-training 때 사용한 tokenizer를 불러옵니다."
   ]
  },
  {
   "cell_type": "code",
   "execution_count": 27,
   "metadata": {},
   "outputs": [
    {
     "name": "stderr",
     "output_type": "stream",
     "text": [
      "Using cache found in /Users/user/.cache/torch/hub/huggingface_pytorch-transformers_main\n"
     ]
    }
   ],
   "source": [
    "import torch\n",
    "from datasets import load_dataset\n",
    "from torch.utils.data import DataLoader\n",
    "\n",
    "tokenizer = torch.hub.load('huggingface/pytorch-transformers', 'tokenizer', 'distilbert-base-uncased')"
   ]
  },
  {
   "cell_type": "markdown",
   "metadata": {
    "id": "6YP3FxG9IF7O"
   },
   "source": [
    "## [MY CODE] AG_News dataset 준비\n",
    "Huggingface dataset의 fancyzhx/ag_news를 load합니다.\n",
    "\n",
    "collate_fn 함수를 수정해서, Truncation과 관련된 부분들을 지웁니다."
   ]
  },
  {
   "cell_type": "code",
   "execution_count": 3,
   "metadata": {
    "colab": {
     "base_uri": "https://localhost:8080/"
    },
    "executionInfo": {
     "elapsed": 7935,
     "status": "ok",
     "timestamp": 1725187642992,
     "user": {
      "displayName": "조승혁",
      "userId": "15759752471844115325"
     },
     "user_tz": -540
    },
    "id": "6lGiZUoPby6e",
    "outputId": "592b19ee-1892-4821-fcef-24fe40cc185f"
   },
   "outputs": [],
   "source": [
    "import torch\n",
    "from datasets import load_dataset\n",
    "from torch.utils.data import DataLoader\n",
    "\n",
    "ds = load_dataset('fancyzhx/ag_news')\n",
    "\n",
    "def collate_fn(batch):\n",
    "    max_len = 400\n",
    "    texts, labels = [], []\n",
    "    for row in batch:\n",
    "        labels.append(row['label'])\n",
    "        texts.append(row['text'])\n",
    "\n",
    "    # Truncation 관련 부분 제거, max_length는 유지\n",
    "    texts = torch.LongTensor(tokenizer(texts, padding=True, max_length=max_len).input_ids)\n",
    "    labels = torch.LongTensor(labels)\n",
    "\n",
    "    return texts, labels\n",
    "\n",
    "train_loader = DataLoader(\n",
    "    ds['train'], batch_size=64, shuffle=True, collate_fn=collate_fn\n",
    ")\n",
    "test_loader = DataLoader(\n",
    "    ds['test'], batch_size=64, shuffle=False, collate_fn=collate_fn\n",
    ")"
   ]
  },
  {
   "cell_type": "markdown",
   "metadata": {},
   "source": [
    "## [MY CODE] 데이터 확인\n",
    "해당 ds에 어떤 데이터가 존재하는지 데이터를 확인합니다."
   ]
  },
  {
   "cell_type": "code",
   "execution_count": 4,
   "metadata": {},
   "outputs": [
    {
     "name": "stdout",
     "output_type": "stream",
     "text": [
      "{'text': \"Wall St. Bears Claw Back Into the Black (Reuters) Reuters - Short-sellers, Wall Street's dwindling\\\\band of ultra-cynics, are seeing green again.\", 'label': 2}\n",
      "{'text': 'Carlyle Looks Toward Commercial Aerospace (Reuters) Reuters - Private investment firm Carlyle Group,\\\\which has a reputation for making well-timed and occasionally\\\\controversial plays in the defense industry, has quietly placed\\\\its bets on another part of the market.', 'label': 2}\n",
      "{'text': \"Oil and Economy Cloud Stocks' Outlook (Reuters) Reuters - Soaring crude prices plus worries\\\\about the economy and the outlook for earnings are expected to\\\\hang over the stock market next week during the depth of the\\\\summer doldrums.\", 'label': 2}\n",
      "{'text': 'Iraq Halts Oil Exports from Main Southern Pipeline (Reuters) Reuters - Authorities have halted oil export\\\\flows from the main pipeline in southern Iraq after\\\\intelligence showed a rebel militia could strike\\\\infrastructure, an oil official said on Saturday.', 'label': 2}\n",
      "{'text': 'Oil prices soar to all-time record, posing new menace to US economy (AFP) AFP - Tearaway world oil prices, toppling records and straining wallets, present a new economic menace barely three months before the US presidential elections.', 'label': 2}\n"
     ]
    }
   ],
   "source": [
    "# 처음 5개의 데이터를 확인\n",
    "for i in range(5):\n",
    "    print(ds['train'][i])"
   ]
  },
  {
   "cell_type": "markdown",
   "metadata": {
    "id": "bF34XkoYIeEm"
   },
   "source": [
    "## [MY CODE] ds output 라벨 수 확인\n",
    "분류 문제로 변경되었기 때문에, output을 class 숫자로 변경해야 합니다. 분류 모델의 대상이 될 class의 수(라벨 수)로 output이 형성되어야 하기 때문에, 먼저 해당 dataset의 라벨수 즉, 클래스 수를 확인합니다."
   ]
  },
  {
   "cell_type": "code",
   "execution_count": 5,
   "metadata": {
    "colab": {
     "base_uri": "https://localhost:8080/"
    },
    "executionInfo": {
     "elapsed": 2063,
     "status": "ok",
     "timestamp": 1725187649994,
     "user": {
      "displayName": "조승혁",
      "userId": "15759752471844115325"
     },
     "user_tz": -540
    },
    "id": "HJaUp2Vob0U-",
    "outputId": "4cabca2b-06ce-480c-d52a-1381a955464b"
   },
   "outputs": [
    {
     "name": "stdout",
     "output_type": "stream",
     "text": [
      "클래스 수: 4\n",
      "고유 라벨: {0, 1, 2, 3}\n"
     ]
    }
   ],
   "source": [
    "# 고유한 라벨 확인\n",
    "unique_labels = set(ds['train']['label'])\n",
    "num_classes = len(unique_labels)\n",
    "\n",
    "print(f\"클래스 수: {num_classes}\")\n",
    "print(f\"고유 라벨: {unique_labels}\")"
   ]
  },
  {
   "cell_type": "markdown",
   "metadata": {
    "id": "uh-tqY8WInQt"
   },
   "source": [
    "## [MY CODE] Classifier output 수정\n",
    "위에서 확인한 클래스 수로 TextClassifier model의 output을 변경합니다."
   ]
  },
  {
   "cell_type": "code",
   "execution_count": 6,
   "metadata": {
    "colab": {
     "base_uri": "https://localhost:8080/"
    },
    "executionInfo": {
     "elapsed": 529,
     "status": "ok",
     "timestamp": 1725187650520,
     "user": {
      "displayName": "조승혁",
      "userId": "15759752471844115325"
     },
     "user_tz": -540
    },
    "id": "xW7ETZQzzNp2",
    "outputId": "acae0d36-0b4a-4c7c-a0cd-5171e7158cf2"
   },
   "outputs": [
    {
     "name": "stderr",
     "output_type": "stream",
     "text": [
      "Using cache found in /Users/user/.cache/torch/hub/huggingface_pytorch-transformers_main\n"
     ]
    }
   ],
   "source": [
    "from torch import nn\n",
    "\n",
    "class TextClassifier(nn.Module):\n",
    "    def __init__(self, num_classes):\n",
    "        super().__init__()\n",
    "\n",
    "        self.encoder = torch.hub.load('huggingface/pytorch-transformers', 'model', 'distilbert-base-uncased')\n",
    "        self.classifier = nn.Linear(768, num_classes)\n",
    "\n",
    "    def forward(self, x):\n",
    "        x = self.encoder(x)['last_hidden_state']\n",
    "        x = self.classifier(x[:, 0])\n",
    "\n",
    "        return x\n",
    "    \n",
    "num_classes = len(unique_labels)\n",
    "model = TextClassifier(num_classes)    "
   ]
  },
  {
   "cell_type": "markdown",
   "metadata": {
    "id": "_hFvSis0JLju"
   },
   "source": [
    "## [MY CODE] 손실 함수 수정\n",
    "분류 문제의 손실함수인 CrossEntropyLoss로 손실함수를 수정합니다."
   ]
  },
  {
   "cell_type": "code",
   "execution_count": 7,
   "metadata": {
    "id": "uyTciaPZ0KYo"
   },
   "outputs": [],
   "source": [
    "loss_fn = nn.CrossEntropyLoss()"
   ]
  },
  {
   "cell_type": "code",
   "execution_count": 8,
   "metadata": {},
   "outputs": [],
   "source": [
    "for param in model.encoder.parameters():\n",
    "  param.requires_grad = False"
   ]
  },
  {
   "cell_type": "markdown",
   "metadata": {
    "id": "hU7BWEbgJeKm"
   },
   "source": [
    "위의 코드는 `encoder`에 해당하는 parameter들의 `requires_grad`를 `False`로 설정하는 모습입니다.\n",
    "`requires_grad`를 `False`로 두는 경우, gradient 계산 및 업데이트가 이루어지지 않아 결과적으로 학습이 되지 않습니다.\n",
    "즉, 마지막 `classifier`에 해당하는 linear layer만 학습이 이루어집니다.\n",
    "이런 식으로 특정 부분들을 freeze하게 되면 효율적으로 학습을 할 수 있습니다."
   ]
  },
  {
   "cell_type": "markdown",
   "metadata": {},
   "source": [
    "## [MY CODE] accuracy 함수도 classification에 맞춰 수정\n",
    "기존과 다르게, 여러 클래스에 대한 확률 분포를 나타내므로 argmax 함수로 수정하여 정확도를 측정합니다."
   ]
  },
  {
   "cell_type": "code",
   "execution_count": 28,
   "metadata": {},
   "outputs": [],
   "source": [
    "def accuracy(model, dataloader):\n",
    "  cnt = 0\n",
    "  acc = 0\n",
    "\n",
    "  for data in dataloader:\n",
    "    inputs, labels = data\n",
    "    inputs, labels = inputs.to(device), labels.to(device)\n",
    "\n",
    "    preds = model(inputs)\n",
    "    preds = torch.argmax(preds, dim=-1)\n",
    "    # preds = (preds > 0).long()[..., 0]\n",
    "\n",
    "    cnt += labels.shape[0]\n",
    "    acc += (labels == preds).sum().item()\n",
    "\n",
    "  return acc / cnt"
   ]
  },
  {
   "cell_type": "markdown",
   "metadata": {},
   "source": [
    "마지막으로 이전과 같은 코드를 사용하여 학습 결과를 확인해봅시다.\n",
    "\n",
    "분류 문재이므로, label을 long() 타입으로 model(inputs)[..., 0]을 전체 출력 차원을 활용하도록 model(inputs) 으로 변경합니다."
   ]
  },
  {
   "cell_type": "code",
   "execution_count": 31,
   "metadata": {
    "colab": {
     "base_uri": "https://localhost:8080/"
    },
    "executionInfo": {
     "elapsed": 3299956,
     "status": "ok",
     "timestamp": 1725190950475,
     "user": {
      "displayName": "조승혁",
      "userId": "15759752471844115325"
     },
     "user_tz": -540
    },
    "id": "XvvaAEwCznt-",
    "outputId": "3363b8ca-7695-493f-96a0-5aa6b52d1d60"
   },
   "outputs": [
    {
     "name": "stderr",
     "output_type": "stream",
     "text": [
      "/opt/homebrew/lib/python3.12/site-packages/transformers/tokenization_utils_base.py:2691: UserWarning: `max_length` is ignored when `padding`=`True` and there is no truncation strategy. To pad to max length, use `padding='max_length'`.\n",
      "  warnings.warn(\n"
     ]
    },
    {
     "name": "stdout",
     "output_type": "stream",
     "text": [
      "Epoch   0 | Train Loss: 716.0134\n",
      "=========> Train acc: 0.884 | Test acc: 0.878| Duration: 1256.64 seconds\n",
      "Epoch   1 | Train Loss: 683.9905\n",
      "=========> Train acc: 0.886 | Test acc: 0.882| Duration: 1267.49 seconds\n",
      "Epoch   2 | Train Loss: 666.3999\n",
      "=========> Train acc: 0.887 | Test acc: 0.885| Duration: 1237.73 seconds\n",
      "Epoch   3 | Train Loss: 657.4530\n",
      "=========> Train acc: 0.889 | Test acc: 0.886| Duration: 1267.91 seconds\n",
      "Epoch   4 | Train Loss: 649.6620\n",
      "=========> Train acc: 0.891 | Test acc: 0.887| Duration: 1257.18 seconds\n",
      "Epoch   5 | Train Loss: 643.3723\n",
      "=========> Train acc: 0.891 | Test acc: 0.889| Duration: 1262.70 seconds\n",
      "Epoch   6 | Train Loss: 643.8419\n",
      "=========> Train acc: 0.891 | Test acc: 0.888| Duration: 1258.69 seconds\n",
      "Epoch   7 | Train Loss: 640.1441\n",
      "=========> Train acc: 0.892 | Test acc: 0.890| Duration: 1250.21 seconds\n",
      "Epoch   8 | Train Loss: 635.9692\n",
      "=========> Train acc: 0.893 | Test acc: 0.890| Duration: 1236.33 seconds\n",
      "Epoch   9 | Train Loss: 632.2616\n",
      "=========> Train acc: 0.892 | Test acc: 0.891| Duration: 1216.57 seconds\n"
     ]
    }
   ],
   "source": [
    "import time\n",
    "from torch.optim import Adam\n",
    "import numpy as np\n",
    "\n",
    "device = torch.device(\"mps\")\n",
    "lr = 0.001\n",
    "model = model.to(device)\n",
    "train_acc_list = []\n",
    "test_acc_list = []\n",
    "\n",
    "optimizer = Adam(model.parameters(), lr=lr)\n",
    "n_epochs = 10\n",
    "\n",
    "for epoch in range(n_epochs):\n",
    "  start_time = time.time()  # epoch 시작 시간 기록\n",
    "  total_loss = 0.\n",
    "  model.train()\n",
    "  for data in train_loader:\n",
    "    model.zero_grad()\n",
    "    inputs, labels = data\n",
    "    inputs, labels = inputs.to(device), labels.to(device).long()\n",
    "\n",
    "    preds = model(inputs)\n",
    "    loss = loss_fn(preds, labels)\n",
    "    loss.backward()\n",
    "    optimizer.step()\n",
    "\n",
    "    total_loss += loss.item()\n",
    "  print(f\"Epoch {epoch:3d} | Train Loss: {total_loss:.4f}\")\n",
    "\n",
    "  with torch.no_grad():\n",
    "    model.eval()\n",
    "    train_acc = accuracy(model, train_loader)\n",
    "    test_acc = accuracy(model, test_loader)\n",
    "    train_acc_list.append(train_acc)\n",
    "    test_acc_list.append(test_acc)\n",
    "    end_time = time.time()  # epoch 끝 시간 기록\n",
    "    epoch_duration = end_time - start_time  # 걸린 시간 계산\n",
    "    print(f\"=========> Train acc: {train_acc:.3f} | Test acc: {test_acc:.3f}| Duration: {epoch_duration:.2f} seconds\")"
   ]
  },
  {
   "cell_type": "markdown",
   "metadata": {
    "id": "rfFUkEM1ZWeG"
   },
   "source": [
    "## [MY CODE]\n",
    "그래프를 통해 위의 전반적인 측정 결과를 확인합니다."
   ]
  },
  {
   "cell_type": "code",
   "execution_count": 32,
   "metadata": {
    "id": "Foks5u95ZQ1_"
   },
   "outputs": [
    {
     "data": {
      "image/png": "[encoded data removed]",
      "text/plain": [
       "<Figure size 640x480 with 1 Axes>"
      ]
     },
     "metadata": {},
     "output_type": "display_data"
    }
   ],
   "source": [
    "import matplotlib.pyplot as plt\n",
    "\n",
    "def plot_acc(train_acc_list, test_acc_list, label1='train_acc', label2='test_acc'):\n",
    "    x = np.arange(len(train_acc_list))\n",
    "\n",
    "    plt.plot(x, train_acc_list, label=label1)\n",
    "    plt.plot(x, test_acc_list, label=label2)\n",
    "    plt.legend()\n",
    "    plt.show()\n",
    "\n",
    "plot_acc(train_acc_list, test_acc_list)"
   ]
  },
  {
   "cell_type": "code",
   "execution_count": 33,
   "metadata": {},
   "outputs": [
    {
     "data": {
      "text/plain": [
       "=========================================================================================================\n",
       "Layer (type:depth-idx)                                  Output Shape              Param #\n",
       "=========================================================================================================\n",
       "TextClassifier                                          [64, 4]                   --\n",
       "├─DistilBertModel: 1-1                                  [64, 400, 768]            --\n",
       "│    └─Embeddings: 2-1                                  [64, 400, 768]            --\n",
       "│    │    └─Embedding: 3-1                              [64, 400, 768]            (23,440,896)\n",
       "│    │    └─Embedding: 3-2                              [1, 400, 768]             (393,216)\n",
       "│    │    └─LayerNorm: 3-3                              [64, 400, 768]            (1,536)\n",
       "│    │    └─Dropout: 3-4                                [64, 400, 768]            --\n",
       "│    └─Transformer: 2-2                                 [64, 400, 768]            --\n",
       "│    │    └─ModuleList: 3-5                             --                        (42,527,232)\n",
       "├─Linear: 1-2                                           [64, 4]                   3,076\n",
       "=========================================================================================================\n",
       "Total params: 66,365,956\n",
       "Trainable params: 3,076\n",
       "Non-trainable params: 66,362,880\n",
       "Total mult-adds (Units.GIGABYTES): 4.22\n",
       "=========================================================================================================\n",
       "Input size (MB): 0.20\n",
       "Forward/backward pass size (MB): 10697.93\n",
       "Params size (MB): 265.46\n",
       "Estimated Total Size (MB): 10963.60\n",
       "========================================================================================================="
      ]
     },
     "execution_count": 33,
     "metadata": {},
     "output_type": "execute_result"
    }
   ],
   "source": [
    "from torchinfo import summary\n",
    "\n",
    "# 모델 정보 출력\n",
    "summary(model, input_size=(64, 400), dtypes=[torch.int64])"
   ]
  }
 ],
 "metadata": {
  "accelerator": "GPU",
  "colab": {
   "gpuType": "T4",
   "provenance": [
    {
     "file_id": "1Q8Co2FWHxjftQw3hZmk4SjF3lyse4MZR",
     "timestamp": 1735370525518
    }
   ]
  },
  "kernelspec": {
   "display_name": "Python 3",
   "name": "python3"
  },
  "language_info": {
   "codemirror_mode": {
    "name": "ipython",
    "version": 3
   },
   "file_extension": ".py",
   "mimetype": "text/x-python",
   "name": "python",
   "nbconvert_exporter": "python",
   "pygments_lexer": "ipython3",
   "version": "3.12.8"
  }
 },
 "nbformat": 4,
 "nbformat_minor": 0
}
